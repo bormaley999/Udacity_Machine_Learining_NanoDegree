{
 "cells": [
  {
   "cell_type": "markdown",
   "metadata": {},
   "source": [
    "# Creating a Sentiment Analysis Web App\n",
    "## Using PyTorch and SageMaker\n",
    "\n",
    "_Deep Learning Nanodegree Program | Deployment_\n",
    "\n",
    "---\n",
    "\n",
    "Now that we have a basic understanding of how SageMaker works we will try to use it to construct a complete project from end to end. Our goal will be to have a simple web page which a user can use to enter a movie review. The web page will then send the review off to our deployed model which will predict the sentiment of the entered review.\n",
    "\n",
    "## Instructions\n",
    "\n",
    "Some template code has already been provided for you, and you will need to implement additional functionality to successfully complete this notebook. You will not need to modify the included code beyond what is requested. Sections that begin with '**TODO**' in the header indicate that you need to complete or implement some portion within them. Instructions will be provided for each section and the specifics of the implementation are marked in the code block with a `# TODO: ...` comment. Please be sure to read the instructions carefully!\n",
    "\n",
    "In addition to implementing code, there will be questions for you to answer which relate to the task and your implementation. Each section where you will answer a question is preceded by a '**Question:**' header. Carefully read each question and provide your answer below the '**Answer:**' header by editing the Markdown cell.\n",
    "\n",
    "> **Note**: Code and Markdown cells can be executed using the **Shift+Enter** keyboard shortcut. In addition, a cell can be edited by typically clicking it (double-click for Markdown cells) or by pressing **Enter** while it is highlighted.\n",
    "\n",
    "## General Outline\n",
    "\n",
    "Recall the general outline for SageMaker projects using a notebook instance.\n",
    "\n",
    "1. Download or otherwise retrieve the data.\n",
    "2. Process / Prepare the data.\n",
    "3. Upload the processed data to S3.\n",
    "4. Train a chosen model.\n",
    "5. Test the trained model (typically using a batch transform job).\n",
    "6. Deploy the trained model.\n",
    "7. Use the deployed model.\n",
    "\n",
    "For this project, you will be following the steps in the general outline with some modifications. \n",
    "\n",
    "First, you will not be testing the model in its own step. You will still be testing the model, however, you will do it by deploying your model and then using the deployed model by sending the test data to it. One of the reasons for doing this is so that you can make sure that your deployed model is working correctly before moving forward.\n",
    "\n",
    "In addition, you will deploy and use your trained model a second time. In the second iteration you will customize the way that your trained model is deployed by including some of your own code. In addition, your newly deployed model will be used in the sentiment analysis web app."
   ]
  },
  {
   "cell_type": "markdown",
   "metadata": {},
   "source": [
    "## Step 1: Downloading the data\n",
    "\n",
    "As in the XGBoost in SageMaker notebook, we will be using the [IMDb dataset](http://ai.stanford.edu/~amaas/data/sentiment/)\n",
    "\n",
    "> Maas, Andrew L., et al. [Learning Word Vectors for Sentiment Analysis](http://ai.stanford.edu/~amaas/data/sentiment/). In _Proceedings of the 49th Annual Meeting of the Association for Computational Linguistics: Human Language Technologies_. Association for Computational Linguistics, 2011."
   ]
  },
  {
   "cell_type": "code",
   "execution_count": 1,
   "metadata": {},
   "outputs": [
    {
     "name": "stdout",
     "output_type": "stream",
     "text": [
      "mkdir: cannot create directory ‘../data’: File exists\n",
      "--2019-12-26 13:09:07--  http://ai.stanford.edu/~amaas/data/sentiment/aclImdb_v1.tar.gz\n",
      "Resolving ai.stanford.edu (ai.stanford.edu)... 171.64.68.10\n",
      "Connecting to ai.stanford.edu (ai.stanford.edu)|171.64.68.10|:80... connected.\n",
      "HTTP request sent, awaiting response... 200 OK\n",
      "Length: 84125825 (80M) [application/x-gzip]\n",
      "Saving to: ‘../data/aclImdb_v1.tar.gz’\n",
      "\n",
      "../data/aclImdb_v1. 100%[===================>]  80.23M  23.2MB/s    in 4.6s    \n",
      "\n",
      "2019-12-26 13:09:12 (17.5 MB/s) - ‘../data/aclImdb_v1.tar.gz’ saved [84125825/84125825]\n",
      "\n"
     ]
    }
   ],
   "source": [
    "%mkdir ../data\n",
    "!wget -O ../data/aclImdb_v1.tar.gz http://ai.stanford.edu/~amaas/data/sentiment/aclImdb_v1.tar.gz\n",
    "!tar -zxf ../data/aclImdb_v1.tar.gz -C ../data"
   ]
  },
  {
   "cell_type": "markdown",
   "metadata": {},
   "source": [
    "## Step 2: Preparing and Processing the data\n",
    "\n",
    "Also, as in the XGBoost notebook, we will be doing some initial data processing. The first few steps are the same as in the XGBoost example. To begin with, we will read in each of the reviews and combine them into a single input structure. Then, we will split the dataset into a training set and a testing set."
   ]
  },
  {
   "cell_type": "code",
   "execution_count": 45,
   "metadata": {},
   "outputs": [],
   "source": [
    "import os\n",
    "import glob\n",
    "\n",
    "def read_imdb_data(data_dir='../data/aclImdb'):\n",
    "    data = {}\n",
    "    labels = {}\n",
    "    \n",
    "    for data_type in ['train', 'test']:\n",
    "        data[data_type] = {}\n",
    "        labels[data_type] = {}\n",
    "        \n",
    "        for sentiment in ['pos', 'neg']:\n",
    "            data[data_type][sentiment] = []\n",
    "            labels[data_type][sentiment] = []\n",
    "            \n",
    "            path = os.path.join(data_dir, data_type, sentiment, '*.txt')\n",
    "            files = glob.glob(path)\n",
    "            \n",
    "            for f in files:\n",
    "                with open(f) as review:\n",
    "                    data[data_type][sentiment].append(review.read())\n",
    "                    # Here we represent a positive review by '1' and a negative review by '0'\n",
    "                    labels[data_type][sentiment].append(1 if sentiment == 'pos' else 0)\n",
    "                    \n",
    "            assert len(data[data_type][sentiment]) == len(labels[data_type][sentiment]), \\\n",
    "                    \"{}/{} data size does not match labels size\".format(data_type, sentiment)\n",
    "                \n",
    "    return data, labels"
   ]
  },
  {
   "cell_type": "code",
   "execution_count": 46,
   "metadata": {},
   "outputs": [
    {
     "name": "stdout",
     "output_type": "stream",
     "text": [
      "IMDB reviews: train = 12500 pos / 12500 neg, test = 12500 pos / 12500 neg\n"
     ]
    }
   ],
   "source": [
    "data, labels = read_imdb_data()\n",
    "print(\"IMDB reviews: train = {} pos / {} neg, test = {} pos / {} neg\".format(\n",
    "            len(data['train']['pos']), len(data['train']['neg']),\n",
    "            len(data['test']['pos']), len(data['test']['neg'])))"
   ]
  },
  {
   "cell_type": "markdown",
   "metadata": {},
   "source": [
    "Now that we've read the raw training and testing data from the downloaded dataset, we will combine the positive and negative reviews and shuffle the resulting records."
   ]
  },
  {
   "cell_type": "code",
   "execution_count": 47,
   "metadata": {},
   "outputs": [],
   "source": [
    "from sklearn.utils import shuffle\n",
    "\n",
    "def prepare_imdb_data(data, labels):\n",
    "    \"\"\"Prepare training and test sets from IMDb movie reviews.\"\"\"\n",
    "    \n",
    "    #Combine positive and negative reviews and labels\n",
    "    data_train = data['train']['pos'] + data['train']['neg']\n",
    "    data_test = data['test']['pos'] + data['test']['neg']\n",
    "    labels_train = labels['train']['pos'] + labels['train']['neg']\n",
    "    labels_test = labels['test']['pos'] + labels['test']['neg']\n",
    "    \n",
    "    #Shuffle reviews and corresponding labels within training and test sets\n",
    "    data_train, labels_train = shuffle(data_train, labels_train)\n",
    "    data_test, labels_test = shuffle(data_test, labels_test)\n",
    "    \n",
    "    # Return a unified training data, test data, training labels, test labets\n",
    "    return data_train, data_test, labels_train, labels_test"
   ]
  },
  {
   "cell_type": "code",
   "execution_count": 48,
   "metadata": {},
   "outputs": [
    {
     "name": "stdout",
     "output_type": "stream",
     "text": [
      "IMDb reviews (combined): train = 25000, test = 25000\n"
     ]
    }
   ],
   "source": [
    "train_X, test_X, train_y, test_y = prepare_imdb_data(data, labels)\n",
    "print(\"IMDb reviews (combined): train = {}, test = {}\".format(len(train_X), len(test_X)))"
   ]
  },
  {
   "cell_type": "markdown",
   "metadata": {},
   "source": [
    "Now that we have our training and testing sets unified and prepared, we should do a quick check and see an example of the data our model will be trained on. This is generally a good idea as it allows you to see how each of the further processing steps affects the reviews and it also ensures that the data has been loaded correctly."
   ]
  },
  {
   "cell_type": "code",
   "execution_count": 49,
   "metadata": {},
   "outputs": [
    {
     "name": "stdout",
     "output_type": "stream",
     "text": [
      "This is one of the movies that get better every time you see them. It's packed with so many original and unconventional ideas that you always find a new detail. As in Sabu's subsequent movies (I didn't see \"Unlucky monkey\" yet, but the other ones are as great) failure, chance and humanism play great roles. The cutting and Montage is inventive and artistic, without the movie being an \"art\" picture, but a highly entertaining one. When comparing it to \"Run, Lola, Run\" you have to keep in mind that \"Dangan Ranna\" was made some years before and was shown on German TV as early as 1997...so it's more probable that it served as inspiration for Tom Tykwer's movie, and not the other way around. Complementary to the other reviews I have to add that I like the acting and the ending very much. This movie is a lot of fun in many ways, and it manages to deliver a message without being annoying or pretentious.\n",
      "1\n"
     ]
    }
   ],
   "source": [
    "print(train_X[100])\n",
    "print(train_y[100])"
   ]
  },
  {
   "cell_type": "markdown",
   "metadata": {},
   "source": [
    "The first step in processing the reviews is to make sure that any html tags that appear should be removed. In addition we wish to tokenize our input, that way words such as *entertained* and *entertaining* are considered the same with regard to sentiment analysis."
   ]
  },
  {
   "cell_type": "code",
   "execution_count": 50,
   "metadata": {},
   "outputs": [],
   "source": [
    "import nltk\n",
    "from nltk.corpus import stopwords\n",
    "from nltk.stem.porter import *\n",
    "\n",
    "import re\n",
    "from bs4 import BeautifulSoup\n",
    "\n",
    "def review_to_words(review):\n",
    "    nltk.download(\"stopwords\", quiet=True)\n",
    "    stemmer = PorterStemmer()\n",
    "    \n",
    "    text = BeautifulSoup(review, \"html.parser\").get_text() # Remove HTML tags\n",
    "    text = re.sub(r\"[^a-zA-Z0-9]\", \" \", text.lower()) # Convert to lower case\n",
    "    words = text.split() # Split string into words\n",
    "    words = [w for w in words if w not in stopwords.words(\"english\")] # Remove stopwords\n",
    "    words = [PorterStemmer().stem(w) for w in words] # stem\n",
    "    \n",
    "    return words"
   ]
  },
  {
   "cell_type": "markdown",
   "metadata": {},
   "source": [
    "The `review_to_words` method defined above uses `BeautifulSoup` to remove any html tags that appear and uses the `nltk` package to tokenize the reviews. As a check to ensure we know how everything is working, try applying `review_to_words` to one of the reviews in the training set."
   ]
  },
  {
   "cell_type": "code",
   "execution_count": 51,
   "metadata": {},
   "outputs": [
    {
     "data": {
      "text/plain": [
       "['one',\n",
       " 'movi',\n",
       " 'get',\n",
       " 'better',\n",
       " 'everi',\n",
       " 'time',\n",
       " 'see',\n",
       " 'pack',\n",
       " 'mani',\n",
       " 'origin',\n",
       " 'unconvent',\n",
       " 'idea',\n",
       " 'alway',\n",
       " 'find',\n",
       " 'new',\n",
       " 'detail',\n",
       " 'sabu',\n",
       " 'subsequ',\n",
       " 'movi',\n",
       " 'see',\n",
       " 'unlucki',\n",
       " 'monkey',\n",
       " 'yet',\n",
       " 'one',\n",
       " 'great',\n",
       " 'failur',\n",
       " 'chanc',\n",
       " 'human',\n",
       " 'play',\n",
       " 'great',\n",
       " 'role',\n",
       " 'cut',\n",
       " 'montag',\n",
       " 'invent',\n",
       " 'artist',\n",
       " 'without',\n",
       " 'movi',\n",
       " 'art',\n",
       " 'pictur',\n",
       " 'highli',\n",
       " 'entertain',\n",
       " 'one',\n",
       " 'compar',\n",
       " 'run',\n",
       " 'lola',\n",
       " 'run',\n",
       " 'keep',\n",
       " 'mind',\n",
       " 'dangan',\n",
       " 'ranna',\n",
       " 'made',\n",
       " 'year',\n",
       " 'shown',\n",
       " 'german',\n",
       " 'tv',\n",
       " 'earli',\n",
       " '1997',\n",
       " 'probabl',\n",
       " 'serv',\n",
       " 'inspir',\n",
       " 'tom',\n",
       " 'tykwer',\n",
       " 'movi',\n",
       " 'way',\n",
       " 'around',\n",
       " 'complementari',\n",
       " 'review',\n",
       " 'add',\n",
       " 'like',\n",
       " 'act',\n",
       " 'end',\n",
       " 'much',\n",
       " 'movi',\n",
       " 'lot',\n",
       " 'fun',\n",
       " 'mani',\n",
       " 'way',\n",
       " 'manag',\n",
       " 'deliv',\n",
       " 'messag',\n",
       " 'without',\n",
       " 'annoy',\n",
       " 'pretenti']"
      ]
     },
     "execution_count": 51,
     "metadata": {},
     "output_type": "execute_result"
    }
   ],
   "source": [
    "# TODO: Apply review_to_words to a review (train_X[100] or any other review)\n",
    "review_to_words(train_X[100])"
   ]
  },
  {
   "cell_type": "markdown",
   "metadata": {},
   "source": [
    "**Question:** Above we mentioned that `review_to_words` method removes html formatting and allows us to tokenize the words found in a review, for example, converting *entertained* and *entertaining* into *entertain* so that they are treated as though they are the same word. What else, if anything, does this method do to the input?"
   ]
  },
  {
   "cell_type": "markdown",
   "metadata": {},
   "source": [
    "**Answer:**"
   ]
  },
  {
   "cell_type": "markdown",
   "metadata": {},
   "source": [
    "The method below applies the `review_to_words` method to each of the reviews in the training and testing datasets. In addition it caches the results. This is because performing this processing step can take a long time. This way if you are unable to complete the notebook in the current session, you can come back without needing to process the data a second time."
   ]
  },
  {
   "cell_type": "code",
   "execution_count": 52,
   "metadata": {},
   "outputs": [],
   "source": [
    "import pickle\n",
    "\n",
    "cache_dir = os.path.join(\"../cache\", \"sentiment_analysis\")  # where to store cache files\n",
    "os.makedirs(cache_dir, exist_ok=True)  # ensure cache directory exists\n",
    "\n",
    "def preprocess_data(data_train, data_test, labels_train, labels_test,\n",
    "                    cache_dir=cache_dir, cache_file=\"preprocessed_data.pkl\"):\n",
    "    \"\"\"Convert each review to words; read from cache if available.\"\"\"\n",
    "\n",
    "    # If cache_file is not None, try to read from it first\n",
    "    cache_data = None\n",
    "    if cache_file is not None:\n",
    "        try:\n",
    "            with open(os.path.join(cache_dir, cache_file), \"rb\") as f:\n",
    "                cache_data = pickle.load(f)\n",
    "            print(\"Read preprocessed data from cache file:\", cache_file)\n",
    "        except:\n",
    "            pass  # unable to read from cache, but that's okay\n",
    "    \n",
    "    # If cache is missing, then do the heavy lifting\n",
    "    if cache_data is None:\n",
    "        # Preprocess training and test data to obtain words for each review\n",
    "        #words_train = list(map(review_to_words, data_train))\n",
    "        #words_test = list(map(review_to_words, data_test))\n",
    "        words_train = [review_to_words(review) for review in data_train]\n",
    "        words_test = [review_to_words(review) for review in data_test]\n",
    "        \n",
    "        # Write to cache file for future runs\n",
    "        if cache_file is not None:\n",
    "            cache_data = dict(words_train=words_train, words_test=words_test,\n",
    "                              labels_train=labels_train, labels_test=labels_test)\n",
    "            with open(os.path.join(cache_dir, cache_file), \"wb\") as f:\n",
    "                pickle.dump(cache_data, f)\n",
    "            print(\"Wrote preprocessed data to cache file:\", cache_file)\n",
    "    else:\n",
    "        # Unpack data loaded from cache file\n",
    "        words_train, words_test, labels_train, labels_test = (cache_data['words_train'],\n",
    "                cache_data['words_test'], cache_data['labels_train'], cache_data['labels_test'])\n",
    "    \n",
    "    return words_train, words_test, labels_train, labels_test"
   ]
  },
  {
   "cell_type": "code",
   "execution_count": 53,
   "metadata": {},
   "outputs": [
    {
     "name": "stdout",
     "output_type": "stream",
     "text": [
      "Read preprocessed data from cache file: preprocessed_data.pkl\n"
     ]
    }
   ],
   "source": [
    "# Preprocess data\n",
    "train_X, test_X, train_y, test_y = preprocess_data(train_X, test_X, train_y, test_y)"
   ]
  },
  {
   "cell_type": "markdown",
   "metadata": {},
   "source": [
    "## Transform the data\n",
    "\n",
    "In the XGBoost notebook we transformed the data from its word representation to a bag-of-words feature representation. For the model we are going to construct in this notebook we will construct a feature representation which is very similar. To start, we will represent each word as an integer. Of course, some of the words that appear in the reviews occur very infrequently and so likely don't contain much information for the purposes of sentiment analysis. The way we will deal with this problem is that we will fix the size of our working vocabulary and we will only include the words that appear most frequently. We will then combine all of the infrequent words into a single category and, in our case, we will label it as `1`.\n",
    "\n",
    "Since we will be using a recurrent neural network, it will be convenient if the length of each review is the same. To do this, we will fix a size for our reviews and then pad short reviews with the category 'no word' (which we will label `0`) and truncate long reviews."
   ]
  },
  {
   "cell_type": "markdown",
   "metadata": {},
   "source": [
    "### (TODO) Create a word dictionary\n",
    "\n",
    "To begin with, we need to construct a way to map words that appear in the reviews to integers. Here we fix the size of our vocabulary (including the 'no word' and 'infrequent' categories) to be `5000` but you may wish to change this to see how it affects the model.\n",
    "\n",
    "> **TODO:** Complete the implementation for the `build_dict()` method below. Note that even though the vocab_size is set to `5000`, we only want to construct a mapping for the most frequently appearing `4998` words. This is because we want to reserve the special labels `0` for 'no word' and `1` for 'infrequent word'."
   ]
  },
  {
   "cell_type": "code",
   "execution_count": 54,
   "metadata": {},
   "outputs": [],
   "source": [
    "import numpy as np\n",
    "from collections import Counter\n",
    "import re \n",
    "\n",
    "\n",
    "def build_dict(data, vocab_size = 5000):\n",
    "    \"\"\"Construct and return a dictionary mapping each of the most frequently appearing words to a unique integer.\"\"\"\n",
    "    \n",
    "    # TODO: Determine how often each word appears in `data`. Note that `data` is a list of sentences and that a\n",
    "    #       sentence is a list of words.\n",
    "    \n",
    "    # word_count = {} # A dict storing the words that appear in the reviews along with how often they occur\n",
    "    word_counts = Counter(np.concatenate(data, axis = 0))\n",
    "    \n",
    "    # TODO: Sort the words found in `data` so that sorted_words[0] is the most frequently appearing word and\n",
    "    #       sorted_words[-1] is the least frequently appearing word.\n",
    "    \n",
    "    sorted_words = sorted(word_counts, key = word_counts.get, reverse = True)\n",
    "    print(sorted_words[-1])\n",
    "    \n",
    "    \n",
    "    word_dict = {} # This is what we are building, a dictionary that translates words into integers\n",
    "    for idx, word in enumerate(sorted_words[:vocab_size - 2]): # The -2 is so that we save room for the 'no word'\n",
    "        word_dict[word] = idx + 2                              # 'infrequent' labels\n",
    "        \n",
    "    return word_dict"
   ]
  },
  {
   "cell_type": "code",
   "execution_count": 55,
   "metadata": {},
   "outputs": [
    {
     "name": "stdout",
     "output_type": "stream",
     "text": [
      "beermat\n",
      "{'movi': 2, 'film': 3, 'one': 4, 'like': 5, 'time': 6, 'good': 7, 'make': 8, 'charact': 9, 'get': 10, 'see': 11, 'watch': 12, 'stori': 13, 'even': 14, 'would': 15, 'realli': 16, 'well': 17, 'scene': 18, 'look': 19, 'show': 20, 'much': 21, 'end': 22, 'peopl': 23, 'bad': 24, 'go': 25, 'great': 26, 'also': 27, 'first': 28, 'love': 29, 'think': 30, 'way': 31, 'act': 32, 'play': 33, 'made': 34, 'thing': 35, 'could': 36, 'know': 37, 'say': 38, 'seem': 39, 'work': 40, 'plot': 41, 'two': 42, 'actor': 43, 'year': 44, 'come': 45, 'mani': 46, 'seen': 47, 'take': 48, 'want': 49, 'life': 50, 'never': 51, 'littl': 52, 'best': 53, 'tri': 54, 'man': 55, 'ever': 56, 'give': 57, 'better': 58, 'still': 59, 'perform': 60, 'find': 61, 'feel': 62, 'part': 63, 'back': 64, 'use': 65, 'someth': 66, 'director': 67, 'actual': 68, 'interest': 69, 'lot': 70, 'real': 71, 'old': 72, 'cast': 73, 'though': 74, 'live': 75, 'star': 76, 'enjoy': 77, 'guy': 78, 'anoth': 79, 'new': 80, 'role': 81, 'noth': 82, '10': 83, 'funni': 84, 'music': 85, 'point': 86, 'start': 87, 'set': 88, 'girl': 89, 'origin': 90, 'day': 91, 'world': 92, 'everi': 93, 'believ': 94, 'turn': 95, 'quit': 96, 'direct': 97, 'us': 98, 'thought': 99, 'fact': 100, 'minut': 101, 'horror': 102, 'kill': 103, 'action': 104, 'comedi': 105, 'pretti': 106, 'young': 107, 'wonder': 108, 'happen': 109, 'around': 110, 'got': 111, 'effect': 112, 'right': 113, 'long': 114, 'howev': 115, 'big': 116, 'line': 117, 'famili': 118, 'enough': 119, 'seri': 120, 'may': 121, 'need': 122, 'fan': 123, 'bit': 124, 'script': 125, 'beauti': 126, 'person': 127, 'becom': 128, 'without': 129, 'must': 130, 'alway': 131, 'friend': 132, 'tell': 133, 'reason': 134, 'saw': 135, 'last': 136, 'final': 137, 'kid': 138, 'almost': 139, 'put': 140, 'least': 141, 'sure': 142, 'done': 143, 'whole': 144, 'place': 145, 'complet': 146, 'kind': 147, 'differ': 148, 'expect': 149, 'shot': 150, 'far': 151, 'mean': 152, 'anyth': 153, 'book': 154, 'laugh': 155, 'might': 156, 'name': 157, 'sinc': 158, 'begin': 159, '2': 160, 'probabl': 161, 'woman': 162, 'help': 163, 'entertain': 164, 'let': 165, 'screen': 166, 'call': 167, 'tv': 168, 'moment': 169, 'away': 170, 'read': 171, 'yet': 172, 'rather': 173, 'worst': 174, 'run': 175, 'fun': 176, 'lead': 177, 'hard': 178, 'audienc': 179, 'idea': 180, 'anyon': 181, 'episod': 182, 'american': 183, 'found': 184, 'appear': 185, 'bore': 186, 'especi': 187, 'although': 188, 'hope': 189, 'keep': 190, 'cours': 191, 'anim': 192, 'job': 193, 'goe': 194, 'move': 195, 'sens': 196, 'dvd': 197, 'version': 198, 'war': 199, 'money': 200, 'someon': 201, 'mind': 202, 'mayb': 203, 'problem': 204, 'true': 205, 'hous': 206, 'everyth': 207, 'nice': 208, 'second': 209, 'rate': 210, 'three': 211, 'night': 212, 'face': 213, 'follow': 214, 'recommend': 215, 'main': 216, 'product': 217, 'worth': 218, 'leav': 219, 'human': 220, 'special': 221, 'excel': 222, 'togeth': 223, 'wast': 224, 'sound': 225, 'everyon': 226, 'john': 227, 'hand': 228, '1': 229, 'father': 230, 'later': 231, 'eye': 232, 'said': 233, 'view': 234, 'instead': 235, 'review': 236, 'boy': 237, 'high': 238, 'hour': 239, 'miss': 240, 'classic': 241, 'talk': 242, 'wife': 243, 'understand': 244, 'left': 245, 'care': 246, 'black': 247, 'death': 248, 'open': 249, 'murder': 250, 'write': 251, 'half': 252, 'head': 253, 'rememb': 254, 'chang': 255, 'viewer': 256, 'fight': 257, 'gener': 258, 'surpris': 259, 'short': 260, 'includ': 261, 'die': 262, 'fall': 263, 'less': 264, 'els': 265, 'entir': 266, 'piec': 267, 'involv': 268, 'pictur': 269, 'simpli': 270, 'home': 271, 'power': 272, 'top': 273, 'total': 274, 'usual': 275, 'budget': 276, 'attempt': 277, 'suppos': 278, 'releas': 279, 'hollywood': 280, 'terribl': 281, 'song': 282, 'men': 283, 'possibl': 284, 'featur': 285, 'portray': 286, 'disappoint': 287, 'poor': 288, '3': 289, 'coupl': 290, 'camera': 291, 'stupid': 292, 'dead': 293, 'wrong': 294, 'low': 295, 'produc': 296, 'either': 297, 'video': 298, 'aw': 299, 'definit': 300, 'except': 301, 'rest': 302, 'given': 303, 'absolut': 304, 'women': 305, 'lack': 306, 'word': 307, 'writer': 308, 'titl': 309, 'talent': 310, 'decid': 311, 'full': 312, 'perfect': 313, 'along': 314, 'style': 315, 'close': 316, 'truli': 317, 'school': 318, 'save': 319, 'emot': 320, 'age': 321, 'sex': 322, 'next': 323, 'bring': 324, 'mr': 325, 'case': 326, 'killer': 327, 'heart': 328, 'comment': 329, 'sort': 330, 'creat': 331, 'perhap': 332, 'came': 333, 'brother': 334, 'sever': 335, 'joke': 336, 'art': 337, 'dialogu': 338, 'game': 339, 'small': 340, 'base': 341, 'flick': 342, 'written': 343, 'sequenc': 344, 'meet': 345, 'earli': 346, 'often': 347, 'other': 348, 'mother': 349, 'develop': 350, 'humor': 351, 'actress': 352, 'consid': 353, 'dark': 354, 'guess': 355, 'amaz': 356, 'unfortun': 357, 'light': 358, 'lost': 359, 'exampl': 360, 'cinema': 361, 'drama': 362, 'white': 363, 'ye': 364, 'experi': 365, 'imagin': 366, 'mention': 367, 'stop': 368, 'natur': 369, 'forc': 370, 'manag': 371, 'felt': 372, 'cut': 373, 'present': 374, 'children': 375, 'fail': 376, 'son': 377, 'car': 378, 'support': 379, 'qualiti': 380, 'ask': 381, 'hit': 382, 'side': 383, 'voic': 384, 'extrem': 385, 'impress': 386, 'evil': 387, 'wors': 388, 'stand': 389, 'went': 390, 'certainli': 391, 'basic': 392, 'oh': 393, 'overal': 394, 'favorit': 395, 'horribl': 396, 'mysteri': 397, 'number': 398, 'type': 399, 'danc': 400, 'wait': 401, 'hero': 402, 'alreadi': 403, '5': 404, 'learn': 405, 'matter': 406, '4': 407, 'michael': 408, 'genr': 409, 'fine': 410, 'despit': 411, 'throughout': 412, 'walk': 413, 'success': 414, 'histori': 415, 'question': 416, 'zombi': 417, 'town': 418, 'realiz': 419, 'relationship': 420, 'past': 421, 'child': 422, 'daughter': 423, 'late': 424, 'b': 425, 'wish': 426, 'credit': 427, 'hate': 428, 'event': 429, 'theme': 430, 'touch': 431, 'citi': 432, 'today': 433, 'sometim': 434, 'behind': 435, 'god': 436, 'twist': 437, 'sit': 438, 'stay': 439, 'deal': 440, 'annoy': 441, 'abl': 442, 'rent': 443, 'pleas': 444, 'edit': 445, 'blood': 446, 'deserv': 447, 'comic': 448, 'anyway': 449, 'appar': 450, 'soon': 451, 'gave': 452, 'etc': 453, 'level': 454, 'slow': 455, 'chanc': 456, 'score': 457, 'bodi': 458, 'brilliant': 459, 'incred': 460, 'figur': 461, 'situat': 462, 'major': 463, 'self': 464, 'stuff': 465, 'decent': 466, 'element': 467, 'return': 468, 'dream': 469, 'obvious': 470, 'order': 471, 'continu': 472, 'pace': 473, 'ridicul': 474, 'happi': 475, 'group': 476, 'highli': 477, 'add': 478, 'thank': 479, 'ladi': 480, 'novel': 481, 'pain': 482, 'speak': 483, 'career': 484, 'shoot': 485, 'strang': 486, 'heard': 487, 'sad': 488, 'husband': 489, 'polic': 490, 'import': 491, 'break': 492, 'took': 493, 'cannot': 494, 'strong': 495, 'predict': 496, 'robert': 497, 'violenc': 498, 'hilari': 499, 'recent': 500, 'countri': 501, 'known': 502, 'particularli': 503, 'pick': 504, 'documentari': 505, 'season': 506, 'critic': 507, 'jame': 508, 'compar': 509, 'alon': 510, 'obviou': 511, 'told': 512, 'state': 513, 'visual': 514, 'rock': 515, 'exist': 516, 'theater': 517, 'offer': 518, 'opinion': 519, 'gore': 520, 'hold': 521, 'crap': 522, 'result': 523, 'room': 524, 'hear': 525, 'realiti': 526, 'clich': 527, 'effort': 528, 'thriller': 529, 'caus': 530, 'sequel': 531, 'serious': 532, 'explain': 533, 'king': 534, 'local': 535, 'ago': 536, 'hell': 537, 'none': 538, 'note': 539, 'allow': 540, 'sister': 541, 'david': 542, 'simpl': 543, 'femal': 544, 'deliv': 545, 'ok': 546, 'class': 547, 'convinc': 548, 'check': 549, 'suspens': 550, 'win': 551, 'buy': 552, 'oscar': 553, 'huge': 554, 'valu': 555, 'sexual': 556, 'cool': 557, 'scari': 558, 'similar': 559, 'excit': 560, 'provid': 561, 'exactli': 562, 'apart': 563, 'avoid': 564, 'shown': 565, 'seriou': 566, 'english': 567, 'taken': 568, 'whose': 569, 'cinematographi': 570, 'shock': 571, 'polit': 572, 'spoiler': 573, 'offic': 574, 'across': 575, 'middl': 576, 'pass': 577, 'street': 578, 'messag': 579, 'silli': 580, 'somewhat': 581, 'charm': 582, 'modern': 583, 'filmmak': 584, 'confus': 585, 'form': 586, 'tale': 587, 'singl': 588, 'jack': 589, 'mostli': 590, 'attent': 591, 'william': 592, 'carri': 593, 'sing': 594, 'subject': 595, 'five': 596, 'richard': 597, 'prove': 598, 'team': 599, 'stage': 600, 'unlik': 601, 'cop': 602, 'georg': 603, 'televis': 604, 'monster': 605, 'earth': 606, 'villain': 607, 'cover': 608, 'pay': 609, 'marri': 610, 'toward': 611, 'build': 612, 'parent': 613, 'pull': 614, 'due': 615, 'respect': 616, 'fill': 617, 'dialog': 618, 'four': 619, 'remind': 620, 'futur': 621, 'typic': 622, 'weak': 623, '7': 624, 'cheap': 625, 'intellig': 626, 'british': 627, 'atmospher': 628, '80': 629, 'clearli': 630, 'non': 631, 'dog': 632, 'paul': 633, '8': 634, 'knew': 635, 'artist': 636, 'fast': 637, 'crime': 638, 'easili': 639, 'escap': 640, 'adult': 641, 'doubt': 642, 'detail': 643, 'date': 644, 'romant': 645, 'fire': 646, 'member': 647, 'drive': 648, 'gun': 649, 'straight': 650, 'beyond': 651, 'fit': 652, 'attack': 653, 'imag': 654, 'upon': 655, 'posit': 656, 'whether': 657, 'peter': 658, 'fantast': 659, 'appreci': 660, 'aspect': 661, 'captur': 662, 'ten': 663, 'plan': 664, 'discov': 665, 'remain': 666, 'period': 667, 'near': 668, 'realist': 669, 'air': 670, 'mark': 671, 'red': 672, 'dull': 673, 'adapt': 674, 'within': 675, 'spend': 676, 'lose': 677, 'color': 678, 'materi': 679, 'chase': 680, 'mari': 681, 'storylin': 682, 'forget': 683, 'bunch': 684, 'clear': 685, 'lee': 686, 'victim': 687, 'nearli': 688, 'box': 689, 'york': 690, 'match': 691, 'inspir': 692, 'mess': 693, 'finish': 694, 'standard': 695, 'easi': 696, 'truth': 697, 'suffer': 698, 'busi': 699, 'bill': 700, 'dramat': 701, 'space': 702, 'western': 703, 'e': 704, 'list': 705, 'battl': 706, 'notic': 707, 'de': 708, 'french': 709, 'ad': 710, '9': 711, 'tom': 712, 'larg': 713, 'among': 714, 'eventu': 715, 'train': 716, 'accept': 717, 'agre': 718, 'soundtrack': 719, 'spirit': 720, 'third': 721, 'teenag': 722, 'adventur': 723, 'soldier': 724, 'famou': 725, 'suggest': 726, 'sorri': 727, 'drug': 728, 'normal': 729, 'babi': 730, 'cri': 731, 'troubl': 732, 'ultim': 733, 'contain': 734, 'certain': 735, 'cultur': 736, 'romanc': 737, 'rare': 738, 'lame': 739, 'somehow': 740, 'disney': 741, 'mix': 742, 'gone': 743, 'cartoon': 744, 'student': 745, 'reveal': 746, 'fear': 747, 'suck': 748, 'kept': 749, 'attract': 750, 'appeal': 751, 'premis': 752, 'greatest': 753, 'design': 754, 'secret': 755, 'shame': 756, 'throw': 757, 'copi': 758, 'scare': 759, 'wit': 760, 'admit': 761, 'america': 762, 'relat': 763, 'particular': 764, 'brought': 765, 'screenplay': 766, 'whatev': 767, 'pure': 768, '70': 769, 'averag': 770, 'harri': 771, 'master': 772, 'describ': 773, 'male': 774, 'treat': 775, '20': 776, 'issu': 777, 'fantasi': 778, 'warn': 779, 'inde': 780, 'forward': 781, 'background': 782, 'free': 783, 'project': 784, 'memor': 785, 'japanes': 786, 'poorli': 787, 'award': 788, 'locat': 789, 'amus': 790, 'potenti': 791, 'struggl': 792, 'magic': 793, 'weird': 794, 'societi': 795, 'okay': 796, 'doctor': 797, 'imdb': 798, 'accent': 799, 'hot': 800, 'water': 801, '30': 802, 'express': 803, 'dr': 804, 'alien': 805, 'odd': 806, 'choic': 807, 'crazi': 808, 'studio': 809, 'fiction': 810, 'becam': 811, 'control': 812, 'masterpiec': 813, 'difficult': 814, 'fli': 815, 'joe': 816, 'scream': 817, 'costum': 818, 'lover': 819, 'uniqu': 820, 'refer': 821, 'remak': 822, 'vampir': 823, 'girlfriend': 824, 'prison': 825, 'execut': 826, 'wear': 827, 'jump': 828, 'unless': 829, 'wood': 830, 'creepi': 831, 'cheesi': 832, 'superb': 833, 'otherwis': 834, 'parti': 835, 'roll': 836, 'ghost': 837, 'mad': 838, 'public': 839, 'depict': 840, 'moral': 841, 'jane': 842, 'earlier': 843, 'week': 844, 'badli': 845, 'dumb': 846, 'fi': 847, 'grow': 848, 'flaw': 849, 'deep': 850, 'sci': 851, 'cat': 852, 'maker': 853, 'older': 854, 'connect': 855, 'footag': 856, 'plenti': 857, 'bother': 858, 'outsid': 859, 'stick': 860, 'gay': 861, 'catch': 862, 'plu': 863, 'co': 864, 'popular': 865, 'equal': 866, 'social': 867, 'quickli': 868, 'disturb': 869, 'perfectli': 870, 'dress': 871, 'era': 872, '90': 873, 'mistak': 874, 'lie': 875, 'ride': 876, 'previou': 877, 'combin': 878, 'band': 879, 'concept': 880, 'rich': 881, 'surviv': 882, 'answer': 883, 'front': 884, 'christma': 885, 'sweet': 886, 'insid': 887, 'eat': 888, 'concern': 889, 'bare': 890, 'listen': 891, 'beat': 892, 'ben': 893, 'c': 894, 'term': 895, 'serv': 896, 'meant': 897, 'la': 898, 'german': 899, 'hardli': 900, 'stereotyp': 901, 'innoc': 902, 'law': 903, 'desper': 904, 'memori': 905, 'promis': 906, 'cute': 907, 'intent': 908, 'variou': 909, 'steal': 910, 'inform': 911, 'brain': 912, 'post': 913, 'tone': 914, 'island': 915, 'amount': 916, 'compani': 917, 'track': 918, 'nuditi': 919, 'store': 920, 'claim': 921, 'flat': 922, 'hair': 923, '50': 924, 'univers': 925, 'land': 926, 'fairli': 927, 'scott': 928, 'danger': 929, 'kick': 930, 'player': 931, 'plain': 932, 'step': 933, 'crew': 934, 'toni': 935, 'share': 936, 'centuri': 937, 'tast': 938, 'achiev': 939, 'engag': 940, 'travel': 941, 'cold': 942, 'record': 943, 'suit': 944, 'rip': 945, 'manner': 946, 'sadli': 947, 'spot': 948, 'tension': 949, 'wrote': 950, 'fascin': 951, 'intens': 952, 'familiar': 953, 'remark': 954, 'burn': 955, 'depth': 956, 'destroy': 957, 'histor': 958, 'sleep': 959, 'purpos': 960, 'languag': 961, 'ruin': 962, 'ignor': 963, 'delight': 964, 'italian': 965, 'unbeliev': 966, 'collect': 967, 'abil': 968, 'soul': 969, 'clever': 970, 'detect': 971, 'violent': 972, 'rape': 973, 'reach': 974, 'door': 975, 'liter': 976, 'trash': 977, 'scienc': 978, 'caught': 979, 'commun': 980, 'reveng': 981, 'creatur': 982, 'approach': 983, 'trip': 984, 'intrigu': 985, 'fashion': 986, 'skill': 987, 'introduc': 988, 'paint': 989, 'channel': 990, 'complex': 991, 'camp': 992, 'christian': 993, 'extra': 994, 'hole': 995, 'limit': 996, 'ann': 997, 'immedi': 998, 'mental': 999, 'comput': 1000, 'mere': 1001, 'million': 1002, 'slightli': 1003, '6': 1004, 'conclus': 1005, 'slasher': 1006, 'imposs': 1007, 'suddenli': 1008, 'neither': 1009, 'crimin': 1010, 'teen': 1011, 'nation': 1012, 'physic': 1013, 'spent': 1014, 'respons': 1015, 'planet': 1016, 'receiv': 1017, 'fake': 1018, 'blue': 1019, 'sick': 1020, 'bizarr': 1021, 'embarrass': 1022, 'indian': 1023, 'ring': 1024, '15': 1025, 'drop': 1026, 'pop': 1027, 'drag': 1028, 'haunt': 1029, 'pointless': 1030, 'suspect': 1031, 'edg': 1032, 'search': 1033, 'handl': 1034, 'biggest': 1035, 'common': 1036, 'faith': 1037, 'arriv': 1038, 'hurt': 1039, 'technic': 1040, 'angel': 1041, 'dad': 1042, 'genuin': 1043, 'solid': 1044, 'f': 1045, 'awesom': 1046, 'van': 1047, 'focu': 1048, 'former': 1049, 'colleg': 1050, 'count': 1051, 'tear': 1052, 'heavi': 1053, 'rais': 1054, 'wall': 1055, 'younger': 1056, 'laughabl': 1057, 'visit': 1058, 'sign': 1059, 'fair': 1060, 'excus': 1061, 'cult': 1062, 'tough': 1063, 'motion': 1064, 'key': 1065, 'desir': 1066, 'super': 1067, 'addit': 1068, 'stun': 1069, 'exploit': 1070, 'cloth': 1071, 'smith': 1072, 'tortur': 1073, 'davi': 1074, 'race': 1075, 'cross': 1076, 'author': 1077, 'jim': 1078, 'minor': 1079, 'focus': 1080, 'compel': 1081, 'consist': 1082, 'commit': 1083, 'pathet': 1084, 'chemistri': 1085, 'park': 1086, 'tradit': 1087, 'obsess': 1088, 'frank': 1089, 'grade': 1090, 'asid': 1091, '60': 1092, 'brutal': 1093, 'somewher': 1094, 'steve': 1095, 'u': 1096, 'depress': 1097, 'rule': 1098, 'explor': 1099, 'opportun': 1100, 'grant': 1101, 'honest': 1102, 'besid': 1103, 'anti': 1104, 'dub': 1105, 'intend': 1106, 'trailer': 1107, 'bar': 1108, 'longer': 1109, 'regard': 1110, 'scientist': 1111, 'west': 1112, 'judg': 1113, 'decad': 1114, 'silent': 1115, 'armi': 1116, 'creativ': 1117, 'wild': 1118, 'stewart': 1119, 'g': 1120, 'south': 1121, 'draw': 1122, 'road': 1123, 'govern': 1124, 'ex': 1125, 'boss': 1126, 'practic': 1127, 'surprisingli': 1128, 'club': 1129, 'festiv': 1130, 'motiv': 1131, 'gang': 1132, 'london': 1133, 'page': 1134, 'redeem': 1135, 'green': 1136, 'aliv': 1137, 'display': 1138, 'idiot': 1139, 'machin': 1140, 'militari': 1141, 'thrill': 1142, 'repeat': 1143, '100': 1144, 'folk': 1145, 'yeah': 1146, 'nobodi': 1147, '40': 1148, 'garbag': 1149, 'journey': 1150, 'ground': 1151, 'smile': 1152, 'tire': 1153, 'mood': 1154, 'bought': 1155, 'cost': 1156, 'stone': 1157, 'sam': 1158, 'mouth': 1159, 'noir': 1160, 'agent': 1161, 'terrif': 1162, 'requir': 1163, 'utterli': 1164, 'area': 1165, 'honestli': 1166, 'sexi': 1167, 'geniu': 1168, 'report': 1169, 'glad': 1170, 'humour': 1171, 'enter': 1172, 'investig': 1173, 'serial': 1174, 'narr': 1175, 'occasion': 1176, 'passion': 1177, 'marriag': 1178, 'climax': 1179, 'studi': 1180, 'industri': 1181, 'charli': 1182, 'center': 1183, 'demon': 1184, 'nowher': 1185, 'ship': 1186, 'bear': 1187, 'loos': 1188, 'hors': 1189, 'wow': 1190, 'hang': 1191, 'graphic': 1192, 'giant': 1193, 'admir': 1194, 'send': 1195, 'loud': 1196, 'damn': 1197, 'rel': 1198, 'subtl': 1199, 'nake': 1200, 'profession': 1201, 'blow': 1202, 'bottom': 1203, 'batman': 1204, 'insult': 1205, 'r': 1206, 'doubl': 1207, 'boyfriend': 1208, 'kelli': 1209, 'initi': 1210, 'frame': 1211, 'gem': 1212, 'opera': 1213, 'drawn': 1214, 'cinemat': 1215, 'affect': 1216, 'church': 1217, 'challeng': 1218, 'j': 1219, 'nightmar': 1220, 'fulli': 1221, 'seek': 1222, 'l': 1223, 'evid': 1224, 'conflict': 1225, 'essenti': 1226, 'arm': 1227, 'wind': 1228, 'christoph': 1229, 'henri': 1230, 'grace': 1231, 'witch': 1232, 'narrat': 1233, 'assum': 1234, 'hunt': 1235, 'push': 1236, 'chri': 1237, 'wise': 1238, 'repres': 1239, 'nomin': 1240, 'month': 1241, 'affair': 1242, 'avail': 1243, 'hide': 1244, 'sceneri': 1245, 'thu': 1246, 'justic': 1247, 'smart': 1248, 'bond': 1249, 'outstand': 1250, 'interview': 1251, 'flashback': 1252, 'satisfi': 1253, 'constantli': 1254, 'presenc': 1255, 'bed': 1256, 'central': 1257, 'iron': 1258, 'sell': 1259, 'content': 1260, 'gag': 1261, 'everybodi': 1262, 'slowli': 1263, 'hotel': 1264, 'hire': 1265, 'system': 1266, 'individu': 1267, 'hey': 1268, 'adam': 1269, 'thrown': 1270, 'charl': 1271, 'jone': 1272, 'mediocr': 1273, 'allen': 1274, 'lesson': 1275, 'billi': 1276, 'ray': 1277, 'photographi': 1278, 'cameo': 1279, 'pari': 1280, 'fellow': 1281, 'strike': 1282, 'independ': 1283, 'rise': 1284, 'absurd': 1285, 'brief': 1286, 'neg': 1287, 'impact': 1288, 'phone': 1289, 'born': 1290, 'ill': 1291, 'model': 1292, 'angl': 1293, 'spoil': 1294, 'fresh': 1295, 'abus': 1296, 'likabl': 1297, 'hill': 1298, 'discuss': 1299, 'ahead': 1300, 'sight': 1301, 'sent': 1302, 'photograph': 1303, 'shine': 1304, 'blame': 1305, 'logic': 1306, 'occur': 1307, 'mainli': 1308, 'bruce': 1309, 'commerci': 1310, 'forev': 1311, 'skip': 1312, 'held': 1313, 'surround': 1314, 'teacher': 1315, 'segment': 1316, 'zero': 1317, 'blond': 1318, 'trap': 1319, 'resembl': 1320, 'satir': 1321, 'summer': 1322, 'six': 1323, 'ball': 1324, 'queen': 1325, 'fool': 1326, 'twice': 1327, 'tragedi': 1328, 'sub': 1329, 'reaction': 1330, 'pack': 1331, 'bomb': 1332, 'protagonist': 1333, 'will': 1334, 'hospit': 1335, 'mile': 1336, 'sport': 1337, 'jerri': 1338, 'vote': 1339, 'trust': 1340, 'drink': 1341, 'mom': 1342, 'encount': 1343, 'plane': 1344, 'al': 1345, 'current': 1346, 'program': 1347, 'station': 1348, 'celebr': 1349, 'martin': 1350, 'choos': 1351, 'join': 1352, 'favourit': 1353, 'tragic': 1354, 'field': 1355, 'round': 1356, 'lord': 1357, 'jean': 1358, 'vision': 1359, 'robot': 1360, 'tie': 1361, 'arthur': 1362, 'random': 1363, 'roger': 1364, 'fortun': 1365, 'dread': 1366, 'psycholog': 1367, 'intern': 1368, 'improv': 1369, 'epic': 1370, 'nonsens': 1371, 'prefer': 1372, 'formula': 1373, 'pleasur': 1374, 'highlight': 1375, 'legend': 1376, '11': 1377, 'tape': 1378, 'dollar': 1379, 'object': 1380, 'porn': 1381, 'thin': 1382, 'gorgeou': 1383, 'fox': 1384, 'wide': 1385, 'influenc': 1386, 'ugli': 1387, 'buddi': 1388, 'ii': 1389, 'prepar': 1390, 'nasti': 1391, 'supposedli': 1392, 'warm': 1393, 'reflect': 1394, 'progress': 1395, 'youth': 1396, 'worthi': 1397, 'length': 1398, 'latter': 1399, 'unusu': 1400, 'crash': 1401, 'seven': 1402, 'childhood': 1403, 'superior': 1404, 'shop': 1405, 'remot': 1406, 'theatr': 1407, 'funniest': 1408, 'paid': 1409, 'disgust': 1410, 'pilot': 1411, 'trick': 1412, 'convers': 1413, 'fell': 1414, 'castl': 1415, 'gangster': 1416, 'rob': 1417, 'establish': 1418, 'disast': 1419, 'heaven': 1420, 'suicid': 1421, 'mine': 1422, 'disappear': 1423, 'ident': 1424, 'forgotten': 1425, 'singer': 1426, 'tend': 1427, 'heroin': 1428, 'mask': 1429, 'decis': 1430, 'brian': 1431, 'partner': 1432, 'alan': 1433, 'recogn': 1434, 'desert': 1435, 'thoroughli': 1436, 'sky': 1437, 'stuck': 1438, 'ms': 1439, 'p': 1440, 'replac': 1441, 'accur': 1442, 'market': 1443, 'andi': 1444, 'seemingli': 1445, 'commentari': 1446, 'clue': 1447, 'uncl': 1448, 'eddi': 1449, 'danni': 1450, 'jackson': 1451, 'devil': 1452, 'that': 1453, 'pair': 1454, 'refus': 1455, 'therefor': 1456, 'fate': 1457, 'ed': 1458, 'accid': 1459, 'fault': 1460, 'unit': 1461, 'river': 1462, 'afraid': 1463, 'tune': 1464, 'hidden': 1465, 'clean': 1466, 'russian': 1467, 'stephen': 1468, 'instanc': 1469, 'quick': 1470, 'readi': 1471, 'convey': 1472, 'irrit': 1473, 'captain': 1474, 'test': 1475, 'european': 1476, 'frustrat': 1477, 'insan': 1478, 'daniel': 1479, 'food': 1480, 'wed': 1481, 'chines': 1482, '1950': 1483, 'rescu': 1484, 'dirti': 1485, 'angri': 1486, 'lock': 1487, 'joy': 1488, 'steven': 1489, 'price': 1490, 'bland': 1491, 'cage': 1492, 'rang': 1493, 'anymor': 1494, 'wooden': 1495, 'jason': 1496, 'news': 1497, 'rush': 1498, 'n': 1499, '12': 1500, 'worri': 1501, 'board': 1502, 'twenti': 1503, 'led': 1504, 'martial': 1505, 'transform': 1506, 'hunter': 1507, 'symbol': 1508, 'cgi': 1509, 'invent': 1510, 'piti': 1511, 'sentiment': 1512, 'x': 1513, 'johnni': 1514, 'onto': 1515, 'attitud': 1516, 'process': 1517, 'explan': 1518, 'owner': 1519, 'awar': 1520, 'aim': 1521, 'favor': 1522, 'necessari': 1523, 'target': 1524, 'energi': 1525, 'floor': 1526, 'religi': 1527, 'opposit': 1528, 'blind': 1529, 'insight': 1530, 'chick': 1531, 'window': 1532, 'movement': 1533, 'mountain': 1534, 'possess': 1535, 'deepli': 1536, 'comparison': 1537, 'research': 1538, 'whatsoev': 1539, 'grand': 1540, 'comed': 1541, 'rain': 1542, 'shadow': 1543, 'bank': 1544, 'began': 1545, 'mid': 1546, 'parodi': 1547, 'princ': 1548, 'friendship': 1549, 'taylor': 1550, 'pre': 1551, 'weapon': 1552, 'credibl': 1553, 'teach': 1554, 'dougla': 1555, 'flesh': 1556, 'bloodi': 1557, 'terror': 1558, 'protect': 1559, 'hint': 1560, 'marvel': 1561, 'leader': 1562, 'anybodi': 1563, 'watchabl': 1564, 'accord': 1565, 'load': 1566, 'drunk': 1567, 'superman': 1568, 'freddi': 1569, 'brown': 1570, 'jeff': 1571, 'seat': 1572, 'tim': 1573, 'hitler': 1574, 'appropri': 1575, 'unknown': 1576, 'villag': 1577, 'charg': 1578, 'keaton': 1579, 'knock': 1580, 'england': 1581, 'media': 1582, 'empti': 1583, 'unnecessari': 1584, 'enemi': 1585, 'strength': 1586, 'dare': 1587, 'perspect': 1588, 'utter': 1589, 'craft': 1590, 'wave': 1591, 'buck': 1592, 'contrast': 1593, 'correct': 1594, 'kiss': 1595, 'ford': 1596, 'nativ': 1597, 'magnific': 1598, 'chill': 1599, 'distract': 1600, 'anywher': 1601, 'speed': 1602, 'soap': 1603, 'knowledg': 1604, 'nazi': 1605, 'breath': 1606, '1980': 1607, 'mission': 1608, 'fred': 1609, 'ice': 1610, 'crowd': 1611, 'jr': 1612, 'joan': 1613, 'moon': 1614, 'frighten': 1615, '000': 1616, 'soft': 1617, 'kate': 1618, 'nick': 1619, 'dan': 1620, 'hundr': 1621, 'dick': 1622, 'simon': 1623, 'dozen': 1624, 'radio': 1625, 'somebodi': 1626, 'academi': 1627, 'loss': 1628, 'thousand': 1629, 'andrew': 1630, 'shakespear': 1631, 'account': 1632, 'root': 1633, 'quot': 1634, 'sum': 1635, 'vehicl': 1636, '1970': 1637, 'behavior': 1638, 'convent': 1639, 'leg': 1640, 'regular': 1641, 'gold': 1642, 'pretenti': 1643, 'compet': 1644, 'demand': 1645, 'worker': 1646, 'candi': 1647, 'stretch': 1648, 'japan': 1649, 'privat': 1650, 'lynch': 1651, 'explos': 1652, 'interpret': 1653, 'notabl': 1654, 'constant': 1655, 'debut': 1656, 'tarzan': 1657, 'translat': 1658, 'prais': 1659, 'sea': 1660, 'revolv': 1661, 'spi': 1662, 'ass': 1663, 'franc': 1664, 'threaten': 1665, 'technolog': 1666, 'quiet': 1667, 'failur': 1668, 'jesu': 1669, 'sat': 1670, 'punch': 1671, 'higher': 1672, 'toy': 1673, 'met': 1674, 'aid': 1675, 'kevin': 1676, 'abandon': 1677, 'interact': 1678, 'vh': 1679, 'mike': 1680, 'command': 1681, 'separ': 1682, 'bet': 1683, 'confront': 1684, 'techniqu': 1685, 'gotten': 1686, 'servic': 1687, 'belong': 1688, 'stunt': 1689, 'recal': 1690, 'site': 1691, 'cabl': 1692, 'foot': 1693, 'bug': 1694, 'freak': 1695, 'jimmi': 1696, 'bright': 1697, 'capabl': 1698, 'fu': 1699, 'african': 1700, 'clark': 1701, 'stock': 1702, 'succeed': 1703, 'presid': 1704, 'fat': 1705, 'boat': 1706, 'gene': 1707, 'structur': 1708, 'spanish': 1709, 'paper': 1710, 'kidnap': 1711, 'factor': 1712, 'belief': 1713, 'whilst': 1714, 'tree': 1715, 'educ': 1716, 'realism': 1717, 'bob': 1718, 'realis': 1719, 'complic': 1720, 'witti': 1721, 'attend': 1722, 'finest': 1723, 'broken': 1724, 'assist': 1725, 'santa': 1726, 'depart': 1727, 'up': 1728, 'smoke': 1729, 'observ': 1730, 'determin': 1731, 'v': 1732, 'routin': 1733, 'rubbish': 1734, 'hat': 1735, 'oper': 1736, 'fame': 1737, 'lewi': 1738, 'domin': 1739, 'foreign': 1740, 'lone': 1741, 'morgan': 1742, 'hook': 1743, 'kinda': 1744, 'safe': 1745, 'advanc': 1746, 'rank': 1747, 'numer': 1748, 'rose': 1749, 'civil': 1750, 'washington': 1751, 'shallow': 1752, 'shape': 1753, 'vs': 1754, 'werewolf': 1755, 'morn': 1756, 'gari': 1757, 'ordinari': 1758, 'kong': 1759, 'accomplish': 1760, 'winner': 1761, 'virtual': 1762, 'peac': 1763, 'whenev': 1764, 'grab': 1765, 'h': 1766, 'offens': 1767, 'luck': 1768, 'unfunni': 1769, 'complain': 1770, 'contriv': 1771, 'activ': 1772, 'welcom': 1773, 'patient': 1774, 'bigger': 1775, 'dimension': 1776, 'pretend': 1777, 'con': 1778, 'trek': 1779, 'cain': 1780, 'eric': 1781, 'code': 1782, 'dri': 1783, 'lesbian': 1784, 'flash': 1785, 'wake': 1786, 'dancer': 1787, 'albert': 1788, 'manipul': 1789, 'statu': 1790, 'corrupt': 1791, 'guard': 1792, 'context': 1793, 'sourc': 1794, 'awkward': 1795, 'gain': 1796, 'signific': 1797, 'speech': 1798, 'clip': 1799, 'psycho': 1800, '13': 1801, 'sean': 1802, 'corni': 1803, 'anthoni': 1804, 'theatric': 1805, 'religion': 1806, 'advic': 1807, 'reli': 1808, 'priest': 1809, 'curiou': 1810, 'w': 1811, 'flow': 1812, 'addict': 1813, 'jennif': 1814, 'skin': 1815, 'secur': 1816, 'asian': 1817, 'specif': 1818, 'howard': 1819, 'luke': 1820, 'promot': 1821, 'golden': 1822, 'comfort': 1823, 'organ': 1824, 'core': 1825, 'cheat': 1826, 'cash': 1827, 'lucki': 1828, 'dislik': 1829, 'associ': 1830, 'lower': 1831, 'frequent': 1832, 'frankli': 1833, 'contribut': 1834, 'balanc': 1835, 'devic': 1836, 'regret': 1837, 'spell': 1838, 'degre': 1839, 'wing': 1840, 'lake': 1841, 'sake': 1842, 'print': 1843, 'forgiv': 1844, 'mass': 1845, 'thoma': 1846, 'betti': 1847, 'unexpect': 1848, 'gordon': 1849, 'crack': 1850, 'depend': 1851, 'categori': 1852, 'amateur': 1853, 'invit': 1854, 'unfold': 1855, 'construct': 1856, 'grown': 1857, 'grew': 1858, 'walter': 1859, 'matur': 1860, 'honor': 1861, 'intellectu': 1862, 'anna': 1863, 'condit': 1864, 'sole': 1865, 'mirror': 1866, 'sudden': 1867, 'veteran': 1868, 'spectacular': 1869, 'demonstr': 1870, 'overli': 1871, 'meanwhil': 1872, 'robin': 1873, 'experienc': 1874, 'grip': 1875, 'card': 1876, 'liner': 1877, 'gift': 1878, 'freedom': 1879, 'circumst': 1880, 'colour': 1881, 'crappi': 1882, 'theori': 1883, 'brilliantli': 1884, 'oliv': 1885, 'subtitl': 1886, 'sheriff': 1887, 'unabl': 1888, 'section': 1889, 'drew': 1890, 'laughter': 1891, 'path': 1892, 'altern': 1893, 'pile': 1894, 'sheer': 1895, 'matt': 1896, 'parker': 1897, 'cook': 1898, 'defin': 1899, 'hall': 1900, 'accident': 1901, 'treatment': 1902, 'sinatra': 1903, 'relief': 1904, 'lawyer': 1905, 'wander': 1906, 'captiv': 1907, 'dragon': 1908, 'hank': 1909, 'gratuit': 1910, 'halloween': 1911, 'moor': 1912, 'unintent': 1913, 'wound': 1914, 'jacki': 1915, 'k': 1916, 'broadway': 1917, 'wayn': 1918, 'barbara': 1919, 'kung': 1920, 'cowboy': 1921, 'spoof': 1922, 'winter': 1923, 'surreal': 1924, 'canadian': 1925, 'statement': 1926, 'compos': 1927, 'cheer': 1928, 'fare': 1929, 'gonna': 1930, 'fish': 1931, 'treasur': 1932, 'emerg': 1933, 'sensit': 1934, 'victor': 1935, 'unrealist': 1936, 'woodi': 1937, 'neighbor': 1938, 'sympathet': 1939, 'driven': 1940, 'ran': 1941, 'expos': 1942, 'menac': 1943, 'topic': 1944, 'overlook': 1945, 'authent': 1946, 'glass': 1947, 'handsom': 1948, 'michel': 1949, 'ancient': 1950, 'gross': 1951, 'chief': 1952, 'contemporari': 1953, 'built': 1954, 'feet': 1955, 'network': 1956, 'pleasant': 1957, 'comedian': 1958, 'russel': 1959, 'stranger': 1960, 'nevertheless': 1961, 'cinderella': 1962, 'letter': 1963, 'endless': 1964, 'earn': 1965, 'gori': 1966, 'consider': 1967, 'blockbust': 1968, 'miser': 1969, 'underr': 1970, 'brook': 1971, 'solv': 1972, 'switch': 1973, 'joseph': 1974, 'edward': 1975, 'bullet': 1976, 'victoria': 1977, 'virgin': 1978, 'convict': 1979, 'alex': 1980, '0': 1981, 'cynic': 1982, 'scenario': 1983, 'chosen': 1984, 'scale': 1985, 'outrag': 1986, 'com': 1987, 'gut': 1988, 'curs': 1989, 'sword': 1990, 'wrap': 1991, 'juli': 1992, 'uk': 1993, 'driver': 1994, 'proper': 1995, 'monkey': 1996, 'substanc': 1997, 'screenwrit': 1998, 'bird': 1999, 'indic': 2000, 'court': 2001, 'par': 2002, 'remov': 2003, 'loser': 2004, 'inevit': 2005, 'consequ': 2006, 'naiv': 2007, 'roy': 2008, 'advertis': 2009, 'grave': 2010, 'nanci': 2011, 'rental': 2012, 'bridg': 2013, 'germani': 2014, 'invis': 2015, 'slap': 2016, 'fatal': 2017, 'brave': 2018, 'le': 2019, 'provok': 2020, 'ador': 2021, 'anger': 2022, 'loui': 2023, 'footbal': 2024, 'anderson': 2025, 'alcohol': 2026, 'chan': 2027, 'professor': 2028, 'stumbl': 2029, 'willi': 2030, 'ryan': 2031, 'assassin': 2032, '1930': 2033, 'bat': 2034, 'sharp': 2035, 'australian': 2036, 'patrick': 2037, 'lousi': 2038, 'refresh': 2039, 'heck': 2040, 'strongli': 2041, 'eight': 2042, 'saturday': 2043, 'cell': 2044, 'ape': 2045, 'deni': 2046, 'liber': 2047, 'trilog': 2048, 'amateurish': 2049, 'sin': 2050, 'vagu': 2051, 'san': 2052, 'justifi': 2053, 'resid': 2054, 'mini': 2055, 'terrifi': 2056, 'creator': 2057, 'sympathi': 2058, 'indi': 2059, 'reput': 2060, 'defeat': 2061, 'prevent': 2062, 'task': 2063, 'tabl': 2064, 'endur': 2065, 'tediou': 2066, 'expert': 2067, 'trial': 2068, 'basebal': 2069, 'rival': 2070, 'offend': 2071, 'employ': 2072, 'imit': 2073, 'che': 2074, 'pitch': 2075, 'fairi': 2076, 'complaint': 2077, 'europ': 2078, 'max': 2079, 'weekend': 2080, 'beach': 2081, 'dig': 2082, 'murphi': 2083, 'format': 2084, 'purchas': 2085, 'risk': 2086, 'bite': 2087, 'glimps': 2088, 'powel': 2089, 'nois': 2090, 'reminisc': 2091, 'hype': 2092, 'tini': 2093, 'harsh': 2094, 'titan': 2095, 'north': 2096, 'prime': 2097, 'till': 2098, 'asleep': 2099, 'fals': 2100, 'strip': 2101, '14': 2102, 'africa': 2103, 'destruct': 2104, 'descript': 2105, 'revel': 2106, 'texa': 2107, 'semi': 2108, 'inner': 2109, 'spin': 2110, 'sitcom': 2111, 'uninterest': 2112, 'surfac': 2113, 'arrest': 2114, 'excess': 2115, 'maintain': 2116, 'hitchcock': 2117, 'argu': 2118, 'twin': 2119, 'dinosaur': 2120, 'makeup': 2121, 'massiv': 2122, 'controversi': 2123, 'ludicr': 2124, 'expens': 2125, 'reject': 2126, 'stare': 2127, 'ideal': 2128, 'insist': 2129, 'kim': 2130, 'melodrama': 2131, 'nail': 2132, 'subplot': 2133, 'supernatur': 2134, 'ga': 2135, 'erot': 2136, 'atroci': 2137, 'host': 2138, 'press': 2139, 'forest': 2140, 'ala': 2141, 'columbo': 2142, 'notch': 2143, 'dude': 2144, 'identifi': 2145, 'presum': 2146, 'cant': 2147, 'method': 2148, 'guest': 2149, 'plagu': 2150, 'closer': 2151, 'crude': 2152, 'character': 2153, 'forgett': 2154, 'border': 2155, 'ear': 2156, 'foster': 2157, 'beast': 2158, 'princess': 2159, 'lion': 2160, 'landscap': 2161, 'jungl': 2162, 'aunt': 2163, 'pacino': 2164, 'previous': 2165, 'urban': 2166, 'bound': 2167, 'storytel': 2168, 'damag': 2169, 'accus': 2170, 'birth': 2171, 'chose': 2172, 'jess': 2173, 'thirti': 2174, 'propaganda': 2175, 'guid': 2176, 'doll': 2177, 'nude': 2178, 'emma': 2179, 'pet': 2180, 'mate': 2181, '25': 2182, 'whoever': 2183, 'mainstream': 2184, 'warrior': 2185, 'cooper': 2186, 'poster': 2187, 'friday': 2188, 'latest': 2189, 'deadli': 2190, 'exact': 2191, 'upset': 2192, 'size': 2193, 'merit': 2194, 'gritti': 2195, 'blend': 2196, 'corps': 2197, 'warner': 2198, 'ton': 2199, 'popul': 2200, 'wilson': 2201, 'rough': 2202, 'settl': 2203, 'citizen': 2204, 'sun': 2205, 'contact': 2206, 'buff': 2207, 'contest': 2208, '1990': 2209, 'overcom': 2210, 'mgm': 2211, 'rat': 2212, 'widow': 2213, 'metal': 2214, 'environ': 2215, 'alic': 2216, 'pitt': 2217, 'select': 2218, 'bu': 2219, 'lift': 2220, 'guilti': 2221, 'link': 2222, 'particip': 2223, 'ted': 2224, 'revolut': 2225, 'prostitut': 2226, 'corner': 2227, 'exagger': 2228, 'moron': 2229, '1960': 2230, 'corpor': 2231, 'johnson': 2232, 'afternoon': 2233, 'accompani': 2234, 'matrix': 2235, 'sincer': 2236, 'leagu': 2237, 'hood': 2238, 'holm': 2239, 'doom': 2240, 'friendli': 2241, 'instal': 2242, 'clair': 2243, 'multipl': 2244, 'lugosi': 2245, 'defend': 2246, 'examin': 2247, 'junk': 2248, 'advis': 2249, 'sunday': 2250, 'campi': 2251, 'aka': 2252, 'grim': 2253, 'hip': 2254, 'irish': 2255, 'string': 2256, 'blah': 2257, 'rachel': 2258, 'confid': 2259, 'pro': 2260, 'tight': 2261, 'shut': 2262, 'icon': 2263, 'shake': 2264, 'varieti': 2265, 'mexican': 2266, 'attach': 2267, 'directli': 2268, 'medic': 2269, 'jaw': 2270, 'goal': 2271, 'denni': 2272, 'sullivan': 2273, 'dean': 2274, 'sarah': 2275, 'truck': 2276, 'sentenc': 2277, 'courag': 2278, 'terrorist': 2279, 'prior': 2280, 'vietnam': 2281, 'duke': 2282, 'legendari': 2283, 'breast': 2284, 'bourn': 2285, 'behav': 2286, 'donald': 2287, 'entri': 2288, 'hong': 2289, 'un': 2290, 'proceed': 2291, 'yell': 2292, 'split': 2293, 'nose': 2294, 'buri': 2295, 'lifetim': 2296, 'confess': 2297, 'crush': 2298, 'swim': 2299, 'borrow': 2300, 'everywher': 2301, 'gather': 2302, 'forth': 2303, 'jerk': 2304, 'unconvinc': 2305, 'concentr': 2306, 'stolen': 2307, 'pan': 2308, 'deliveri': 2309, 'california': 2310, 'turkey': 2311, 'spite': 2312, 'julia': 2313, 'lip': 2314, 'hoffman': 2315, 'proud': 2316, 'offici': 2317, 'quest': 2318, 'downright': 2319, 'flight': 2320, 'reward': 2321, 'china': 2322, 'freeman': 2323, 'lazi': 2324, 'worthwhil': 2325, 'inept': 2326, 'jail': 2327, 'notori': 2328, 'fabul': 2329, 'sink': 2330, 'encourag': 2331, 'betray': 2332, 'jon': 2333, 'sir': 2334, 'fade': 2335, 'relev': 2336, 'teeth': 2337, 'imageri': 2338, 'storm': 2339, 'susan': 2340, 'survivor': 2341, 'lisa': 2342, 'shower': 2343, 'branagh': 2344, 'retard': 2345, 'cousin': 2346, 'bag': 2347, 'bell': 2348, 'summari': 2349, 'quirki': 2350, 'toler': 2351, 'trade': 2352, 'tremend': 2353, 'hugh': 2354, 'mexico': 2355, 'shark': 2356, 'bride': 2357, 'stab': 2358, 'facial': 2359, 'finger': 2360, 'alright': 2361, 'hyster': 2362, 'ha': 2363, 'von': 2364, 'blown': 2365, 'bitter': 2366, 'pose': 2367, 'cruel': 2368, 'christ': 2369, 'afterward': 2370, 'larri': 2371, 'bone': 2372, 'ned': 2373, 'address': 2374, 'scheme': 2375, 'ron': 2376, 'distinct': 2377, 'beg': 2378, 'tour': 2379, 'screw': 2380, 'feed': 2381, 'pursu': 2382, 'swear': 2383, 'thumb': 2384, 'traci': 2385, 'snake': 2386, 'obscur': 2387, 'raw': 2388, 'mechan': 2389, 'stomach': 2390, 'photo': 2391, 'chair': 2392, 'occas': 2393, 'heavili': 2394, 'render': 2395, 'sidney': 2396, 'resist': 2397, 'cabin': 2398, 'southern': 2399, 'gruesom': 2400, 'hardi': 2401, 'holiday': 2402, 'argument': 2403, 'chain': 2404, 'necessarili': 2405, 'understood': 2406, 'philip': 2407, 'racist': 2408, 'satan': 2409, 'india': 2410, 'indulg': 2411, 'lay': 2412, 'obnoxi': 2413, 'stalk': 2414, 'fourth': 2415, 'pregnant': 2416, 'midnight': 2417, 'belov': 2418, 'integr': 2419, 'outfit': 2420, 'forgot': 2421, 'tongu': 2422, 'ticket': 2423, 'inhabit': 2424, 'carol': 2425, 'deeper': 2426, 'magazin': 2427, 'restor': 2428, 'garden': 2429, '17': 2430, 'slapstick': 2431, 'shoe': 2432, 'devot': 2433, 'incid': 2434, 'brad': 2435, 'lincoln': 2436, 'benefit': 2437, 'divorc': 2438, 'guarante': 2439, 'sandler': 2440, 'anticip': 2441, 'elizabeth': 2442, 'lili': 2443, 'disbelief': 2444, 'maria': 2445, 'underground': 2446, 'slave': 2447, 'cring': 2448, 'princip': 2449, 'greater': 2450, 'mildli': 2451, 'amazingli': 2452, 'capit': 2453, 'bbc': 2454, 'creation': 2455, 'explod': 2456, 'funnier': 2457, 'introduct': 2458, 'extraordinari': 2459, 'halfway': 2460, 'lesli': 2461, 'transfer': 2462, 'extent': 2463, 'tap': 2464, 'wreck': 2465, 'overwhelm': 2466, 'punish': 2467, 'text': 2468, 'enhanc': 2469, 'advantag': 2470, 'error': 2471, 'horrif': 2472, 'dynam': 2473, 'jessica': 2474, 'preview': 2475, 'deliber': 2476, 'lane': 2477, 'east': 2478, 'plant': 2479, 'lo': 2480, 'sophist': 2481, 'homosexu': 2482, 'miscast': 2483, 'vincent': 2484, '2000': 2485, 'appli': 2486, 'ensu': 2487, 'basi': 2488, 'vacat': 2489, 'miller': 2490, 'reed': 2491, 'mansion': 2492, 'elev': 2493, 'sleazi': 2494, 'uncomfort': 2495, 'via': 2496, 'measur': 2497, 'steel': 2498, 'spoken': 2499, 'extend': 2500, 'bollywood': 2501, 'mous': 2502, 'alter': 2503, 'dentist': 2504, 'melt': 2505, 'stanley': 2506, 'blair': 2507, 'breathtak': 2508, 'overact': 2509, 'cathol': 2510, 'beer': 2511, 'savag': 2512, 'fix': 2513, 'hippi': 2514, 'goofi': 2515, 'assign': 2516, 'conceiv': 2517, 'daili': 2518, 'inspector': 2519, 'everyday': 2520, 'nowaday': 2521, 'carpent': 2522, 'sacrific': 2523, 'oppos': 2524, 'properli': 2525, 'subsequ': 2526, 'succe': 2527, 'burt': 2528, 'neck': 2529, 'circl': 2530, 'massacr': 2531, 'laura': 2532, 'block': 2533, 'grey': 2534, 'fallen': 2535, 'fay': 2536, 'concert': 2537, 'mob': 2538, 'pool': 2539, 'access': 2540, 'lesser': 2541, 'seagal': 2542, 'portrait': 2543, 'christi': 2544, 'jake': 2545, 'relax': 2546, 'usa': 2547, 'chees': 2548, 'sinist': 2549, 'competit': 2550, 'isol': 2551, 'react': 2552, 'jewish': 2553, 'immens': 2554, 'lyric': 2555, 'spiritu': 2556, 'chop': 2557, 'nonetheless': 2558, 'nine': 2559, 'appal': 2560, 'suitabl': 2561, '2006': 2562, 'stink': 2563, 'ironi': 2564, 'creep': 2565, 'sold': 2566, 'adopt': 2567, 'showcas': 2568, 'rage': 2569, 'shirt': 2570, 'nut': 2571, 'reduc': 2572, 'user': 2573, 'spring': 2574, 'franchis': 2575, 'navi': 2576, 'retir': 2577, 'luci': 2578, 'needless': 2579, 'zone': 2580, 'jay': 2581, 'asham': 2582, 'uninspir': 2583, 'bulli': 2584, 'per': 2585, 'digit': 2586, 'bath': 2587, 'nurs': 2588, 'stanwyck': 2589, '1940': 2590, 'illustr': 2591, '2001': 2592, 'oddli': 2593, 'laid': 2594, 'broadcast': 2595, 'upper': 2596, 'amongst': 2597, 'sutherland': 2598, 'stylish': 2599, 'disguis': 2600, 'brando': 2601, 'baker': 2602, 'fulfil': 2603, 'aspir': 2604, 'throat': 2605, 'impli': 2606, 'em': 2607, 'thief': 2608, 'wanna': 2609, 'pride': 2610, 'pound': 2611, 'endear': 2612, 'neighborhood': 2613, 'wwii': 2614, '18': 2615, 'nobl': 2616, 'coher': 2617, 'shift': 2618, 'tens': 2619, 'albeit': 2620, 'distribut': 2621, 'dawn': 2622, 'cinematograph': 2623, 'shoulder': 2624, 'diseas': 2625, 'bett': 2626, '16': 2627, 'dinner': 2628, 'prop': 2629, 'bo': 2630, 'rochest': 2631, 'wash': 2632, 'snow': 2633, 'poignant': 2634, 'matthau': 2635, 'function': 2636, 'surf': 2637, 'shout': 2638, 'contract': 2639, 'silenc': 2640, 'forti': 2641, 'rebel': 2642, 'knife': 2643, 'height': 2644, 'heat': 2645, 'derek': 2646, 'proof': 2647, 'horrend': 2648, 'instinct': 2649, 'reunion': 2650, 'internet': 2651, 'eeri': 2652, 'cancel': 2653, 'chuck': 2654, 'duti': 2655, 'mindless': 2656, 'widmark': 2657, 'elvira': 2658, 'silver': 2659, 'henc': 2660, 'cannib': 2661, 'absorb': 2662, 'greatli': 2663, 'musician': 2664, 'spielberg': 2665, 'glori': 2666, 'incoher': 2667, 'torn': 2668, 'innov': 2669, 'alik': 2670, 'etern': 2671, 'premier': 2672, 'mill': 2673, 'neat': 2674, 'repetit': 2675, 'pie': 2676, 'elvi': 2677, 'bang': 2678, 'horrifi': 2679, 'blank': 2680, 'fbi': 2681, 'trite': 2682, 'britain': 2683, 'infam': 2684, 'diamond': 2685, 'precis': 2686, 'announc': 2687, 'wealthi': 2688, 'homag': 2689, 'racism': 2690, 'crisi': 2691, 'redempt': 2692, 'burton': 2693, 'itali': 2694, 'lovabl': 2695, 'nelson': 2696, 'happili': 2697, 'helen': 2698, 'ensembl': 2699, 'hammer': 2700, 'dedic': 2701, 'streisand': 2702, 'flop': 2703, 'chaplin': 2704, 'wilder': 2705, 'resolut': 2706, 'parallel': 2707, 'pat': 2708, 'conclud': 2709, 'cube': 2710, 'carter': 2711, 'triumph': 2712, 'disagre': 2713, 'broke': 2714, 'st': 2715, 'factori': 2716, 'oil': 2717, 'mar': 2718, 'plastic': 2719, 'row': 2720, 'bush': 2721, 'own': 2722, 'rocket': 2723, 'weight': 2724, 'chuckl': 2725, 'vega': 2726, 'march': 2727, 'climb': 2728, 'fighter': 2729, 'unforgett': 2730, 'enorm': 2731, 'lust': 2732, 'dump': 2733, 'sensibl': 2734, 'thug': 2735, 'meaning': 2736, 'mst3k': 2737, 'wherea': 2738, 'spare': 2739, 'dane': 2740, 'luca': 2741, 'boot': 2742, 'kurt': 2743, 'karloff': 2744, 'butt': 2745, 'threat': 2746, 'caricatur': 2747, 'adequ': 2748, 'bobbi': 2749, 'dear': 2750, 'fifti': 2751, 'arnold': 2752, 'engin': 2753, 'brand': 2754, 'stress': 2755, 'rap': 2756, 'difficulti': 2757, 'ego': 2758, 'elabor': 2759, 'polish': 2760, 'journalist': 2761, 'barri': 2762, 'swing': 2763, 'homeless': 2764, 'arrog': 2765, 'ralph': 2766, 'fest': 2767, 'secretari': 2768, 'flynn': 2769, 'hamlet': 2770, 'arrang': 2771, 'induc': 2772, 'float': 2773, 'unbear': 2774, 'conspiraci': 2775, 'resort': 2776, 'tool': 2777, 'simpson': 2778, 'puppet': 2779, 'spike': 2780, 'fanci': 2781, 'grate': 2782, 'tribut': 2783, 'exercis': 2784, 'guilt': 2785, 'pig': 2786, 'cruis': 2787, 'muppet': 2788, 'basement': 2789, 'phillip': 2790, 'choreograph': 2791, 'boll': 2792, 'toilet': 2793, 'korean': 2794, 'ward': 2795, 'puzzl': 2796, 'slip': 2797, 'item': 2798, 'babe': 2799, 'medium': 2800, 'document': 2801, 'tower': 2802, 'file': 2803, 'ham': 2804, 'layer': 2805, '24': 2806, 'fianc': 2807, 'stan': 2808, 'editor': 2809, 'scarecrow': 2810, 'slaughter': 2811, 'larger': 2812, 'territori': 2813, 'portion': 2814, 'denzel': 2815, 'persona': 2816, 'spark': 2817, 'catherin': 2818, 'minim': 2819, 'assur': 2820, 'orient': 2821, 'superfici': 2822, 'philosoph': 2823, 'transit': 2824, 'inexplic': 2825, 'glover': 2826, 'librari': 2827, 'doc': 2828, 'curti': 2829, 'pg': 2830, 'financi': 2831, 'ban': 2832, 'shi': 2833, 'dorothi': 2834, 'owe': 2835, 'boredom': 2836, 'sneak': 2837, 'jeremi': 2838, 'jet': 2839, 'walken': 2840, 'wolf': 2841, 'whale': 2842, 'multi': 2843, 'profound': 2844, 'cusack': 2845, 'backdrop': 2846, 'metaphor': 2847, 'hudson': 2848, 'ambigu': 2849, 'eleph': 2850, 'gadget': 2851, '2005': 2852, 'elsewher': 2853, 'rave': 2854, 'stiff': 2855, 'ultra': 2856, 'viru': 2857, 'union': 2858, 'implaus': 2859, 'notion': 2860, 'birthday': 2861, 'hack': 2862, 'hawk': 2863, 'urg': 2864, 'newspap': 2865, 'poison': 2866, 'pad': 2867, '1st': 2868, 'reader': 2869, 'canada': 2870, 'disc': 2871, 'squar': 2872, 'afford': 2873, 'slight': 2874, 'deriv': 2875, 'superhero': 2876, 'eastwood': 2877, 'bibl': 2878, 'lloyd': 2879, 'eva': 2880, 'distanc': 2881, 'essenc': 2882, 'health': 2883, 'cure': 2884, 'skit': 2885, 'charisma': 2886, 'montag': 2887, 'button': 2888, 'drown': 2889, 'spread': 2890, 'sadist': 2891, 'huh': 2892, 'restaur': 2893, 'heston': 2894, 'estat': 2895, 'maniac': 2896, 'dealt': 2897, 'gradual': 2898, 'scoobi': 2899, 'peak': 2900, 'muslim': 2901, 'fetch': 2902, 'godfath': 2903, 'invest': 2904, 'companion': 2905, 'lab': 2906, 'gothic': 2907, 'miik': 2908, 'subtleti': 2909, 'kane': 2910, 'countless': 2911, 'servant': 2912, 'ritter': 2913, 'tea': 2914, 'alli': 2915, 'cup': 2916, 'salli': 2917, 'electr': 2918, 'briefli': 2919, 'elect': 2920, 'charismat': 2921, 'heroic': 2922, 'iii': 2923, 'nuanc': 2924, 'neil': 2925, 'ingredi': 2926, 'toss': 2927, 'resourc': 2928, 'grandmoth': 2929, 'wannab': 2930, 'reel': 2931, 'admittedli': 2932, 'bud': 2933, 'tender': 2934, 'cole': 2935, 'stood': 2936, 'poverti': 2937, 'mafia': 2938, 'stronger': 2939, 'gate': 2940, 'carrey': 2941, 'punk': 2942, 'label': 2943, 'dawson': 2944, 'shall': 2945, 'pauli': 2946, 'reev': 2947, 'kubrick': 2948, 'mild': 2949, 'pit': 2950, 'updat': 2951, 'ian': 2952, 'useless': 2953, 'fond': 2954, 'tag': 2955, 'assault': 2956, 'terri': 2957, 'easier': 2958, 'smooth': 2959, 'smash': 2960, 'burst': 2961, 'outcom': 2962, 'astair': 2963, 'cardboard': 2964, 'cox': 2965, 'bakshi': 2966, 'melodramat': 2967, 'resolv': 2968, 'qualifi': 2969, 'divers': 2970, 'fist': 2971, '2002': 2972, 'increasingli': 2973, 'samurai': 2974, 'coincid': 2975, 'vari': 2976, 'vulner': 2977, 'sketch': 2978, 'exchang': 2979, 'rex': 2980, 'be': 2981, 'brillianc': 2982, 'blast': 2983, 'scratch': 2984, 'insert': 2985, 'suspend': 2986, 'luckili': 2987, 'tame': 2988, 'conveni': 2989, 'templ': 2990, 'reynold': 2991, 'jami': 2992, 'gotta': 2993, 'coach': 2994, 'fisher': 2995, 'walker': 2996, 'nuclear': 2997, 'farm': 2998, 'meat': 2999, 'strictli': 3000, 'matthew': 3001, 'ambiti': 3002, 'seventi': 3003, 'soprano': 3004, 'hamilton': 3005, 'pin': 3006, 'empir': 3007, 'instantli': 3008, 'kudo': 3009, 'closet': 3010, 'revers': 3011, 'struck': 3012, 'convolut': 3013, 'recreat': 3014, 'joey': 3015, 'discoveri': 3016, 'butcher': 3017, 'worthless': 3018, 'monk': 3019, 'ninja': 3020, 'spooki': 3021, 'timeless': 3022, 'eccentr': 3023, 'grasp': 3024, 'brosnan': 3025, 'cave': 3026, 'clock': 3027, 'fifteen': 3028, 'bleak': 3029, 'mitchel': 3030, 'pal': 3031, 'partli': 3032, 'declar': 3033, 'evok': 3034, 'sloppi': 3035, 'wipe': 3036, 'sidekick': 3037, 'selfish': 3038, 'importantli': 3039, 'eighti': 3040, 'inconsist': 3041, 'communist': 3042, 'clown': 3043, 'norman': 3044, 'seller': 3045, 'miracl': 3046, 'cliff': 3047, 'gray': 3048, 'superbl': 3049, '45': 3050, 'debat': 3051, 'websit': 3052, 'destin': 3053, 'seed': 3054, 'enthusiast': 3055, 'cheek': 3056, 'ho': 3057, 'stoog': 3058, 'aforement': 3059, 'flawless': 3060, 'farc': 3061, 'chew': 3062, 'psychiatrist': 3063, 'piano': 3064, 'australia': 3065, 'lifestyl': 3066, 'directori': 3067, 'drivel': 3068, 'dire': 3069, 'abc': 3070, 'slice': 3071, 'regardless': 3072, 'anni': 3073, 'soviet': 3074, 'dash': 3075, 'incompet': 3076, 'kitchen': 3077, 'emili': 3078, 'wrestl': 3079, 'wick': 3080, 'pressur': 3081, 'splatter': 3082, 'akshay': 3083, 'bash': 3084, 'lou': 3085, 'chapter': 3086, 'glow': 3087, 'recov': 3088, 'flower': 3089, 'artifici': 3090, 'curios': 3091, 'duo': 3092, 'pleasantli': 3093, 'cia': 3094, 'doo': 3095, 'cameron': 3096, 'jar': 3097, 'prize': 3098, 'judi': 3099, 'helicopt': 3100, 'distant': 3101, 'cagney': 3102, 'seduc': 3103, 'dave': 3104, 'beaten': 3105, 'increas': 3106, 'ken': 3107, 'boil': 3108, 'suppli': 3109, 'blob': 3110, 'mann': 3111, 'psychot': 3112, 'web': 3113, 'combat': 3114, 'perri': 3115, 'eleg': 3116, 'laurel': 3117, 'favour': 3118, 'craig': 3119, 'goldberg': 3120, 'splendid': 3121, 'glenn': 3122, 'drunken': 3123, 'hop': 3124, 'francisco': 3125, 'craven': 3126, 'turner': 3127, 'panic': 3128, 'ranger': 3129, 'ellen': 3130, 'philosophi': 3131, 'ruth': 3132, 'gentl': 3133, 'fx': 3134, 'graduat': 3135, '20th': 3136, 'min': 3137, 'modesti': 3138, 'rid': 3139, 'flip': 3140, 'plausibl': 3141, 'alexand': 3142, 'greek': 3143, 'slightest': 3144, 'hatr': 3145, 'wizard': 3146, 'shortli': 3147, 'gandhi': 3148, 'falk': 3149, 'legal': 3150, 'harm': 3151, 'tall': 3152, 'lend': 3153, 'unpleas': 3154, 'manhattan': 3155, 'holi': 3156, 'ocean': 3157, 'fund': 3158, 'jealou': 3159, 'futurist': 3160, 'we': 3161, 'knight': 3162, 'preciou': 3163, 'felix': 3164, 'dracula': 3165, 'digniti': 3166, 'bless': 3167, 'nod': 3168, 'explicit': 3169, 'scientif': 3170, 'mock': 3171, 'childish': 3172, 'tank': 3173, 'ami': 3174, 'thread': 3175, 'overdon': 3176, 'forbidden': 3177, 'reviv': 3178, 'giallo': 3179, 'yesterday': 3180, 'broad': 3181, 'awe': 3182, 'fever': 3183, 'verhoeven': 3184, 'mel': 3185, '2004': 3186, 'unwatch': 3187, 'repeatedli': 3188, 'elderli': 3189, 'margaret': 3190, '99': 3191, 'torment': 3192, 'pirat': 3193, 'thick': 3194, 'eve': 3195, 'nerv': 3196, 'awaken': 3197, 'publish': 3198, 'kay': 3199, 'timothi': 3200, 'launch': 3201, 'eas': 3202, 'royal': 3203, 'rivet': 3204, 'lean': 3205, 'ambit': 3206, 'absenc': 3207, 'acclaim': 3208, 'roman': 3209, 'ah': 3210, 'politician': 3211, 'griffith': 3212, 'bin': 3213, 'uniform': 3214, 'romero': 3215, 'automat': 3216, 'custom': 3217, 'stiller': 3218, 'antic': 3219, 'sunshin': 3220, 'purpl': 3221, 'homicid': 3222, 'phrase': 3223, 'wallac': 3224, 'foul': 3225, 'termin': 3226, 'stinker': 3227, 'tomato': 3228, 'darker': 3229, 'crook': 3230, 'pulp': 3231, 'warren': 3232, 'bathroom': 3233, 'pierc': 3234, 'gabriel': 3235, 'transport': 3236, 'ought': 3237, 'karen': 3238, 'contrari': 3239, 'packag': 3240, 'saint': 3241, 'hollow': 3242, 'awak': 3243, 'donna': 3244, 'viciou': 3245, 'revolutionari': 3246, '2003': 3247, 'choreographi': 3248, 'horrid': 3249, 'kenneth': 3250, 'juvenil': 3251, 'album': 3252, 'brazil': 3253, 'marin': 3254, 'pray': 3255, 'sixti': 3256, 'li': 3257, 'evolv': 3258, 'q': 3259, 'coloni': 3260, 'rambo': 3261, 'prom': 3262, 'eyr': 3263, 'twelv': 3264, 'mummi': 3265, 'conserv': 3266, 'defi': 3267, 'boast': 3268, 'candid': 3269, 'nerd': 3270, 'stole': 3271, 'option': 3272, 'overr': 3273, 'blade': 3274, 'dose': 3275, 'beatti': 3276, 'mildr': 3277, 'ireland': 3278, 'ramon': 3279, 'kapoor': 3280, 'natali': 3281, 'collabor': 3282, 'detract': 3283, 'protest': 3284, 'altman': 3285, 'funer': 3286, 'flame': 3287, 'global': 3288, 'trio': 3289, 'kirk': 3290, 'astonish': 3291, 'confirm': 3292, 'jazz': 3293, 'fulci': 3294, 'bull': 3295, 'shade': 3296, 'mystic': 3297, 'destini': 3298, 'bottl': 3299, 'spit': 3300, 'racial': 3301, 'whip': 3302, 'yellow': 3303, 'blake': 3304, 'audio': 3305, 'enterpris': 3306, 'leap': 3307, 'tommi': 3308, 'nicholson': 3309, 'delici': 3310, 'visibl': 3311, 'inherit': 3312, 'reunit': 3313, 'fonda': 3314, 'enchant': 3315, 'merci': 3316, 'threw': 3317, 'pseudo': 3318, 'harder': 3319, 'swedish': 3320, 'meaningless': 3321, 'bedroom': 3322, 'neo': 3323, 'popcorn': 3324, 'vivid': 3325, 'adolesc': 3326, 'staff': 3327, 'altogeth': 3328, 'todd': 3329, 'bust': 3330, 'moodi': 3331, 'synopsi': 3332, 'exhibit': 3333, 'reserv': 3334, 'respond': 3335, 'await': 3336, 'jew': 3337, 'suspici': 3338, 'fanat': 3339, 'ruthless': 3340, 'leonard': 3341, 'befriend': 3342, 'kennedi': 3343, 'roommat': 3344, 'madonna': 3345, 'crocodil': 3346, 'uneven': 3347, 'decor': 3348, 'lemmon': 3349, 'edi': 3350, 'lawrenc': 3351, 'wire': 3352, 'voight': 3353, 'atlanti': 3354, 'tip': 3355, 'clumsi': 3356, 'audit': 3357, '2007': 3358, 'clint': 3359, 'abysm': 3360, 'bargain': 3361, 'holli': 3362, 'rural': 3363, 'incident': 3364, 'chao': 3365, 'bradi': 3366, 'palma': 3367, 'unsettl': 3368, 'garner': 3369, 'centr': 3370, 'voyag': 3371, 'dimens': 3372, 'bold': 3373, 'ventur': 3374, 'carl': 3375, 'daddi': 3376, 'wealth': 3377, 'nearbi': 3378, 'mall': 3379, 'immigr': 3380, 'imperson': 3381, 'lit': 3382, '2nd': 3383, 'poetic': 3384, 'hart': 3385, 'cari': 3386, 'trail': 3387, 'acknowledg': 3388, 'neglect': 3389, 'troop': 3390, 'ant': 3391, 'humili': 3392, 'cuba': 3393, 'tiger': 3394, 'characterist': 3395, 'cd': 3396, 'elimin': 3397, 'echo': 3398, 'versu': 3399, 'timon': 3400, 'paus': 3401, 'pun': 3402, 'mickey': 3403, 'mistaken': 3404, 'homer': 3405, 'domest': 3406, 'collaps': 3407, 'saga': 3408, 'jeffrey': 3409, 'infect': 3410, 'solo': 3411, 'repuls': 3412, 'prejudic': 3413, 'celluloid': 3414, 'marshal': 3415, 'interrupt': 3416, '1996': 3417, 'apolog': 3418, 'assembl': 3419, 'pant': 3420, 'sore': 3421, 'gear': 3422, 'promin': 3423, 'coffe': 3424, 'inan': 3425, 'tribe': 3426, 'harvey': 3427, 'inappropri': 3428, 'chest': 3429, 'leon': 3430, 'cake': 3431, 'milk': 3432, 'olivi': 3433, 'coat': 3434, 'undoubtedli': 3435, 'ginger': 3436, 'hbo': 3437, 'equip': 3438, 'primari': 3439, 'maggi': 3440, 'highest': 3441, 'instant': 3442, 'vulgar': 3443, 'humbl': 3444, 'consum': 3445, 'airplan': 3446, 'retain': 3447, 'devast': 3448, 'colleagu': 3449, 'pen': 3450, 'florida': 3451, 'exot': 3452, 'trace': 3453, 'furthermor': 3454, 'colonel': 3455, 'jenni': 3456, 'aveng': 3457, 'institut': 3458, 'embrac': 3459, 'brooklyn': 3460, 'solut': 3461, 'pot': 3462, 'polanski': 3463, 'linda': 3464, 'bowl': 3465, 'dutch': 3466, 'disabl': 3467, 'ya': 3468, 'sale': 3469, 'godzilla': 3470, '1999': 3471, 'outer': 3472, 'smaller': 3473, '3rd': 3474, 'illog': 3475, 'cope': 3476, 'descend': 3477, 'wive': 3478, 'poke': 3479, 'rick': 3480, 'seduct': 3481, 'gender': 3482, 'strain': 3483, 'dian': 3484, 'principl': 3485, 'lol': 3486, 'dud': 3487, 'devoid': 3488, 'beneath': 3489, 'inferior': 3490, 'blatant': 3491, 'gloriou': 3492, 'bubbl': 3493, 'cue': 3494, 'mixtur': 3495, 'rabbit': 3496, 'glamor': 3497, 'dive': 3498, 'secondli': 3499, 'primarili': 3500, 'yard': 3501, 'predecessor': 3502, 'scope': 3503, 'hal': 3504, 'gundam': 3505, 'vast': 3506, 'simplist': 3507, 'myer': 3508, 'museum': 3509, 'et': 3510, 'talki': 3511, 'trademark': 3512, 'senseless': 3513, 'aggress': 3514, 'z': 3515, 'shelf': 3516, 'invas': 3517, 'grinch': 3518, 'april': 3519, 'disjoint': 3520, 'countrysid': 3521, 'alert': 3522, 'domino': 3523, 'streep': 3524, 'casual': 3525, 'hideou': 3526, 'pearl': 3527, 'shirley': 3528, 'arab': 3529, 'garbo': 3530, 'alfr': 3531, 'breed': 3532, 'loyal': 3533, 'applaud': 3534, 'oz': 3535, 'defens': 3536, 'vanish': 3537, 'experiment': 3538, 'robberi': 3539, 'sh': 3540, 'disgrac': 3541, 'acid': 3542, 'rendit': 3543, 'robinson': 3544, 'hardcor': 3545, 'stellar': 3546, 'mayor': 3547, 'maci': 3548, 'obtain': 3549, 'mail': 3550, 'stack': 3551, 'boom': 3552, 'hopeless': 3553, 'uwe': 3554, 'stir': 3555, 'slide': 3556, 'unhappi': 3557, 'illeg': 3558, 'khan': 3559, 'fri': 3560, 'amanda': 3561, 'dicken': 3562, 'diana': 3563, 'tempt': 3564, 'counter': 3565, 'craze': 3566, 'recruit': 3567, 'wont': 3568, 'span': 3569, 'blew': 3570, 'topless': 3571, 'grandfath': 3572, 'psychic': 3573, 'emphasi': 3574, 'scroog': 3575, 'incomprehens': 3576, 'dismiss': 3577, 'declin': 3578, 'spider': 3579, 'berlin': 3580, 'soccer': 3581, 'hartley': 3582, 'tenant': 3583, 'rifl': 3584, 'niro': 3585, 'ration': 3586, 'lumet': 3587, 'revolt': 3588, 'shed': 3589, 'justin': 3590, 'goer': 3591, 'woo': 3592, 'ethnic': 3593, 'resurrect': 3594, 'intim': 3595, 'parad': 3596, 'porno': 3597, 'trashi': 3598, 'sympath': 3599, 'shaw': 3600, 'sibl': 3601, 'riot': 3602, 'faster': 3603, 'bitch': 3604, 'wet': 3605, 'immort': 3606, 'ensur': 3607, '00': 3608, 'eager': 3609, 'unreal': 3610, 'region': 3611, 'enlighten': 3612, 'dealer': 3613, 'slick': 3614, 'choru': 3615, 'mario': 3616, 'jonathan': 3617, 'honesti': 3618, 'lena': 3619, 'feminist': 3620, 'weakest': 3621, 'patriot': 3622, 'gap': 3623, 'biographi': 3624, 'andr': 3625, 'nephew': 3626, 'steam': 3627, 'ballet': 3628, 'wheel': 3629, 'hopper': 3630, 'partial': 3631, 'worm': 3632, 'commend': 3633, 'farmer': 3634, 'rider': 3635, 'hesit': 3636, 'wendi': 3637, 'properti': 3638, 'psychopath': 3639, 'safeti': 3640, 'snap': 3641, 'skull': 3642, 'prequel': 3643, 'charlott': 3644, 'confin': 3645, 'nostalg': 3646, 'sappi': 3647, 'repress': 3648, 'similarli': 3649, 'kingdom': 3650, 'hung': 3651, 'composit': 3652, 'victori': 3653, 'leo': 3654, 'franco': 3655, 'wore': 3656, 'vice': 3657, 'blunt': 3658, 'morri': 3659, 'owen': 3660, 'util': 3661, 'mutant': 3662, 'sandra': 3663, 'macarthur': 3664, 'compens': 3665, 'speci': 3666, 'compass': 3667, 'drain': 3668, 'whoopi': 3669, 'hyde': 3670, 'deed': 3671, 'thru': 3672, 'tail': 3673, 'miseri': 3674, 'rope': 3675, '1972': 3676, 'strand': 3677, 'campbel': 3678, 'recycl': 3679, 'rocki': 3680, 'montana': 3681, 'exit': 3682, 'pattern': 3683, 'del': 3684, 'cg': 3685, 'heartbreak': 3686, 'bonu': 3687, 'snl': 3688, 'despair': 3689, 'emperor': 3690, 'rambl': 3691, 'bow': 3692, 'farrel': 3693, 'drum': 3694, 'dust': 3695, 'nervou': 3696, 'bumbl': 3697, 'repli': 3698, 'tad': 3699, 'acquir': 3700, 'latin': 3701, 'valuabl': 3702, 'bergman': 3703, 'dalton': 3704, 'kyle': 3705, 'tonight': 3706, 'wacki': 3707, 'carradin': 3708, 'mistress': 3709, 'contempl': 3710, 'pour': 3711, 'orson': 3712, 'airport': 3713, 'gal': 3714, 'roth': 3715, 'romp': 3716, 'downhil': 3717, 'gimmick': 3718, 'da': 3719, 'rapist': 3720, '35': 3721, 'bleed': 3722, 'oppress': 3723, 'olli': 3724, 'rotten': 3725, 'chess': 3726, 'martian': 3727, 'radic': 3728, 'slug': 3729, 'percept': 3730, 'edgar': 3731, 'attorney': 3732, 'slash': 3733, 'programm': 3734, 'arc': 3735, 'tooth': 3736, 'banal': 3737, 'unpredict': 3738, 'preach': 3739, 'dazzl': 3740, 'stilt': 3741, 'belt': 3742, 'heal': 3743, 'tackl': 3744, 'pervers': 3745, 'shelley': 3746, 'pervert': 3747, 'taught': 3748, '1983': 3749, 'mislead': 3750, 'paltrow': 3751, 'arguabl': 3752, 'pursuit': 3753, 'melodi': 3754, 'champion': 3755, 'bela': 3756, 'cleverli': 3757, 'orang': 3758, 'chicken': 3759, 'vocal': 3760, 'employe': 3761, 'raymond': 3762, 'dixon': 3763, 'maid': 3764, 'virginia': 3765, 'poem': 3766, 'closest': 3767, 'vengeanc': 3768, 'passeng': 3769, 'sensat': 3770, 'gambl': 3771, 'graham': 3772, 'uplift': 3773, 'tiresom': 3774, 'conneri': 3775, 'rubi': 3776, 'plight': 3777, 'marti': 3778, 'duval': 3779, 'mesmer': 3780, 'franki': 3781, '1968': 3782, 'secretli': 3783, 'paranoia': 3784, 'suffic': 3785, 'convincingli': 3786, 'bay': 3787, 'giggl': 3788, 'abraham': 3789, 'outing': 3790, 'quarter': 3791, 'volum': 3792, 'habit': 3793, 'crystal': 3794, 'extens': 3795, 'inject': 3796, 'clone': 3797, 'profan': 3798, 'calm': 3799, 'gerard': 3800, 'mute': 3801, 'sirk': 3802, 'climact': 3803, 'iran': 3804, 'swallow': 3805, 'amitabh': 3806, 'whine': 3807, 'engross': 3808, 'lundgren': 3809, 'monologu': 3810, 'yawn': 3811, 'scottish': 3812, 'numb': 3813, 'pokemon': 3814, 'tube': 3815, 'ethan': 3816, 'linger': 3817, 'im': 3818, 'underst': 3819, 'frankenstein': 3820, 'trend': 3821, 'surpass': 3822, 'dispos': 3823, 'septemb': 3824, 'backward': 3825, 'taxi': 3826, 'lowest': 3827, 'richardson': 3828, 'expand': 3829, 'plod': 3830, 'nichola': 3831, 'junior': 3832, 'chicago': 3833, 'earl': 3834, 'franci': 3835, 'grotesqu': 3836, 'bend': 3837, 'meander': 3838, 'fed': 3839, 'austen': 3840, 'poetri': 3841, 'abort': 3842, 'profess': 3843, 'spock': 3844, 'econom': 3845, 'nostalgia': 3846, 'sue': 3847, 'muddl': 3848, 'mundan': 3849, 'simplic': 3850, 'stallon': 3851, 'lure': 3852, 'greedi': 3853, 'instrument': 3854, 'tourist': 3855, 'rant': 3856, 'literatur': 3857, 'compliment': 3858, 'waitress': 3859, 'rubber': 3860, 'household': 3861, 'eugen': 3862, 'der': 3863, 'descent': 3864, 'cannon': 3865, 'myth': 3866, 'dysfunct': 3867, 'hum': 3868, 'spoke': 3869, 'catchi': 3870, 'flee': 3871, 'irrelev': 3872, 'deaf': 3873, 'june': 3874, 'dement': 3875, 'mankind': 3876, 'stale': 3877, 'recognit': 3878, 'occupi': 3879, 'mortal': 3880, 'duck': 3881, 'alongsid': 3882, 'recognis': 3883, 'sissi': 3884, 'dictat': 3885, 'equival': 3886, 'coast': 3887, 'crucial': 3888, 'cent': 3889, 'omen': 3890, 'carel': 3891, 'lang': 3892, 'firstli': 3893, 'phoni': 3894, 'damon': 3895, 'phantom': 3896, 'furi': 3897, 'eaten': 3898, 'bacal': 3899, 'hello': 3900, 'map': 3901, 'molli': 3902, 'louis': 3903, 'insur': 3904, 'randi': 3905, 'labor': 3906, 'bump': 3907, 'dreari': 3908, 'daisi': 3909, 'antwon': 3910, 'ashley': 3911, 'onlin': 3912, 'twilight': 3913, 'newli': 3914, 'reign': 3915, 'wisdom': 3916, 'lengthi': 3917, 'bike': 3918, 'heel': 3919, 'damm': 3920, 'likewis': 3921, 'loyalti': 3922, 'freez': 3923, 'blackmail': 3924, 'distinguish': 3925, 'buffalo': 3926, 'rude': 3927, '1973': 3928, 'drake': 3929, 'biko': 3930, 'cyborg': 3931, 'grayson': 3932, 'rooney': 3933, 'nineti': 3934, 'exposur': 3935, 'emphas': 3936, 'sailor': 3937, 'approv': 3938, 'baddi': 3939, 'butler': 3940, 'analysi': 3941, 'tunnel': 3942, 'provoc': 3943, 'vein': 3944, 'inher': 3945, 'boxer': 3946, 'pink': 3947, 'basketbal': 3948, 'worn': 3949, 'prey': 3950, 'startl': 3951, 'unorigin': 3952, 'keith': 3953, 'barrymor': 3954, 'incorpor': 3955, 'attribut': 3956, 'ridden': 3957, 'chronicl': 3958, 'interior': 3959, 'proce': 3960, 'mormon': 3961, 'simmon': 3962, 'hypnot': 3963, 'underli': 3964, 'condemn': 3965, 'unrel': 3966, 'undeni': 3967, 'nicol': 3968, 'barrel': 3969, 'improvis': 3970, 'belushi': 3971, 'er': 3972, 'degrad': 3973, 'bunni': 3974, 'substitut': 3975, 'millionair': 3976, 'julian': 3977, 'elm': 3978, 'othello': 3979, 'predat': 3980, 'drift': 3981, 'mighti': 3982, 'fleet': 3983, 'walsh': 3984, 'meg': 3985, 'meyer': 3986, 'indiffer': 3987, 'robbin': 3988, 'stalker': 3989, 'carla': 3990, 'nyc': 3991, 'roof': 3992, 'warmth': 3993, 'greed': 3994, 'rukh': 3995, 'agenda': 3996, 'disord': 3997, 'hay': 3998, 'enthusiasm': 3999, 'palac': 4000, 'reid': 4001, 'dolph': 4002, 'edgi': 4003, 'lampoon': 4004, 'priceless': 4005, 'watson': 4006, 'exquisit': 4007, 'alarm': 4008, 'marion': 4009, 'novak': 4010, 'shove': 4011, 'mtv': 4012, 'vital': 4013, 'unawar': 4014, 'firm': 4015, 'errol': 4016, '3d': 4017, 'alison': 4018, 'orlean': 4019, 'gestur': 4020, 'simultan': 4021, 'unleash': 4022, 'petti': 4023, 'testament': 4024, 'campaign': 4025, 'showdown': 4026, 'minimum': 4027, 'coup': 4028, 'drip': 4029, 'iraq': 4030, '13th': 4031, 'pamela': 4032, 'spain': 4033, 'distort': 4034, 'profit': 4035, 'eastern': 4036, 'session': 4037, 'preserv': 4038, 'nun': 4039, 'angela': 4040, 'glanc': 4041, 'championship': 4042, 'israel': 4043, 'thompson': 4044, 'what': 4045, 'valentin': 4046, 'ponder': 4047, 'peril': 4048, 'randomli': 4049, 'peck': 4050, 'sergeant': 4051, 'beatl': 4052, 'cassidi': 4053, 'crown': 4054, '1933': 4055, 'zizek': 4056, 'gentleman': 4057, 'reson': 4058, 'crawl': 4059, 'represent': 4060, 'crow': 4061, 'realm': 4062, 'stroke': 4063, 'climat': 4064, 'valley': 4065, 'travesti': 4066, 'exposit': 4067, 'sabrina': 4068, 'fido': 4069, 'calib': 4070, 'cream': 4071, 'shootout': 4072, 'bro': 4073, 'perpetu': 4074, 'wig': 4075, 'contradict': 4076, 'empathi': 4077, 'kurosawa': 4078, 'han': 4079, 'mon': 4080, 'scotland': 4081, 'regist': 4082, '1984': 4083, 'restrain': 4084, 'stake': 4085, 'cooki': 4086, 'unimagin': 4087, 'brenda': 4088, 'rout': 4089, 'quinn': 4090, 'jan': 4091, 'miyazaki': 4092, 'buster': 4093, 'din': 4094, 'absent': 4095, 'compromis': 4096, 'ustinov': 4097, 'sucker': 4098, 'geek': 4099, 'passabl': 4100, 'baldwin': 4101, 'ross': 4102, 'soderbergh': 4103, 'wax': 4104, 'traumat': 4105, 'censor': 4106, 'shaki': 4107, '1997': 4108, 'femm': 4109, 'cloud': 4110, 'dana': 4111, 'delic': 4112, 'darren': 4113, 'pole': 4114, 'derang': 4115, 'painter': 4116, 'sammi': 4117, 'tacki': 4118, 'pretens': 4119, 'perceiv': 4120, 'unseen': 4121, '1987': 4122, 'spacey': 4123, 'distress': 4124, 'shoddi': 4125, 'unsatisfi': 4126, 'meryl': 4127, 'warrant': 4128, 'mclaglen': 4129, 'greg': 4130, 'fuller': 4131, 'monoton': 4132, 'demis': 4133, 'stargat': 4134, 'abomin': 4135, 'josh': 4136, 'businessman': 4137, 'crawford': 4138, 'primit': 4139, 'valid': 4140, '1993': 4141, 'expedit': 4142, 'judgment': 4143, 'tech': 4144, 'deceas': 4145, 'fog': 4146, 'dee': 4147, 'furiou': 4148, 'deniro': 4149, 'reluct': 4150, 'seal': 4151, 'jewel': 4152, 'sid': 4153, 'accuraci': 4154, 'uncov': 4155, 'polici': 4156, 'kumar': 4157, 'wholli': 4158, 'click': 4159, 'tarantino': 4160, 'fenc': 4161, 'exclus': 4162, 'verbal': 4163, 'unravel': 4164, 'clash': 4165, 'austin': 4166, 'antonioni': 4167, 'norm': 4168, 'anchor': 4169, 'correctli': 4170, 'nathan': 4171, 'slam': 4172, 'darn': 4173, 'seldom': 4174, 'alec': 4175, 'unfair': 4176, 'fart': 4177, 'sunni': 4178, 'enforc': 4179, 'roller': 4180, 'behold': 4181, 'hallucin': 4182, 'debt': 4183, '1995': 4184, 'clerk': 4185, 'patienc': 4186, 'trait': 4187, 'sheet': 4188, 'pocket': 4189, 'fought': 4190, 'conduct': 4191, 'crippl': 4192, 'temper': 4193, 'mode': 4194, 'vanc': 4195, 'ritual': 4196, 'bake': 4197, 'shanghai': 4198, 'wretch': 4199, '3000': 4200, 'logan': 4201, 'tax': 4202, 'nicola': 4203, 'malon': 4204, '1971': 4205, 'wang': 4206, 'joel': 4207, 'fabric': 4208, 'sand': 4209, 'murray': 4210, 'sustain': 4211, 'dreck': 4212, '2008': 4213, 'penni': 4214, 'canyon': 4215, 'outlin': 4216, 'schedul': 4217, 'bridget': 4218, 'helpless': 4219, 'squad': 4220, 'runner': 4221, 'soup': 4222, 'conscious': 4223, 'exhaust': 4224, 'scriptwrit': 4225, 'despis': 4226, 'grief': 4227, 'divid': 4228, 'bias': 4229, 'pete': 4230, 'stark': 4231, 'preposter': 4232, 'rita': 4233, 'tactic': 4234, 'clau': 4235, 'legaci': 4236, 'robber': 4237, 'technicolor': 4238, 'stuart': 4239, 'sweep': 4240, 'critiqu': 4241, 'shell': 4242, 'preston': 4243, 'phil': 4244, 'fundament': 4245, 'guitar': 4246, 'isabel': 4247, 'rear': 4248, 'culmin': 4249, 'lacklust': 4250, 'liberti': 4251, 'sugar': 4252, 'jodi': 4253, 'agenc': 4254, 'marc': 4255, 'cigarett': 4256, 'newman': 4257, 'downey': 4258, 'vomit': 4259, 'sniper': 4260, 'unexpectedli': 4261, 'flair': 4262, 'inabl': 4263, 'propos': 4264, 'implic': 4265, 'drove': 4266, 'gregori': 4267, 'passag': 4268, 'bloom': 4269, 'russia': 4270, 'consciou': 4271, 'jacket': 4272, 'rehash': 4273, 'sentinel': 4274, 'invad': 4275, 'restrict': 4276, 'delv': 4277, 'kansa': 4278, 'boyl': 4279, 'palanc': 4280, 'alicia': 4281, 'alley': 4282, 'connor': 4283, 'asylum': 4284, 'behaviour': 4285, 'aesthet': 4286, 'tripe': 4287, 'karl': 4288, 'rampag': 4289, 'sharon': 4290, 'improb': 4291, 'foxx': 4292, 'delet': 4293, 'cap': 4294, '22': 4295, 'feat': 4296, 'lush': 4297, '1936': 4298, 'ladder': 4299, 'rod': 4300, 'horn': 4301, 'arrow': 4302, 'tendenc': 4303, 'rehears': 4304, 'bacon': 4305, 'wrench': 4306, 'yeti': 4307, 'pale': 4308, 'awhil': 4309, 'mccoy': 4310, 'vet': 4311, 'chainsaw': 4312, 'kolchak': 4313, 'suffici': 4314, 'paradis': 4315, 'hungri': 4316, 'coaster': 4317, 'visitor': 4318, 'wagner': 4319, 'globe': 4320, 'fright': 4321, 'wildli': 4322, '1988': 4323, 'el': 4324, 'weav': 4325, 'hackney': 4326, 'shortcom': 4327, 'minu': 4328, 'thunderbird': 4329, 'spice': 4330, 'elit': 4331, 'amazon': 4332, 'sung': 4333, '1978': 4334, 'aristocrat': 4335, 'rumor': 4336, 'prank': 4337, 'paramount': 4338, 'newcom': 4339, 'rhythm': 4340, 'conscienc': 4341, 'lurk': 4342, 'loneli': 4343, 'underneath': 4344, 'tomorrow': 4345, 'basing': 4346, 'filler': 4347, '1920': 4348, 'financ': 4349, 'scoop': 4350, 'hulk': 4351, 'tasteless': 4352, '19th': 4353, 'suspicion': 4354, 'stream': 4355, 'impos': 4356, 'smell': 4357, 'ingeni': 4358, 'naughti': 4359, 'curli': 4360, 'paxton': 4361, 'couch': 4362, 'chavez': 4363, '75': 4364, 'grudg': 4365, '1939': 4366, 'atroc': 4367, 'cancer': 4368, 'tierney': 4369, 'worship': 4370, 'immers': 4371, 'straightforward': 4372, 'brit': 4373, 'entranc': 4374, 'counterpart': 4375, 'standout': 4376, 'rub': 4377, 'literari': 4378, 'dirt': 4379, 'recogniz': 4380, 'teas': 4381, '1989': 4382, 'en': 4383, 'wwe': 4384, 'abrupt': 4385, 'secondari': 4386, 'penn': 4387, 'leigh': 4388, 'hopkin': 4389, 'bread': 4390, 'heist': 4391, 'inmat': 4392, 'quietli': 4393, 'beverli': 4394, 'posey': 4395, 'springer': 4396, 'ram': 4397, 'chamberlain': 4398, 'choppi': 4399, 'lectur': 4400, 'minist': 4401, 'iv': 4402, 'enthral': 4403, 'convert': 4404, 'heartfelt': 4405, 'morbid': 4406, 'sublim': 4407, 'sassi': 4408, 'yearn': 4409, 'attenborough': 4410, 'entitl': 4411, 'ace': 4412, 'nolan': 4413, 'clan': 4414, 'quaid': 4415, 'net': 4416, 'nemesi': 4417, 'bernard': 4418, '1986': 4419, 'missil': 4420, 'laurenc': 4421, 'lindsay': 4422, 'geni': 4423, 'injuri': 4424, 'transcend': 4425, 'misguid': 4426, 'moreov': 4427, 'skeptic': 4428, 'watcher': 4429, 'policeman': 4430, 'esther': 4431, 'variat': 4432, 'cattl': 4433, 'duel': 4434, 'ratso': 4435, '1979': 4436, 'buzz': 4437, 'unexplain': 4438, 'carlito': 4439, 'puppi': 4440, 'brood': 4441, 'poe': 4442, 'enabl': 4443, 'spiral': 4444, 'kitti': 4445, 'bye': 4446, 'tyler': 4447, 'hk': 4448, 'characteris': 4449, 'steadi': 4450, 'hopelessli': 4451, 'kidman': 4452, 'uncut': 4453, 'obstacl': 4454, 'youngest': 4455, 'reliabl': 4456, 'egg': 4457, 'diari': 4458, 'rosemari': 4459, 'dont': 4460, 'grin': 4461, 'facil': 4462, 'moder': 4463, 'graini': 4464, 'artsi': 4465, 'bean': 4466, 'mytholog': 4467, 'setup': 4468, 'out': 4469, 'cruelti': 4470, 'vader': 4471, 'gillian': 4472, 'brendan': 4473, 'baffl': 4474, 'despic': 4475, 'effici': 4476, 'martha': 4477, 'bronson': 4478, 'kline': 4479, 'niec': 4480, 'christin': 4481, 'fuel': 4482, 'bewar': 4483, 'athlet': 4484, 'gina': 4485, '1969': 4486, 'bounc': 4487, 'decept': 4488, 'oblig': 4489, 'exterior': 4490, 'underworld': 4491, 'preming': 4492, 'sweat': 4493, 'disastr': 4494, 'acquaint': 4495, 'hammi': 4496, 'patricia': 4497, 'weather': 4498, 'narrow': 4499, 'heap': 4500, 'hain': 4501, 'spontan': 4502, 'clueless': 4503, 'sleepwalk': 4504, 'candl': 4505, '73': 4506, '19': 4507, 'suprem': 4508, 'insipid': 4509, 'dilemma': 4510, 'angst': 4511, 'outlaw': 4512, 'trigger': 4513, 'tick': 4514, 'housewif': 4515, 'preachi': 4516, 'scar': 4517, 'sooner': 4518, 'astound': 4519, 'analyz': 4520, 'uh': 4521, 'circu': 4522, 'enlist': 4523, 'headach': 4524, 'shatter': 4525, 'viewpoint': 4526, 'injur': 4527, 'loath': 4528, 'virtu': 4529, 'taboo': 4530, 'biker': 4531, 'mayhem': 4532, 'fontain': 4533, 'rome': 4534, 'mermaid': 4535, 'renaiss': 4536, 'lester': 4537, 'goof': 4538, 'dandi': 4539, 'harmless': 4540, 'hepburn': 4541, 'loi': 4542, 'gere': 4543, 'dismal': 4544, 'salt': 4545, 'claustrophob': 4546, 'intric': 4547, 'dish': 4548, 'oldest': 4549, 'overlong': 4550, 'hooker': 4551, 'tripl': 4552, 'cassavet': 4553, 'boston': 4554, 'slimi': 4555, 'hokey': 4556, 'surgeri': 4557, 'fluff': 4558, 'amor': 4559, 'camcord': 4560, 'ebert': 4561, 'filth': 4562, 'zoom': 4563, 'bent': 4564, 'redund': 4565, 'whore': 4566, 'steer': 4567, 'guin': 4568, 'spade': 4569, 'foolish': 4570, 'scorses': 4571, 'immatur': 4572, 'glorifi': 4573, 'sox': 4574, 'stair': 4575, 'idol': 4576, 'phenomenon': 4577, 'hostag': 4578, 'ariel': 4579, 'macho': 4580, 'contempt': 4581, 'stimul': 4582, 'corbett': 4583, 'gasp': 4584, 'widescreen': 4585, 'cush': 4586, 'spinal': 4587, 'gabl': 4588, 'trivia': 4589, 'faint': 4590, '1981': 4591, 'joker': 4592, 'zane': 4593, 'shield': 4594, 'strongest': 4595, 'radiat': 4596, 'alvin': 4597, 'astronaut': 4598, 'cow': 4599, 'schlock': 4600, 'messi': 4601, 'flirt': 4602, 'fascist': 4603, 'corman': 4604, 'proport': 4605, 'obligatori': 4606, 'flashi': 4607, 'assert': 4608, 'perman': 4609, 'muscl': 4610, 'spree': 4611, 'margin': 4612, 'mutual': 4613, 'transplant': 4614, 'conquer': 4615, '1976': 4616, 'mount': 4617, 'harold': 4618, 'down': 4619, 'shred': 4620, 'keen': 4621, 'antagonist': 4622, 'dwarf': 4623, 'cohen': 4624, 'nolt': 4625, 'frantic': 4626, 'flag': 4627, 'naschi': 4628, 'preced': 4629, 'remad': 4630, 'rhyme': 4631, 'beard': 4632, 'mobil': 4633, 'deer': 4634, 'divin': 4635, 'archiv': 4636, 'vaniti': 4637, '1945': 4638, 'flock': 4639, 'instruct': 4640, 'bachelor': 4641, 'resum': 4642, 'repris': 4643, 'barn': 4644, 'mol': 4645, '28': 4646, 'info': 4647, 'interestingli': 4648, 'persuad': 4649, 'hara': 4650, 'sensual': 4651, 'www': 4652, 'claud': 4653, 'raj': 4654, 'boob': 4655, '95': 4656, 'danish': 4657, 'discern': 4658, 'ritchi': 4659, 'inflict': 4660, 'fishburn': 4661, 'departur': 4662, 'scandal': 4663, 'aborigin': 4664, 'off': 4665, 'wield': 4666, 'carey': 4667, 'strive': 4668, 'brush': 4669, 'neurot': 4670, 'someday': 4671, 'bitten': 4672, 'triangl': 4673, 'artwork': 4674, 'senior': 4675, 'axe': 4676, 'dylan': 4677, 'frontier': 4678, 'rot': 4679, 'wendigo': 4680, 'proclaim': 4681, 'biblic': 4682, 'prophet': 4683, 'hapless': 4684, 'melissa': 4685, 'undermin': 4686, 'hilar': 4687, 'pixar': 4688, 'recit': 4689, 'ish': 4690, 'dame': 4691, 'casino': 4692, 'fragil': 4693, 'banter': 4694, 'submit': 4695, 'pacif': 4696, 'anton': 4697, 'colin': 4698, 'helm': 4699, 'timberlak': 4700, 'mobster': 4701, 'cb': 4702, 'bate': 4703, 'earnest': 4704, 'hug': 4705, 'luka': 4706, 'europa': 4707, 'harrison': 4708, 'cliffhang': 4709, 'jade': 4710, 'parson': 4711, 'pickford': 4712, 'clad': 4713, 'traffic': 4714, 'kathryn': 4715, 'loretta': 4716, 'cycl': 4717, 'miracul': 4718, 'carlo': 4719, 'vibrant': 4720, 'heartwarm': 4721, 'neill': 4722, 'dim': 4723, 'cher': 4724, 'feast': 4725, 'marlon': 4726, 'mason': 4727, 'misfortun': 4728, 'jordan': 4729, 'flavor': 4730, 'estrang': 4731, 'static': 4732, 'seedi': 4733, 'redneck': 4734, 'uma': 4735, 'milo': 4736, 'northern': 4737, 'illus': 4738, 'bondag': 4739, 'choke': 4740, 'venom': 4741, 'cerebr': 4742, 'jo': 4743, 'http': 4744, 'articl': 4745, 'bikini': 4746, 'lui': 4747, 'token': 4748, 'pc': 4749, 'shepherd': 4750, 'blatantli': 4751, 'vanessa': 4752, 'sicken': 4753, 'antholog': 4754, 'aris': 4755, 'razor': 4756, 'toronto': 4757, 'foil': 4758, 'orphan': 4759, 'eli': 4760, 'rooki': 4761, 'wardrob': 4762, 'legitim': 4763, 'alexandr': 4764, 'holocaust': 4765, 'isra': 4766, 'breakfast': 4767, 'vile': 4768, 'nope': 4769, 'electron': 4770, 'mathieu': 4771, 'akin': 4772, 'lucil': 4773, 'trier': 4774, 'winchest': 4775, 'outdat': 4776, 'ceremoni': 4777, 'audrey': 4778, 'wrestler': 4779, 'comprehend': 4780, 'retriev': 4781, 'psych': 4782, 'shorter': 4783, 'nightclub': 4784, 'smack': 4785, 'gilbert': 4786, 'clinic': 4787, 'turd': 4788, 'abund': 4789, 'howl': 4790, 'deem': 4791, 'oppon': 4792, 'tack': 4793, 'glare': 4794, 'knightley': 4795, 'affleck': 4796, 'cartoonish': 4797, 'fifth': 4798, 'dudley': 4799, 'swept': 4800, 'frog': 4801, 'feminin': 4802, 'ideolog': 4803, 'highway': 4804, 'disregard': 4805, 'magician': 4806, 'peer': 4807, 'leather': 4808, 'styliz': 4809, 'linear': 4810, 'huston': 4811, 'charlton': 4812, 'boyer': 4813, 'gunga': 4814, 'lighter': 4815, 'spawn': 4816, 'energet': 4817, 'btw': 4818, 'breakdown': 4819, 'phenomen': 4820, 'client': 4821, 'monument': 4822, 'evolut': 4823, 'summar': 4824, 'compris': 4825, 'conrad': 4826, 'cemeteri': 4827, '1991': 4828, 'moe': 4829, 'chip': 4830, 'spine': 4831, 'durat': 4832, 'sleaz': 4833, 'snatch': 4834, 'whack': 4835, 'bastard': 4836, 'cuban': 4837, 'plate': 4838, '1994': 4839, 'greet': 4840, 'collector': 4841, 'toe': 4842, 'deliver': 4843, 'newer': 4844, 'potter': 4845, 'lavish': 4846, 'tara': 4847, '4th': 4848, 'lifeless': 4849, 'einstein': 4850, 'senat': 4851, 'mitch': 4852, 'corn': 4853, 'salman': 4854, 'bogu': 4855, 'braveheart': 4856, 'boo': 4857, 'uniformli': 4858, 'goldsworthi': 4859, 'bori': 4860, 'capot': 4861, 'alleg': 4862, 'kazan': 4863, 'ie': 4864, '1974': 4865, 'creek': 4866, 'judd': 4867, 'constitut': 4868, 'pronounc': 4869, 'jam': 4870, 'firmli': 4871, 'undead': 4872, 'belli': 4873, 'replay': 4874, 'historian': 4875, 'jare': 4876, 'trauma': 4877, 'sorrow': 4878, 'signal': 4879, 'gilliam': 4880, 'randolph': 4881, 'liu': 4882, 'bulk': 4883, 'neatli': 4884, 'armstrong': 4885, 'healthi': 4886, 'ol': 4887, 'undertak': 4888, 'spectacl': 4889, 'kent': 4890, 'fluid': 4891, 'nina': 4892, 'eleven': 4893, 'embark': 4894, 'lex': 4895, 'wtf': 4896, 'mcqueen': 4897, 'appl': 4898, 'inaccuraci': 4899, 'jedi': 4900, 'cecil': 4901, 'clara': 4902, 'outright': 4903, 'occup': 4904, 'luxuri': 4905, 'evelyn': 4906, '1977': 4907, 'jule': 4908, 'blur': 4909, 'miniseri': 4910, 'relentless': 4911, 'vignett': 4912, 'comprehens': 4913, '1985': 4914, 'bsg': 4915, 'carmen': 4916, 'propheci': 4917, 'sacrif': 4918, 'pioneer': 4919, 'galaxi': 4920, 'sidewalk': 4921, 'curtain': 4922, 'poker': 4923, 'vain': 4924, 'antonio': 4925, 'paula': 4926, 'miami': 4927, 'fruit': 4928, 'congratul': 4929, 'inaccur': 4930, 'conan': 4931, 'knee': 4932, 'subtli': 4933, 'comb': 4934, 'kiddi': 4935, 'palm': 4936, 'groan': 4937, 'meal': 4938, 'pepper': 4939, 'decapit': 4940, 'aussi': 4941, 'forgiven': 4942, 'inclus': 4943, 'genet': 4944, 'lauren': 4945, 'bait': 4946, 'abound': 4947, 'walt': 4948, 'unattract': 4949, 'spray': 4950, 'ash': 4951, 'cape': 4952, 'roar': 4953, 'goldblum': 4954, 'id': 4955, 'rosario': 4956, 'porter': 4957, 'truman': 4958, 'tokyo': 4959, 'mum': 4960, 'unsuspect': 4961, 'basket': 4962, 'lanc': 4963, 'profil': 4964, 'frontal': 4965, 'growth': 4966, 'optimist': 4967, 'bravo': 4968, 'substanti': 4969, 'mice': 4970, 'hackman': 4971, 'macabr': 4972, 'assort': 4973, 'verg': 4974, 'casper': 4975, 'monti': 4976, 'motorcycl': 4977, 'masterson': 4978, 'victorian': 4979, 'orchestr': 4980, 'weaker': 4981, 'sophi': 4982, 'reincarn': 4983, 'epitom': 4984, 'bach': 4985, 'playboy': 4986, 'jill': 4987, 'scariest': 4988, 'hostil': 4989, 'sparkl': 4990, 'rapidli': 4991, 'vastli': 4992, '21st': 4993, 'dubiou': 4994, 'evan': 4995, 'ghetto': 4996, 'turtl': 4997, 'scarfac': 4998, 'incorrect': 4999}\n"
     ]
    }
   ],
   "source": [
    "word_dict = build_dict(train_X)\n",
    "print(word_dict)"
   ]
  },
  {
   "cell_type": "markdown",
   "metadata": {},
   "source": [
    "**Question:** What are the five most frequently appearing (tokenized) words in the training set? Does it makes sense that these words appear frequently in the training set?"
   ]
  },
  {
   "cell_type": "markdown",
   "metadata": {},
   "source": [
    "**Answer:**"
   ]
  },
  {
   "cell_type": "markdown",
   "metadata": {},
   "source": [
    "Answer: 'movi', 'film', 'one', 'like', 'time'. <br>The word \"movi\" is appering nearly 51695 times.\n",
    "<br>It doesn't make sence in training because 'movi', 'film', 'one', 'time' has no sentiment."
   ]
  },
  {
   "cell_type": "code",
   "execution_count": 56,
   "metadata": {},
   "outputs": [
    {
     "name": "stdout",
     "output_type": "stream",
     "text": [
      "['movi', 'film', 'one', 'like', 'time']\n",
      "51695\n"
     ]
    }
   ],
   "source": [
    "# TODO: Use this space to determine the five most frequently appearing words in the training set.\n",
    "word_counts = Counter(np.concatenate( train_X, axis=0 ))\n",
    "sorted_words = sorted(word_counts, key=word_counts.get, reverse=True)\n",
    "print(sorted_words[0:5])\n",
    "print(word_counts['movi'])"
   ]
  },
  {
   "cell_type": "markdown",
   "metadata": {},
   "source": [
    "### Save `word_dict`\n",
    "\n",
    "Later on when we construct an endpoint which processes a submitted review we will need to make use of the `word_dict` which we have created. As such, we will save it to a file now for future use."
   ]
  },
  {
   "cell_type": "code",
   "execution_count": 57,
   "metadata": {},
   "outputs": [],
   "source": [
    "data_dir = '../data/pytorch' # The folder we will use for storing data\n",
    "if not os.path.exists(data_dir): # Make sure that the folder exists\n",
    "    os.makedirs(data_dir)"
   ]
  },
  {
   "cell_type": "code",
   "execution_count": 58,
   "metadata": {},
   "outputs": [],
   "source": [
    "with open(os.path.join(data_dir, 'word_dict.pkl'), \"wb\") as f:\n",
    "    pickle.dump(word_dict, f)"
   ]
  },
  {
   "cell_type": "markdown",
   "metadata": {},
   "source": [
    "### Transform the reviews\n",
    "\n",
    "Now that we have our word dictionary which allows us to transform the words appearing in the reviews into integers, it is time to make use of it and convert our reviews to their integer sequence representation, making sure to pad or truncate to a fixed length, which in our case is `500`."
   ]
  },
  {
   "cell_type": "code",
   "execution_count": 59,
   "metadata": {},
   "outputs": [],
   "source": [
    "def convert_and_pad(word_dict, sentence, pad=500):\n",
    "    NOWORD = 0 # We will use 0 to represent the 'no word' category\n",
    "    INFREQ = 1 # and we use 1 to represent the infrequent words, i.e., words not appearing in word_dict\n",
    "    \n",
    "    working_sentence = [NOWORD] * pad\n",
    "    \n",
    "    for word_index, word in enumerate(sentence[:pad]):\n",
    "        if word in word_dict:\n",
    "            working_sentence[word_index] = word_dict[word]\n",
    "        else:\n",
    "            working_sentence[word_index] = INFREQ\n",
    "            \n",
    "    return working_sentence, min(len(sentence), pad)\n",
    "\n",
    "def convert_and_pad_data(word_dict, data, pad=500):\n",
    "    result = []\n",
    "    lengths = []\n",
    "    \n",
    "    for sentence in data:\n",
    "        converted, leng = convert_and_pad(word_dict, sentence, pad)\n",
    "        result.append(converted)\n",
    "        lengths.append(leng)\n",
    "        \n",
    "    return np.array(result), np.array(lengths)"
   ]
  },
  {
   "cell_type": "code",
   "execution_count": 60,
   "metadata": {},
   "outputs": [],
   "source": [
    "train_X, train_X_len = convert_and_pad_data(word_dict, train_X)\n",
    "test_X, test_X_len = convert_and_pad_data(word_dict, test_X)"
   ]
  },
  {
   "cell_type": "markdown",
   "metadata": {},
   "source": [
    "As a quick check to make sure that things are working as intended, check to see what one of the reviews in the training set looks like after having been processeed. Does this look reasonable? What is the length of a review in the training set?"
   ]
  },
  {
   "cell_type": "code",
   "execution_count": 61,
   "metadata": {},
   "outputs": [
    {
     "name": "stdout",
     "output_type": "stream",
     "text": [
      "500\n",
      "[27]\n"
     ]
    }
   ],
   "source": [
    "# Use this cell to examine one of the processed reviews to make sure everything is working as intended.\n",
    "print(len(train_X[0]))\n",
    "print(train_X_len[0:1]) # 500 - 473 (non zeros) = 27"
   ]
  },
  {
   "cell_type": "markdown",
   "metadata": {},
   "source": [
    "**Question:** In the cells above we use the `preprocess_data` and `convert_and_pad_data` methods to process both the training and testing set. Why or why not might this be a problem?"
   ]
  },
  {
   "cell_type": "markdown",
   "metadata": {},
   "source": [
    "**Answer:**\n",
    "\n",
    "- preprocess_data function will cut the data preparation cost, since it is one time process and the result is saved in a file. In case if the notebook instance terminal connection is broken, then one have to restart from begining. In that case, one could skip the data preparation step and proceed the training by loading the preprocessed data from the file.\n",
    "- convert_and_pad_data this is the function that helps to maintain a constant data length. Since we are using LSTM Clasifier with Embedding, we need to maintain a constant batch size throughout the training."
   ]
  },
  {
   "cell_type": "markdown",
   "metadata": {},
   "source": [
    "## Step 3: Upload the data to S3\n",
    "\n",
    "As in the XGBoost notebook, we will need to upload the training dataset to S3 in order for our training code to access it. For now we will save it locally and we will upload to S3 later on.\n",
    "\n",
    "### Save the processed training dataset locally\n",
    "\n",
    "It is important to note the format of the data that we are saving as we will need to know it when we write the training code. In our case, each row of the dataset has the form `label`, `length`, `review[500]` where `review[500]` is a sequence of `500` integers representing the words in the review."
   ]
  },
  {
   "cell_type": "code",
   "execution_count": 62,
   "metadata": {},
   "outputs": [],
   "source": [
    "import pandas as pd\n",
    "    \n",
    "pd.concat([pd.DataFrame(train_y), pd.DataFrame(train_X_len), pd.DataFrame(train_X)], axis=1) \\\n",
    "        .to_csv(os.path.join(data_dir, 'train.csv'), header=False, index=False)"
   ]
  },
  {
   "cell_type": "markdown",
   "metadata": {},
   "source": [
    "### Uploading the training data\n",
    "\n",
    "\n",
    "Next, we need to upload the training data to the SageMaker default S3 bucket so that we can provide access to it while training our model."
   ]
  },
  {
   "cell_type": "code",
   "execution_count": 63,
   "metadata": {},
   "outputs": [],
   "source": [
    "import sagemaker\n",
    "\n",
    "sagemaker_session = sagemaker.Session()\n",
    "\n",
    "bucket = sagemaker_session.default_bucket()\n",
    "prefix = 'sagemaker/sentiment_rnn'\n",
    "\n",
    "role = sagemaker.get_execution_role()"
   ]
  },
  {
   "cell_type": "code",
   "execution_count": 64,
   "metadata": {},
   "outputs": [],
   "source": [
    "input_data = sagemaker_session.upload_data(path=data_dir, bucket=bucket, key_prefix=prefix)"
   ]
  },
  {
   "cell_type": "markdown",
   "metadata": {},
   "source": [
    "**NOTE:** The cell above uploads the entire contents of our data directory. This includes the `word_dict.pkl` file. This is fortunate as we will need this later on when we create an endpoint that accepts an arbitrary review. For now, we will just take note of the fact that it resides in the data directory (and so also in the S3 training bucket) and that we will need to make sure it gets saved in the model directory."
   ]
  },
  {
   "cell_type": "markdown",
   "metadata": {},
   "source": [
    "## Step 4: Build and Train the PyTorch Model\n",
    "\n",
    "In the XGBoost notebook we discussed what a model is in the SageMaker framework. In particular, a model comprises three objects\n",
    "\n",
    " - Model Artifacts,\n",
    " - Training Code, and\n",
    " - Inference Code,\n",
    " \n",
    "each of which interact with one another. In the XGBoost example we used training and inference code that was provided by Amazon. Here we will still be using containers provided by Amazon with the added benefit of being able to include our own custom code.\n",
    "\n",
    "We will start by implementing our own neural network in PyTorch along with a training script. For the purposes of this project we have provided the necessary model object in the `model.py` file, inside of the `train` folder. You can see the provided implementation by running the cell below."
   ]
  },
  {
   "cell_type": "code",
   "execution_count": 65,
   "metadata": {},
   "outputs": [
    {
     "name": "stdout",
     "output_type": "stream",
     "text": [
      "\u001b[34mimport\u001b[39;49;00m \u001b[04m\u001b[36mtorch.nn\u001b[39;49;00m \u001b[34mas\u001b[39;49;00m \u001b[04m\u001b[36mnn\u001b[39;49;00m\n",
      "\n",
      "\u001b[34mclass\u001b[39;49;00m \u001b[04m\u001b[32mLSTMClassifier\u001b[39;49;00m(nn.Module):\n",
      "    \u001b[33m\"\"\"\u001b[39;49;00m\n",
      "\u001b[33m    This is the simple RNN model we will be using to perform Sentiment Analysis.\u001b[39;49;00m\n",
      "\u001b[33m    \"\"\"\u001b[39;49;00m\n",
      "\n",
      "    \u001b[34mdef\u001b[39;49;00m \u001b[32m__init__\u001b[39;49;00m(\u001b[36mself\u001b[39;49;00m, embedding_dim, hidden_dim, vocab_size):\n",
      "        \u001b[33m\"\"\"\u001b[39;49;00m\n",
      "\u001b[33m        Initialize the model by settingg up the various layers.\u001b[39;49;00m\n",
      "\u001b[33m        \"\"\"\u001b[39;49;00m\n",
      "        \u001b[36msuper\u001b[39;49;00m(LSTMClassifier, \u001b[36mself\u001b[39;49;00m).\u001b[32m__init__\u001b[39;49;00m()\n",
      "\n",
      "        \u001b[36mself\u001b[39;49;00m.embedding = nn.Embedding(vocab_size, embedding_dim, padding_idx=\u001b[34m0\u001b[39;49;00m)\n",
      "        \u001b[36mself\u001b[39;49;00m.lstm = nn.LSTM(embedding_dim, hidden_dim)\n",
      "        \u001b[36mself\u001b[39;49;00m.dense = nn.Linear(in_features=hidden_dim, out_features=\u001b[34m1\u001b[39;49;00m)\n",
      "        \u001b[36mself\u001b[39;49;00m.sig = nn.Sigmoid()\n",
      "        \n",
      "        \u001b[36mself\u001b[39;49;00m.word_dict = \u001b[36mNone\u001b[39;49;00m\n",
      "\n",
      "    \u001b[34mdef\u001b[39;49;00m \u001b[32mforward\u001b[39;49;00m(\u001b[36mself\u001b[39;49;00m, x):\n",
      "        \u001b[33m\"\"\"\u001b[39;49;00m\n",
      "\u001b[33m        Perform a forward pass of our model on some input.\u001b[39;49;00m\n",
      "\u001b[33m        \"\"\"\u001b[39;49;00m\n",
      "        x = x.t()\n",
      "        lengths = x[\u001b[34m0\u001b[39;49;00m,:]\n",
      "        reviews = x[\u001b[34m1\u001b[39;49;00m:,:]\n",
      "        embeds = \u001b[36mself\u001b[39;49;00m.embedding(reviews)\n",
      "        lstm_out, _ = \u001b[36mself\u001b[39;49;00m.lstm(embeds)\n",
      "        out = \u001b[36mself\u001b[39;49;00m.dense(lstm_out)\n",
      "        out = out[lengths - \u001b[34m1\u001b[39;49;00m, \u001b[36mrange\u001b[39;49;00m(\u001b[36mlen\u001b[39;49;00m(lengths))]\n",
      "        \u001b[34mreturn\u001b[39;49;00m \u001b[36mself\u001b[39;49;00m.sig(out.squeeze())\n"
     ]
    }
   ],
   "source": [
    "!pygmentize train/model.py"
   ]
  },
  {
   "cell_type": "markdown",
   "metadata": {},
   "source": [
    "The important takeaway from the implementation provided is that there are three parameters that we may wish to tweak to improve the performance of our model. These are the embedding dimension, the hidden dimension and the size of the vocabulary. We will likely want to make these parameters configurable in the training script so that if we wish to modify them we do not need to modify the script itself. We will see how to do this later on. To start we will write some of the training code in the notebook so that we can more easily diagnose any issues that arise.\n",
    "\n",
    "First we will load a small portion of the training data set to use as a sample. It would be very time consuming to try and train the model completely in the notebook as we do not have access to a gpu and the compute instance that we are using is not particularly powerful. However, we can work on a small bit of the data to get a feel for how our training script is behaving."
   ]
  },
  {
   "cell_type": "code",
   "execution_count": 66,
   "metadata": {},
   "outputs": [],
   "source": [
    "import torch\n",
    "import torch.utils.data\n",
    "\n",
    "# Read in only the first 250 rows\n",
    "train_sample = pd.read_csv(os.path.join(data_dir, 'train.csv'), header=None, names=None, nrows=250)\n",
    "\n",
    "# Turn the input pandas dataframe into tensors\n",
    "train_sample_y = torch.from_numpy(train_sample[[0]].values).float().squeeze()\n",
    "train_sample_X = torch.from_numpy(train_sample.drop([0], axis=1).values).long()\n",
    "\n",
    "# Build the dataset\n",
    "train_sample_ds = torch.utils.data.TensorDataset(train_sample_X, train_sample_y)\n",
    "# Build the dataloader\n",
    "train_sample_dl = torch.utils.data.DataLoader(train_sample_ds, batch_size=50)"
   ]
  },
  {
   "cell_type": "markdown",
   "metadata": {},
   "source": [
    "### (TODO) Writing the training method\n",
    "\n",
    "Next we need to write the training code itself. This should be very similar to training methods that you have written before to train PyTorch models. We will leave any difficult aspects such as model saving / loading and parameter loading until a little later."
   ]
  },
  {
   "cell_type": "code",
   "execution_count": 67,
   "metadata": {},
   "outputs": [],
   "source": [
    "def train(model, train_loader, epochs, optimizer, loss_fn, device):\n",
    "    for epoch in range(1, epochs + 1):\n",
    "        model.train()\n",
    "        total_loss = 0\n",
    "        for batch in train_loader:         \n",
    "            batch_X, batch_y = batch\n",
    "            \n",
    "            batch_X = batch_X.to(device)\n",
    "            batch_y = batch_y.to(device)\n",
    "            \n",
    "            # TODO: Complete this train method to train the model provided.\n",
    "            \n",
    "            output = model(batch_X)\n",
    "            loss = loss_fn(output, batch_y)\n",
    "            loss.backward()\n",
    "            optimizer.step()\n",
    "            \n",
    "            \n",
    "            \n",
    "            total_loss += loss.data.item()\n",
    "        print(\"Epoch: {}, BCELoss: {}\".format(epoch, total_loss / len(train_loader)))"
   ]
  },
  {
   "cell_type": "markdown",
   "metadata": {},
   "source": [
    "Supposing we have the training method above, we will test that it is working by writing a bit of code in the notebook that executes our training method on the small sample training set that we loaded earlier. The reason for doing this in the notebook is so that we have an opportunity to fix any errors that arise early when they are easier to diagnose."
   ]
  },
  {
   "cell_type": "code",
   "execution_count": 77,
   "metadata": {},
   "outputs": [
    {
     "name": "stdout",
     "output_type": "stream",
     "text": [
      "Epoch: 1, BCELoss: 0.6937798380851745\n",
      "Epoch: 2, BCELoss: 0.682580041885376\n",
      "Epoch: 3, BCELoss: 0.6708158135414124\n"
     ]
    }
   ],
   "source": [
    "import torch.optim as optim\n",
    "from train.model import LSTMClassifier\n",
    "\n",
    "device = torch.device(\"cuda\" if torch.cuda.is_available() else \"cpu\")\n",
    "model = LSTMClassifier(32, 100, 5000).to(device)\n",
    "optimizer = optim.Adam(model.parameters())\n",
    "loss_fn = torch.nn.BCELoss()\n",
    "\n",
    "train(model, train_sample_dl, 3, optimizer, loss_fn, device)"
   ]
  },
  {
   "cell_type": "markdown",
   "metadata": {},
   "source": [
    "In order to construct a PyTorch model using SageMaker we must provide SageMaker with a training script. We may optionally include a directory which will be copied to the container and from which our training code will be run. When the training container is executed it will check the uploaded directory (if there is one) for a `requirements.txt` file and install any required Python libraries, after which the training script will be run."
   ]
  },
  {
   "cell_type": "markdown",
   "metadata": {},
   "source": [
    "### (TODO) Training the model\n",
    "\n",
    "When a PyTorch model is constructed in SageMaker, an entry point must be specified. This is the Python file which will be executed when the model is trained. Inside of the `train` directory is a file called `train.py` which has been provided and which contains most of the necessary code to train our model. The only thing that is missing is the implementation of the `train()` method which you wrote earlier in this notebook.\n",
    "\n",
    "**TODO**: Copy the `train()` method written above and paste it into the `train/train.py` file where required.\n",
    "\n",
    "The way that SageMaker passes hyperparameters to the training script is by way of arguments. These arguments can then be parsed and used in the training script. To see how this is done take a look at the provided `train/train.py` file."
   ]
  },
  {
   "cell_type": "code",
   "execution_count": 78,
   "metadata": {},
   "outputs": [],
   "source": [
    "from sagemaker.pytorch import PyTorch\n",
    "\n",
    "estimator = PyTorch(entry_point=\"train.py\",\n",
    "                    source_dir=\"train\",\n",
    "                    role=role,\n",
    "                    framework_version='0.4.0',\n",
    "                    train_instance_count=1,\n",
    "                    train_instance_type='ml.m4.xlarge',\n",
    "                    hyperparameters={\n",
    "                        'epochs': 3,\n",
    "                        'hidden_dim': 50,\n",
    "                    })"
   ]
  },
  {
   "cell_type": "code",
   "execution_count": 79,
   "metadata": {},
   "outputs": [
    {
     "name": "stdout",
     "output_type": "stream",
     "text": [
      "2020-01-03 09:47:11 Starting - Starting the training job...\n",
      "2020-01-03 09:47:13 Starting - Launching requested ML instances......\n",
      "2020-01-03 09:48:18 Starting - Preparing the instances for training......\n",
      "2020-01-03 09:49:18 Downloading - Downloading input data...\n",
      "2020-01-03 09:50:05 Training - Training image download completed. Training in progress..\u001b[34mbash: cannot set terminal process group (-1): Inappropriate ioctl for device\u001b[0m\n",
      "\u001b[34mbash: no job control in this shell\u001b[0m\n",
      "\u001b[34m2020-01-03 09:50:06,986 sagemaker-containers INFO     Imported framework sagemaker_pytorch_container.training\u001b[0m\n",
      "\u001b[34m2020-01-03 09:50:06,989 sagemaker-containers INFO     No GPUs detected (normal if no gpus installed)\u001b[0m\n",
      "\u001b[34m2020-01-03 09:50:07,002 sagemaker_pytorch_container.training INFO     Block until all host DNS lookups succeed.\u001b[0m\n",
      "\u001b[34m2020-01-03 09:50:13,230 sagemaker_pytorch_container.training INFO     Invoking user training script.\u001b[0m\n",
      "\u001b[34m2020-01-03 09:50:13,474 sagemaker-containers INFO     Module train does not provide a setup.py. \u001b[0m\n",
      "\u001b[34mGenerating setup.py\u001b[0m\n",
      "\u001b[34m2020-01-03 09:50:13,474 sagemaker-containers INFO     Generating setup.cfg\u001b[0m\n",
      "\u001b[34m2020-01-03 09:50:13,474 sagemaker-containers INFO     Generating MANIFEST.in\u001b[0m\n",
      "\u001b[34m2020-01-03 09:50:13,475 sagemaker-containers INFO     Installing module with the following command:\u001b[0m\n",
      "\u001b[34m/usr/bin/python -m pip install -U . -r requirements.txt\u001b[0m\n",
      "\u001b[34mProcessing /opt/ml/code\u001b[0m\n",
      "\u001b[34mCollecting pandas (from -r requirements.txt (line 1))\n",
      "  Downloading https://files.pythonhosted.org/packages/74/24/0cdbf8907e1e3bc5a8da03345c23cbed7044330bb8f73bb12e711a640a00/pandas-0.24.2-cp35-cp35m-manylinux1_x86_64.whl (10.0MB)\u001b[0m\n",
      "\u001b[34mCollecting numpy (from -r requirements.txt (line 2))\n",
      "  Downloading https://files.pythonhosted.org/packages/eb/ec/d4b7855249ce87ece79783562dd6101b1f0abf461c25101c2e959d691e68/numpy-1.18.0-cp35-cp35m-manylinux1_x86_64.whl (19.9MB)\u001b[0m\n",
      "\u001b[34mCollecting nltk (from -r requirements.txt (line 3))\n",
      "  Downloading https://files.pythonhosted.org/packages/f6/1d/d925cfb4f324ede997f6d47bea4d9babba51b49e87a767c170b77005889d/nltk-3.4.5.zip (1.5MB)\u001b[0m\n",
      "\u001b[34mCollecting beautifulsoup4 (from -r requirements.txt (line 4))\n",
      "  Downloading https://files.pythonhosted.org/packages/cb/a1/c698cf319e9cfed6b17376281bd0efc6bfc8465698f54170ef60a485ab5d/beautifulsoup4-4.8.2-py3-none-any.whl (106kB)\u001b[0m\n",
      "\u001b[34mCollecting html5lib (from -r requirements.txt (line 5))\n",
      "  Downloading https://files.pythonhosted.org/packages/a5/62/bbd2be0e7943ec8504b517e62bab011b4946e1258842bc159e5dfde15b96/html5lib-1.0.1-py2.py3-none-any.whl (117kB)\u001b[0m\n",
      "\u001b[34mCollecting pytz>=2011k (from pandas->-r requirements.txt (line 1))\n",
      "  Downloading https://files.pythonhosted.org/packages/e7/f9/f0b53f88060247251bf481fa6ea62cd0d25bf1b11a87888e53ce5b7c8ad2/pytz-2019.3-py2.py3-none-any.whl (509kB)\u001b[0m\n",
      "\u001b[34mRequirement already satisfied, skipping upgrade: python-dateutil>=2.5.0 in /usr/local/lib/python3.5/dist-packages (from pandas->-r requirements.txt (line 1)) (2.7.5)\u001b[0m\n",
      "\u001b[34mRequirement already satisfied, skipping upgrade: six in /usr/local/lib/python3.5/dist-packages (from nltk->-r requirements.txt (line 3)) (1.11.0)\u001b[0m\n",
      "\u001b[34mCollecting soupsieve>=1.2 (from beautifulsoup4->-r requirements.txt (line 4))\n",
      "  Downloading https://files.pythonhosted.org/packages/81/94/03c0f04471fc245d08d0a99f7946ac228ca98da4fa75796c507f61e688c2/soupsieve-1.9.5-py2.py3-none-any.whl\u001b[0m\n",
      "\u001b[34mCollecting webencodings (from html5lib->-r requirements.txt (line 5))\n",
      "  Downloading https://files.pythonhosted.org/packages/f4/24/2a3e3df732393fed8b3ebf2ec078f05546de641fe1b667ee316ec1dcf3b7/webencodings-0.5.1-py2.py3-none-any.whl\u001b[0m\n",
      "\u001b[34mBuilding wheels for collected packages: nltk, train\n",
      "  Running setup.py bdist_wheel for nltk: started\u001b[0m\n",
      "\u001b[34m  Running setup.py bdist_wheel for nltk: finished with status 'done'\n",
      "  Stored in directory: /root/.cache/pip/wheels/96/86/f6/68ab24c23f207c0077381a5e3904b2815136b879538a24b483\n",
      "  Running setup.py bdist_wheel for train: started\n",
      "  Running setup.py bdist_wheel for train: finished with status 'done'\n",
      "  Stored in directory: /tmp/pip-ephem-wheel-cache-woy_ge68/wheels/35/24/16/37574d11bf9bde50616c67372a334f94fa8356bc7164af8ca3\u001b[0m\n",
      "\u001b[34mSuccessfully built nltk train\u001b[0m\n",
      "\u001b[34mInstalling collected packages: pytz, numpy, pandas, nltk, soupsieve, beautifulsoup4, webencodings, html5lib, train\u001b[0m\n",
      "\u001b[34m  Found existing installation: numpy 1.15.4\n",
      "    Uninstalling numpy-1.15.4:\u001b[0m\n",
      "\u001b[34m      Successfully uninstalled numpy-1.15.4\u001b[0m\n",
      "\u001b[34mSuccessfully installed beautifulsoup4-4.8.2 html5lib-1.0.1 nltk-3.4.5 numpy-1.18.0 pandas-0.24.2 pytz-2019.3 soupsieve-1.9.5 train-1.0.0 webencodings-0.5.1\u001b[0m\n",
      "\u001b[34mYou are using pip version 18.1, however version 19.3.1 is available.\u001b[0m\n",
      "\u001b[34mYou should consider upgrading via the 'pip install --upgrade pip' command.\u001b[0m\n",
      "\u001b[34m2020-01-03 09:50:25,558 sagemaker-containers INFO     No GPUs detected (normal if no gpus installed)\u001b[0m\n",
      "\u001b[34m2020-01-03 09:50:25,572 sagemaker-containers INFO     Invoking user script\n",
      "\u001b[0m\n",
      "\u001b[34mTraining Env:\n",
      "\u001b[0m\n",
      "\u001b[34m{\n",
      "    \"num_gpus\": 0,\n",
      "    \"output_intermediate_dir\": \"/opt/ml/output/intermediate\",\n",
      "    \"module_dir\": \"s3://sagemaker-us-east-1-771228107104/sagemaker-pytorch-2020-01-03-09-47-11-275/source/sourcedir.tar.gz\",\n",
      "    \"input_config_dir\": \"/opt/ml/input/config\",\n",
      "    \"hosts\": [\n",
      "        \"algo-1\"\n",
      "    ],\n",
      "    \"model_dir\": \"/opt/ml/model\",\n",
      "    \"user_entry_point\": \"train.py\",\n",
      "    \"hyperparameters\": {\n",
      "        \"epochs\": 3,\n",
      "        \"hidden_dim\": 50\n",
      "    },\n",
      "    \"input_data_config\": {\n",
      "        \"training\": {\n",
      "            \"TrainingInputMode\": \"File\",\n",
      "            \"S3DistributionType\": \"FullyReplicated\",\n",
      "            \"RecordWrapperType\": \"None\"\n",
      "        }\n",
      "    },\n",
      "    \"channel_input_dirs\": {\n",
      "        \"training\": \"/opt/ml/input/data/training\"\n",
      "    },\n",
      "    \"module_name\": \"train\",\n",
      "    \"network_interface_name\": \"eth0\",\n",
      "    \"job_name\": \"sagemaker-pytorch-2020-01-03-09-47-11-275\",\n",
      "    \"input_dir\": \"/opt/ml/input\",\n",
      "    \"resource_config\": {\n",
      "        \"network_interface_name\": \"eth0\",\n",
      "        \"current_host\": \"algo-1\",\n",
      "        \"hosts\": [\n",
      "            \"algo-1\"\n",
      "        ]\n",
      "    },\n",
      "    \"log_level\": 20,\n",
      "    \"output_data_dir\": \"/opt/ml/output/data\",\n",
      "    \"current_host\": \"algo-1\",\n",
      "    \"framework_module\": \"sagemaker_pytorch_container.training:main\",\n",
      "    \"num_cpus\": 4,\n",
      "    \"additional_framework_parameters\": {},\n",
      "    \"output_dir\": \"/opt/ml/output\"\u001b[0m\n",
      "\u001b[34m}\n",
      "\u001b[0m\n",
      "\u001b[34mEnvironment variables:\n",
      "\u001b[0m\n",
      "\u001b[34mSM_NUM_CPUS=4\u001b[0m\n",
      "\u001b[34mPYTHONPATH=/usr/local/bin:/usr/lib/python35.zip:/usr/lib/python3.5:/usr/lib/python3.5/plat-x86_64-linux-gnu:/usr/lib/python3.5/lib-dynload:/usr/local/lib/python3.5/dist-packages:/usr/lib/python3/dist-packages\u001b[0m\n",
      "\u001b[34mSM_HP_EPOCHS=3\u001b[0m\n",
      "\u001b[34mSM_MODULE_DIR=s3://sagemaker-us-east-1-771228107104/sagemaker-pytorch-2020-01-03-09-47-11-275/source/sourcedir.tar.gz\u001b[0m\n",
      "\u001b[34mSM_USER_ENTRY_POINT=train.py\u001b[0m\n",
      "\u001b[34mSM_CURRENT_HOST=algo-1\u001b[0m\n",
      "\u001b[34mSM_MODEL_DIR=/opt/ml/model\u001b[0m\n",
      "\u001b[34mSM_FRAMEWORK_PARAMS={}\u001b[0m\n",
      "\u001b[34mSM_OUTPUT_INTERMEDIATE_DIR=/opt/ml/output/intermediate\u001b[0m\n",
      "\u001b[34mSM_INPUT_DIR=/opt/ml/input\u001b[0m\n",
      "\u001b[34mSM_FRAMEWORK_MODULE=sagemaker_pytorch_container.training:main\u001b[0m\n",
      "\u001b[34mSM_OUTPUT_DATA_DIR=/opt/ml/output/data\u001b[0m\n",
      "\u001b[34mSM_INPUT_CONFIG_DIR=/opt/ml/input/config\u001b[0m\n",
      "\u001b[34mSM_USER_ARGS=[\"--epochs\",\"3\",\"--hidden_dim\",\"50\"]\u001b[0m\n",
      "\u001b[34mSM_NETWORK_INTERFACE_NAME=eth0\u001b[0m\n",
      "\u001b[34mSM_NUM_GPUS=0\u001b[0m\n",
      "\u001b[34mSM_LOG_LEVEL=20\u001b[0m\n",
      "\u001b[34mSM_CHANNELS=[\"training\"]\u001b[0m\n",
      "\u001b[34mSM_HP_HIDDEN_DIM=50\u001b[0m\n",
      "\u001b[34mSM_INPUT_DATA_CONFIG={\"training\":{\"RecordWrapperType\":\"None\",\"S3DistributionType\":\"FullyReplicated\",\"TrainingInputMode\":\"File\"}}\u001b[0m\n",
      "\u001b[34mSM_HPS={\"epochs\":3,\"hidden_dim\":50}\u001b[0m\n",
      "\u001b[34mSM_TRAINING_ENV={\"additional_framework_parameters\":{},\"channel_input_dirs\":{\"training\":\"/opt/ml/input/data/training\"},\"current_host\":\"algo-1\",\"framework_module\":\"sagemaker_pytorch_container.training:main\",\"hosts\":[\"algo-1\"],\"hyperparameters\":{\"epochs\":3,\"hidden_dim\":50},\"input_config_dir\":\"/opt/ml/input/config\",\"input_data_config\":{\"training\":{\"RecordWrapperType\":\"None\",\"S3DistributionType\":\"FullyReplicated\",\"TrainingInputMode\":\"File\"}},\"input_dir\":\"/opt/ml/input\",\"job_name\":\"sagemaker-pytorch-2020-01-03-09-47-11-275\",\"log_level\":20,\"model_dir\":\"/opt/ml/model\",\"module_dir\":\"s3://sagemaker-us-east-1-771228107104/sagemaker-pytorch-2020-01-03-09-47-11-275/source/sourcedir.tar.gz\",\"module_name\":\"train\",\"network_interface_name\":\"eth0\",\"num_cpus\":4,\"num_gpus\":0,\"output_data_dir\":\"/opt/ml/output/data\",\"output_dir\":\"/opt/ml/output\",\"output_intermediate_dir\":\"/opt/ml/output/intermediate\",\"resource_config\":{\"current_host\":\"algo-1\",\"hosts\":[\"algo-1\"],\"network_interface_name\":\"eth0\"},\"user_entry_point\":\"train.py\"}\u001b[0m\n",
      "\u001b[34mSM_MODULE_NAME=train\u001b[0m\n",
      "\u001b[34mSM_HOSTS=[\"algo-1\"]\u001b[0m\n",
      "\u001b[34mSM_RESOURCE_CONFIG={\"current_host\":\"algo-1\",\"hosts\":[\"algo-1\"],\"network_interface_name\":\"eth0\"}\u001b[0m\n",
      "\u001b[34mSM_CHANNEL_TRAINING=/opt/ml/input/data/training\u001b[0m\n",
      "\u001b[34mSM_OUTPUT_DIR=/opt/ml/output\n",
      "\u001b[0m\n",
      "\u001b[34mInvoking script with the following command:\n",
      "\u001b[0m\n",
      "\u001b[34m/usr/bin/python -m train --epochs 3 --hidden_dim 50\n",
      "\n",
      "\u001b[0m\n",
      "\u001b[34mUsing device cpu.\u001b[0m\n",
      "\u001b[34mGet train data loader.\u001b[0m\n",
      "\u001b[34mModel loaded with embedding_dim 32, hidden_dim 50, vocab_size 5000.\u001b[0m\n",
      "\u001b[34mEpoch: 1, BCELoss: 0.684104648171639\u001b[0m\n",
      "\u001b[34mEpoch: 2, BCELoss: 0.6285404842727038\u001b[0m\n",
      "\n",
      "2020-01-03 10:16:29 Uploading - Uploading generated training model\u001b[34mEpoch: 3, BCELoss: 0.5371696042771242\u001b[0m\n",
      "\u001b[34m2020-01-03 10:16:28,594 sagemaker-containers INFO     Reporting training SUCCESS\u001b[0m\n",
      "\n",
      "2020-01-03 10:16:35 Completed - Training job completed\n",
      "Training seconds: 1637\n",
      "Billable seconds: 1637\n"
     ]
    }
   ],
   "source": [
    "estimator.fit({'training': input_data})"
   ]
  },
  {
   "cell_type": "code",
   "execution_count": 81,
   "metadata": {},
   "outputs": [],
   "source": [
    "# Trainging job name:  sagemaker-pytorch-2020-01-03-09-47-11-275"
   ]
  },
  {
   "cell_type": "markdown",
   "metadata": {},
   "source": [
    "## Step 5: Testing the model\n",
    "\n",
    "As mentioned at the top of this notebook, we will be testing this model by first deploying it and then sending the testing data to the deployed endpoint. We will do this so that we can make sure that the deployed model is working correctly.\n",
    "\n",
    "## Step 6: Deploy the model for testing\n",
    "\n",
    "Now that we have trained our model, we would like to test it to see how it performs. Currently our model takes input of the form `review_length, review[500]` where `review[500]` is a sequence of `500` integers which describe the words present in the review, encoded using `word_dict`. Fortunately for us, SageMaker provides built-in inference code for models with simple inputs such as this.\n",
    "\n",
    "There is one thing that we need to provide, however, and that is a function which loads the saved model. This function must be called `model_fn()` and takes as its only parameter a path to the directory where the model artifacts are stored. This function must also be present in the python file which we specified as the entry point. In our case the model loading function has been provided and so no changes need to be made.\n",
    "\n",
    "**NOTE**: When the built-in inference code is run it must import the `model_fn()` method from the `train.py` file. This is why the training code is wrapped in a main guard ( ie, `if __name__ == '__main__':` )\n",
    "\n",
    "Since we don't need to change anything in the code that was uploaded during training, we can simply deploy the current model as-is.\n",
    "\n",
    "**NOTE:** When deploying a model you are asking SageMaker to launch an compute instance that will wait for data to be sent to it. As a result, this compute instance will continue to run until *you* shut it down. This is important to know since the cost of a deployed endpoint depends on how long it has been running for.\n",
    "\n",
    "In other words **If you are no longer using a deployed endpoint, shut it down!**\n",
    "\n",
    "**TODO:** Deploy the trained model."
   ]
  },
  {
   "cell_type": "code",
   "execution_count": 109,
   "metadata": {},
   "outputs": [
    {
     "name": "stderr",
     "output_type": "stream",
     "text": [
      "Using already existing model: sagemaker-pytorch-2020-01-03-09-47-11-275\n"
     ]
    },
    {
     "name": "stdout",
     "output_type": "stream",
     "text": [
      "---------------------------------------------------------------------------------------------------!"
     ]
    }
   ],
   "source": [
    "# TODO: Deploy the trained model\n",
    "predictor = estimator.deploy(initial_instance_count = 1, instance_type = 'ml.m4.xlarge')"
   ]
  },
  {
   "cell_type": "code",
   "execution_count": 108,
   "metadata": {},
   "outputs": [],
   "source": [
    "# estimator.endpoint"
   ]
  },
  {
   "cell_type": "markdown",
   "metadata": {},
   "source": [
    "## Step 7 - Use the model for testing\n",
    "\n",
    "Once deployed, we can read in the test data and send it off to our deployed model to get some results. Once we collect all of the results we can determine how accurate our model is."
   ]
  },
  {
   "cell_type": "code",
   "execution_count": 83,
   "metadata": {},
   "outputs": [],
   "source": [
    "test_X = pd.concat([pd.DataFrame(test_X_len), pd.DataFrame(test_X)], axis=1)"
   ]
  },
  {
   "cell_type": "code",
   "execution_count": 84,
   "metadata": {},
   "outputs": [],
   "source": [
    "# We split the data into chunks and send each chunk seperately, accumulating the results.\n",
    "\n",
    "def predict(data, rows=512):\n",
    "    split_array = np.array_split(data, int(data.shape[0] / float(rows) + 1))\n",
    "    predictions = np.array([])\n",
    "    for array in split_array:\n",
    "        predictions = np.append(predictions, predictor.predict(array))\n",
    "    \n",
    "    return predictions"
   ]
  },
  {
   "cell_type": "code",
   "execution_count": 85,
   "metadata": {},
   "outputs": [],
   "source": [
    "predictions = predict(test_X.values)\n",
    "predictions = [round(num) for num in predictions]"
   ]
  },
  {
   "cell_type": "code",
   "execution_count": 86,
   "metadata": {},
   "outputs": [
    {
     "data": {
      "text/plain": [
       "0.75444"
      ]
     },
     "execution_count": 86,
     "metadata": {},
     "output_type": "execute_result"
    }
   ],
   "source": [
    "from sklearn.metrics import accuracy_score\n",
    "accuracy_score(test_y, predictions)"
   ]
  },
  {
   "cell_type": "markdown",
   "metadata": {},
   "source": [
    "**Question:** How does this model compare to the XGBoost model you created earlier? Why might these two models perform differently on this dataset? Which do *you* think is better for sentiment analysis?"
   ]
  },
  {
   "cell_type": "markdown",
   "metadata": {},
   "source": [
    "**Answer:**\n",
    "XGBoost is a Gradient Boosting algorithm designed for smaller variable problems with lesser training and more accuracy. In contrast, Neural Network\\Deep learning is designed for large variable data in supervised/unsupervised types of learning. Also, it requires more training in order to achieve better results.\n",
    "\n",
    "I think that for the Sentiment Analysis, XGBoost is better. Firstly, because XGBoost considered the state-of-the art in most regression and classification problems with, in most cases, producing better results and less training. Also, it is important to take into account that this is a binary classification problem."
   ]
  },
  {
   "cell_type": "markdown",
   "metadata": {},
   "source": [
    "### (TODO) More testing\n",
    "\n",
    "We now have a trained model which has been deployed and which we can send processed reviews to and which returns the predicted sentiment. However, ultimately we would like to be able to send our model an unprocessed review. That is, we would like to send the review itself as a string. For example, suppose we wish to send the following review to our model."
   ]
  },
  {
   "cell_type": "code",
   "execution_count": 87,
   "metadata": {},
   "outputs": [],
   "source": [
    "test_review = 'The simplest pleasures in life are the best, and this film is one of them. Combining a rather basic storyline of love and adventure this movie transcends the usual weekend fair with wit and unmitigated charm.'"
   ]
  },
  {
   "cell_type": "markdown",
   "metadata": {},
   "source": [
    "The question we now need to answer is, how do we send this review to our model?\n",
    "\n",
    "Recall in the first section of this notebook we did a bunch of data processing to the IMDb dataset. In particular, we did two specific things to the provided reviews.\n",
    " - Removed any html tags and stemmed the input\n",
    " - Encoded the review as a sequence of integers using `word_dict`\n",
    " \n",
    "In order process the review we will need to repeat these two steps.\n",
    "\n",
    "**TODO**: Using the `review_to_words` and `convert_and_pad` methods from section one, convert `test_review` into a numpy array `test_data` suitable to send to our model. Remember that our model expects input of the form `review_length, review[500]`."
   ]
  },
  {
   "cell_type": "code",
   "execution_count": 90,
   "metadata": {},
   "outputs": [
    {
     "name": "stdout",
     "output_type": "stream",
     "text": [
      "[[   8    1    1 ...    0    0    0]\n",
      " [   7 1440 1223 ...    0    0    0]\n",
      " [   4 1223    1 ...    0    0    0]\n",
      " ...\n",
      " [   3 1811    1 ...    0    0    0]\n",
      " [   7 1096 1499 ...    0    0    0]\n",
      " [   5  894 1766 ...    0    0    0]]\n"
     ]
    }
   ],
   "source": [
    "# TODO: Convert test_review into a form usable by the model and save the results in test_data\n",
    "data_X = None\n",
    "data_len = None\n",
    "\n",
    "input_data_words = review_to_words(test_review)\n",
    "data_X, data_len = convert_and_pad_data(word_dict, input_data_words)\n",
    "\n",
    "# print(data_len)\n",
    "# print(data_X[0])\n",
    "\n",
    "data_pack = np.column_stack((data_len, data_X))\n",
    "print(data_pack)\n",
    "\n",
    "data_pack = data_pack.reshape(1, -1)\n",
    "\n",
    "data = torch.from_numpy(data_pack)\n",
    "data = data.to(device)"
   ]
  },
  {
   "cell_type": "code",
   "execution_count": 91,
   "metadata": {},
   "outputs": [
    {
     "name": "stdout",
     "output_type": "stream",
     "text": [
      "    0     0     1     2     3     4     5     6     7    8    ...  490  491  \\\n",
      "0     8     1     1     1  1440  1223   704     1     1    0  ...    0    0   \n",
      "1     7  1440  1223   704     1     1  1096  1206     0    0  ...    0    0   \n",
      "2     4  1223     1  1045   704     0     0     0     0    0  ...    0    0   \n",
      "3     4   425   704     1     1     0     0     0     0    0  ...    0    0   \n",
      "4     4  1045     1  1223     1     0     0     0     0    0  ...    0    0   \n",
      "5     3     1  1499   704     0     0     0     0     0    0  ...    0    0   \n",
      "6     6   894     1     1   425     1  1499     0     0    0  ...    0    0   \n",
      "7     6  1206     1     1  1766   704  1206     0     0    0  ...    0    0   \n",
      "8     5   425     1     1     1   894     0     0     0    0  ...    0    0   \n",
      "9     8     1     1     1  1206     1  1223     1  1499    0  ...    0    0   \n",
      "10    4  1223     1  1732   704     0     0     0     0    0  ...    0    0   \n",
      "11    8     1     1  1732   704  1499     1  1096  1206    0  ...    0    0   \n",
      "12    4     1     1  1732     1     0     0     0     0    0  ...    0    0   \n",
      "13    9     1  1206     1  1499     1   894   704  1499    1  ...    0    0   \n",
      "14    5  1096     1  1096     1  1223     0     0     0    0  ...    0    0   \n",
      "15    7  1811   704   704  1916   704  1499     1     0    0  ...    0    0   \n",
      "16    4  1045     1     1  1206     0     0     0     0    0  ...    0    0   \n",
      "17    3  1811     1     1     0     0     0     0     0    0  ...    0    0   \n",
      "18    7  1096  1499     1     1     1     1  1120     0    0  ...    0    0   \n",
      "19    5   894  1766     1  1206     1     0     0     0    0  ...    0    0   \n",
      "\n",
      "    492  493  494  495  496  497  498  499  \n",
      "0     0    0    0    0    0    0    0    0  \n",
      "1     0    0    0    0    0    0    0    0  \n",
      "2     0    0    0    0    0    0    0    0  \n",
      "3     0    0    0    0    0    0    0    0  \n",
      "4     0    0    0    0    0    0    0    0  \n",
      "5     0    0    0    0    0    0    0    0  \n",
      "6     0    0    0    0    0    0    0    0  \n",
      "7     0    0    0    0    0    0    0    0  \n",
      "8     0    0    0    0    0    0    0    0  \n",
      "9     0    0    0    0    0    0    0    0  \n",
      "10    0    0    0    0    0    0    0    0  \n",
      "11    0    0    0    0    0    0    0    0  \n",
      "12    0    0    0    0    0    0    0    0  \n",
      "13    0    0    0    0    0    0    0    0  \n",
      "14    0    0    0    0    0    0    0    0  \n",
      "15    0    0    0    0    0    0    0    0  \n",
      "16    0    0    0    0    0    0    0    0  \n",
      "17    0    0    0    0    0    0    0    0  \n",
      "18    0    0    0    0    0    0    0    0  \n",
      "19    0    0    0    0    0    0    0    0  \n",
      "\n",
      "[20 rows x 501 columns]\n"
     ]
    }
   ],
   "source": [
    "# TODO: Convert test_review into a form usable by the model and save the results in test_data\n",
    "test_data = None\n",
    "predictions = None\n",
    "test_review_words = review_to_words(test_review)\n",
    "test_data, test_data_len = convert_and_pad_data(word_dict, test_review_words)\n",
    "test_data = pd.concat([pd.DataFrame(test_data_len), pd.DataFrame(test_data)], axis=1)\n",
    "print(test_data)"
   ]
  },
  {
   "cell_type": "markdown",
   "metadata": {},
   "source": [
    "Now that we have processed the review, we can send the resulting array to our model to predict the sentiment of the review."
   ]
  },
  {
   "cell_type": "code",
   "execution_count": 92,
   "metadata": {},
   "outputs": [
    {
     "data": {
      "text/plain": [
       "array([0.5229633 , 0.46203643, 0.40732604, 0.57798123, 0.5157026 ,\n",
       "       0.44390136, 0.57145387, 0.41202128, 0.5569604 , 0.51953316,\n",
       "       0.40810463, 0.4694094 , 0.5417672 , 0.46436715, 0.5888852 ,\n",
       "       0.45851284, 0.46753258, 0.6019743 , 0.6220047 , 0.5115693 ],\n",
       "      dtype=float32)"
      ]
     },
     "execution_count": 92,
     "metadata": {},
     "output_type": "execute_result"
    }
   ],
   "source": [
    "predictor.predict(test_data)"
   ]
  },
  {
   "cell_type": "markdown",
   "metadata": {},
   "source": [
    "Since the return value of our model is close to `1`, we can be certain that the review we submitted is positive."
   ]
  },
  {
   "cell_type": "markdown",
   "metadata": {},
   "source": [
    "### Delete the endpoint\n",
    "\n",
    "Of course, just like in the XGBoost notebook, once we've deployed an endpoint it continues to run until we tell it to shut down. Since we are done using our endpoint for now, we can delete it."
   ]
  },
  {
   "cell_type": "code",
   "execution_count": 132,
   "metadata": {},
   "outputs": [],
   "source": [
    "# estimator.delete_endpoint()"
   ]
  },
  {
   "cell_type": "markdown",
   "metadata": {},
   "source": [
    "## Step 6 (again) - Deploy the model for the web app\n",
    "\n",
    "Now that we know that our model is working, it's time to create some custom inference code so that we can send the model a review which has not been processed and have it determine the sentiment of the review.\n",
    "\n",
    "As we saw above, by default the estimator which we created, when deployed, will use the entry script and directory which we provided when creating the model. However, since we now wish to accept a string as input and our model expects a processed review, we need to write some custom inference code.\n",
    "\n",
    "We will store the code that we write in the `serve` directory. Provided in this directory is the `model.py` file that we used to construct our model, a `utils.py` file which contains the `review_to_words` and `convert_and_pad` pre-processing functions which we used during the initial data processing, and `predict.py`, the file which will contain our custom inference code. Note also that `requirements.txt` is present which will tell SageMaker what Python libraries are required by our custom inference code.\n",
    "\n",
    "When deploying a PyTorch model in SageMaker, you are expected to provide four functions which the SageMaker inference container will use.\n",
    " - `model_fn`: This function is the same function that we used in the training script and it tells SageMaker how to load our model.\n",
    " - `input_fn`: This function receives the raw serialized input that has been sent to the model's endpoint and its job is to de-serialize and make the input available for the inference code.\n",
    " - `output_fn`: This function takes the output of the inference code and its job is to serialize this output and return it to the caller of the model's endpoint.\n",
    " - `predict_fn`: The heart of the inference script, this is where the actual prediction is done and is the function which you will need to complete.\n",
    "\n",
    "For the simple website that we are constructing during this project, the `input_fn` and `output_fn` methods are relatively straightforward. We only require being able to accept a string as input and we expect to return a single value as output. You might imagine though that in a more complex application the input or output may be image data or some other binary data which would require some effort to serialize.\n",
    "\n",
    "### (TODO) Writing inference code\n",
    "\n",
    "Before writing our custom inference code, we will begin by taking a look at the code which has been provided."
   ]
  },
  {
   "cell_type": "code",
   "execution_count": 112,
   "metadata": {},
   "outputs": [
    {
     "name": "stdout",
     "output_type": "stream",
     "text": [
      "\u001b[34mimport\u001b[39;49;00m \u001b[04m\u001b[36margparse\u001b[39;49;00m\n",
      "\u001b[34mimport\u001b[39;49;00m \u001b[04m\u001b[36mjson\u001b[39;49;00m\n",
      "\u001b[34mimport\u001b[39;49;00m \u001b[04m\u001b[36mos\u001b[39;49;00m\n",
      "\u001b[34mimport\u001b[39;49;00m \u001b[04m\u001b[36mpickle\u001b[39;49;00m\n",
      "\u001b[34mimport\u001b[39;49;00m \u001b[04m\u001b[36msys\u001b[39;49;00m\n",
      "\u001b[34mimport\u001b[39;49;00m \u001b[04m\u001b[36msagemaker_containers\u001b[39;49;00m\n",
      "\u001b[34mimport\u001b[39;49;00m \u001b[04m\u001b[36mpandas\u001b[39;49;00m \u001b[34mas\u001b[39;49;00m \u001b[04m\u001b[36mpd\u001b[39;49;00m\n",
      "\u001b[34mimport\u001b[39;49;00m \u001b[04m\u001b[36mnumpy\u001b[39;49;00m \u001b[34mas\u001b[39;49;00m \u001b[04m\u001b[36mnp\u001b[39;49;00m\n",
      "\u001b[34mimport\u001b[39;49;00m \u001b[04m\u001b[36mtorch\u001b[39;49;00m\n",
      "\u001b[34mimport\u001b[39;49;00m \u001b[04m\u001b[36mtorch.nn\u001b[39;49;00m \u001b[34mas\u001b[39;49;00m \u001b[04m\u001b[36mnn\u001b[39;49;00m\n",
      "\u001b[34mimport\u001b[39;49;00m \u001b[04m\u001b[36mtorch.optim\u001b[39;49;00m \u001b[34mas\u001b[39;49;00m \u001b[04m\u001b[36moptim\u001b[39;49;00m\n",
      "\u001b[34mimport\u001b[39;49;00m \u001b[04m\u001b[36mtorch.utils.data\u001b[39;49;00m\n",
      "\n",
      "\u001b[34mfrom\u001b[39;49;00m \u001b[04m\u001b[36mmodel\u001b[39;49;00m \u001b[34mimport\u001b[39;49;00m LSTMClassifier\n",
      "\n",
      "\u001b[34mfrom\u001b[39;49;00m \u001b[04m\u001b[36mutils\u001b[39;49;00m \u001b[34mimport\u001b[39;49;00m review_to_words, convert_and_pad\n",
      "\n",
      "\u001b[34mdef\u001b[39;49;00m \u001b[32mmodel_fn\u001b[39;49;00m(model_dir):\n",
      "    \u001b[33m\"\"\"Load the PyTorch model from the `model_dir` directory.\"\"\"\u001b[39;49;00m\n",
      "    \u001b[34mprint\u001b[39;49;00m(\u001b[33m\"\u001b[39;49;00m\u001b[33mLoading model.\u001b[39;49;00m\u001b[33m\"\u001b[39;49;00m)\n",
      "\n",
      "    \u001b[37m# First, load the parameters used to create the model.\u001b[39;49;00m\n",
      "    model_info = {}\n",
      "    model_info_path = os.path.join(model_dir, \u001b[33m'\u001b[39;49;00m\u001b[33mmodel_info.pth\u001b[39;49;00m\u001b[33m'\u001b[39;49;00m)\n",
      "    \u001b[34mwith\u001b[39;49;00m \u001b[36mopen\u001b[39;49;00m(model_info_path, \u001b[33m'\u001b[39;49;00m\u001b[33mrb\u001b[39;49;00m\u001b[33m'\u001b[39;49;00m) \u001b[34mas\u001b[39;49;00m f:\n",
      "        model_info = torch.load(f)\n",
      "\n",
      "    \u001b[34mprint\u001b[39;49;00m(\u001b[33m\"\u001b[39;49;00m\u001b[33mmodel_info: {}\u001b[39;49;00m\u001b[33m\"\u001b[39;49;00m.format(model_info))\n",
      "\n",
      "    \u001b[37m# Determine the device and construct the model.\u001b[39;49;00m\n",
      "    device = torch.device(\u001b[33m\"\u001b[39;49;00m\u001b[33mcuda\u001b[39;49;00m\u001b[33m\"\u001b[39;49;00m \u001b[34mif\u001b[39;49;00m torch.cuda.is_available() \u001b[34melse\u001b[39;49;00m \u001b[33m\"\u001b[39;49;00m\u001b[33mcpu\u001b[39;49;00m\u001b[33m\"\u001b[39;49;00m)\n",
      "    model = LSTMClassifier(model_info[\u001b[33m'\u001b[39;49;00m\u001b[33membedding_dim\u001b[39;49;00m\u001b[33m'\u001b[39;49;00m], model_info[\u001b[33m'\u001b[39;49;00m\u001b[33mhidden_dim\u001b[39;49;00m\u001b[33m'\u001b[39;49;00m], model_info[\u001b[33m'\u001b[39;49;00m\u001b[33mvocab_size\u001b[39;49;00m\u001b[33m'\u001b[39;49;00m])\n",
      "\n",
      "    \u001b[37m# Load the store model parameters.\u001b[39;49;00m\n",
      "    model_path = os.path.join(model_dir, \u001b[33m'\u001b[39;49;00m\u001b[33mmodel.pth\u001b[39;49;00m\u001b[33m'\u001b[39;49;00m)\n",
      "    \u001b[34mwith\u001b[39;49;00m \u001b[36mopen\u001b[39;49;00m(model_path, \u001b[33m'\u001b[39;49;00m\u001b[33mrb\u001b[39;49;00m\u001b[33m'\u001b[39;49;00m) \u001b[34mas\u001b[39;49;00m f:\n",
      "        model.load_state_dict(torch.load(f))\n",
      "\n",
      "    \u001b[37m# Load the saved word_dict.\u001b[39;49;00m\n",
      "    word_dict_path = os.path.join(model_dir, \u001b[33m'\u001b[39;49;00m\u001b[33mword_dict.pkl\u001b[39;49;00m\u001b[33m'\u001b[39;49;00m)\n",
      "    \u001b[34mwith\u001b[39;49;00m \u001b[36mopen\u001b[39;49;00m(word_dict_path, \u001b[33m'\u001b[39;49;00m\u001b[33mrb\u001b[39;49;00m\u001b[33m'\u001b[39;49;00m) \u001b[34mas\u001b[39;49;00m f:\n",
      "        model.word_dict = pickle.load(f)\n",
      "\n",
      "    model.to(device).eval()\n",
      "\n",
      "    \u001b[34mprint\u001b[39;49;00m(\u001b[33m\"\u001b[39;49;00m\u001b[33mDone loading model.\u001b[39;49;00m\u001b[33m\"\u001b[39;49;00m)\n",
      "    \u001b[34mreturn\u001b[39;49;00m model\n",
      "\n",
      "\u001b[34mdef\u001b[39;49;00m \u001b[32minput_fn\u001b[39;49;00m(serialized_input_data, content_type):\n",
      "    \u001b[34mprint\u001b[39;49;00m(\u001b[33m'\u001b[39;49;00m\u001b[33mDeserializing the input data.\u001b[39;49;00m\u001b[33m'\u001b[39;49;00m)\n",
      "    \u001b[34mif\u001b[39;49;00m content_type == \u001b[33m'\u001b[39;49;00m\u001b[33mtext/plain\u001b[39;49;00m\u001b[33m'\u001b[39;49;00m:\n",
      "        data = serialized_input_data.decode(\u001b[33m'\u001b[39;49;00m\u001b[33mutf-8\u001b[39;49;00m\u001b[33m'\u001b[39;49;00m)\n",
      "        \u001b[34mreturn\u001b[39;49;00m data\n",
      "    \u001b[34mraise\u001b[39;49;00m \u001b[36mException\u001b[39;49;00m(\u001b[33m'\u001b[39;49;00m\u001b[33mRequested unsupported ContentType in content_type: \u001b[39;49;00m\u001b[33m'\u001b[39;49;00m + content_type)\n",
      "\n",
      "\u001b[34mdef\u001b[39;49;00m \u001b[32moutput_fn\u001b[39;49;00m(prediction_output, accept):\n",
      "    \u001b[34mprint\u001b[39;49;00m(\u001b[33m'\u001b[39;49;00m\u001b[33mSerializing the generated output.\u001b[39;49;00m\u001b[33m'\u001b[39;49;00m)\n",
      "    \u001b[34mreturn\u001b[39;49;00m \u001b[36mstr\u001b[39;49;00m(prediction_output)\n",
      "\n",
      "\u001b[34mdef\u001b[39;49;00m \u001b[32mpredict_fn\u001b[39;49;00m(input_data, model):\n",
      "    \u001b[34mprint\u001b[39;49;00m(\u001b[33m'\u001b[39;49;00m\u001b[33mInferring sentiment of input data.\u001b[39;49;00m\u001b[33m'\u001b[39;49;00m)\n",
      "\n",
      "    device = torch.device(\u001b[33m\"\u001b[39;49;00m\u001b[33mcuda\u001b[39;49;00m\u001b[33m\"\u001b[39;49;00m \u001b[34mif\u001b[39;49;00m torch.cuda.is_available() \u001b[34melse\u001b[39;49;00m \u001b[33m\"\u001b[39;49;00m\u001b[33mcpu\u001b[39;49;00m\u001b[33m\"\u001b[39;49;00m)\n",
      "    \n",
      "    \u001b[34mif\u001b[39;49;00m model.word_dict \u001b[35mis\u001b[39;49;00m \u001b[36mNone\u001b[39;49;00m:\n",
      "        \u001b[34mraise\u001b[39;49;00m \u001b[36mException\u001b[39;49;00m(\u001b[33m'\u001b[39;49;00m\u001b[33mModel has not been loaded properly, no word_dict.\u001b[39;49;00m\u001b[33m'\u001b[39;49;00m)\n",
      "    \n",
      "    \u001b[37m# TODO: Process input_data so that it is ready to be sent to our model.\u001b[39;49;00m\n",
      "    \u001b[37m#       You should produce two variables:\u001b[39;49;00m\n",
      "    \u001b[37m#         data_X   - A sequence of length 500 which represents the converted review\u001b[39;49;00m\n",
      "    \u001b[37m#         data_len - The length of the review\u001b[39;49;00m\n",
      "\n",
      "    data_X = \u001b[36mNone\u001b[39;49;00m\n",
      "    data_len = \u001b[36mNone\u001b[39;49;00m\n",
      "    input_data_word = review_to_words(test_review)\n",
      "    data_X, data_len = convert_and_pad_data(word_dict, input_data_words)    \n",
      "\n",
      "    \u001b[37m# Using data_X and data_len we construct an appropriate input tensor. Remember\u001b[39;49;00m\n",
      "    \u001b[37m# that our model expects input data of the form 'len, review[500]'.\u001b[39;49;00m\n",
      "    data_pack = np.hstack((data_len, data_X))\n",
      "    data_pack = data_pack.reshape(\u001b[34m1\u001b[39;49;00m, -\u001b[34m1\u001b[39;49;00m)\n",
      "    \n",
      "    data = torch.from_numpy(data_pack)\n",
      "    data = data.to(device)\n",
      "\n",
      "    \u001b[37m# Make sure to put the model into evaluation mode\u001b[39;49;00m\n",
      "    model.eval()\n",
      "\n",
      "    \u001b[37m# TODO: Compute the result of applying the model to the input data. The variable `result` should\u001b[39;49;00m\n",
      "    \u001b[37m#       be a numpy array which contains a single integer which is either 1 or 0\u001b[39;49;00m\n",
      "    \n",
      "    \u001b[34mwith\u001b[39;49;00m torch.no_grad():\n",
      "        output = model.forward(data)\n",
      "        \n",
      "    result = np.round(output.numpy())\n",
      "    \u001b[34mprint\u001b[39;49;00m(result)\n",
      "    \n",
      "    \u001b[34mreturn\u001b[39;49;00m result\n",
      "\n",
      "\u001b[34mdef\u001b[39;49;00m \u001b[32mreview_to_words\u001b[39;49;00m(review):\n",
      "    nltk.download(\u001b[33m\"\u001b[39;49;00m\u001b[33mstopwords\u001b[39;49;00m\u001b[33m\"\u001b[39;49;00m, quiet=\u001b[36mTrue\u001b[39;49;00m)\n",
      "    stemmer = PorterStemmer()\n",
      "    \n",
      "    text = BeautifulSoup(review, \u001b[33m\"\u001b[39;49;00m\u001b[33mhtml.parser\u001b[39;49;00m\u001b[33m\"\u001b[39;49;00m).get_text() \u001b[37m# Remove HTML tags\u001b[39;49;00m\n",
      "    text = re.sub(\u001b[33mr\u001b[39;49;00m\u001b[33m\"\u001b[39;49;00m\u001b[33m[^a-zA-Z0-9]\u001b[39;49;00m\u001b[33m\"\u001b[39;49;00m, \u001b[33m\"\u001b[39;49;00m\u001b[33m \u001b[39;49;00m\u001b[33m\"\u001b[39;49;00m, text.lower()) \u001b[37m# Convert to lower case\u001b[39;49;00m\n",
      "    words = text.split() \u001b[37m# Split string into words\u001b[39;49;00m\n",
      "    words = [w \u001b[34mfor\u001b[39;49;00m w \u001b[35min\u001b[39;49;00m words \u001b[34mif\u001b[39;49;00m w \u001b[35mnot\u001b[39;49;00m \u001b[35min\u001b[39;49;00m stopwords.words(\u001b[33m\"\u001b[39;49;00m\u001b[33menglish\u001b[39;49;00m\u001b[33m\"\u001b[39;49;00m)] \u001b[37m# Remove stopwords\u001b[39;49;00m\n",
      "    words = [PorterStemmer().stem(w) \u001b[34mfor\u001b[39;49;00m w \u001b[35min\u001b[39;49;00m words] \u001b[37m# stem\u001b[39;49;00m\n",
      "    \n",
      "    \u001b[34mreturn\u001b[39;49;00m words\n",
      "\n",
      "\u001b[34mdef\u001b[39;49;00m \u001b[32mconvert_and_pad\u001b[39;49;00m(word_dict, sentence, pad=\u001b[34m500\u001b[39;49;00m):\n",
      "    NOWORD = \u001b[34m0\u001b[39;49;00m \u001b[37m# We will use 0 to represent the 'no word' category\u001b[39;49;00m\n",
      "    INFREQ = \u001b[34m1\u001b[39;49;00m \u001b[37m# and we use 1 to represent the infrequent words, i.e., words not appearing in word_dict\u001b[39;49;00m\n",
      "    \n",
      "    working_sentence = [NOWORD] * pad\n",
      "    \n",
      "    \u001b[34mfor\u001b[39;49;00m word_index, word \u001b[35min\u001b[39;49;00m \u001b[36menumerate\u001b[39;49;00m(sentence[:pad]):\n",
      "        \u001b[34mif\u001b[39;49;00m word \u001b[35min\u001b[39;49;00m word_dict:\n",
      "            working_sentence[word_index] = word_dict[word]\n",
      "        \u001b[34melse\u001b[39;49;00m:\n",
      "            working_sentence[word_index] = INFREQ\n",
      "            \n",
      "    \u001b[34mreturn\u001b[39;49;00m working_sentence, \u001b[36mmin\u001b[39;49;00m(\u001b[36mlen\u001b[39;49;00m(sentence), pad)\n",
      "\n",
      "\u001b[34mdef\u001b[39;49;00m \u001b[32mconvert_and_pad_data\u001b[39;49;00m(word_dict, data, pad=\u001b[34m500\u001b[39;49;00m):\n",
      "    result = []\n",
      "    lengths = []\n",
      "    \n",
      "    \u001b[34mfor\u001b[39;49;00m sentence \u001b[35min\u001b[39;49;00m data:\n",
      "        converted, leng = convert_and_pad(word_dict, sentence, pad)\n",
      "        result.append(converted)\n",
      "        lengths.append(leng)\n",
      "        \n",
      "    \u001b[34mreturn\u001b[39;49;00m np.array(result), np.array(lengths)\n"
     ]
    }
   ],
   "source": [
    "!pygmentize serve/predict.py"
   ]
  },
  {
   "cell_type": "markdown",
   "metadata": {},
   "source": [
    "As mentioned earlier, the `model_fn` method is the same as the one provided in the training code and the `input_fn` and `output_fn` methods are very simple and your task will be to complete the `predict_fn` method. Make sure that you save the completed file as `predict.py` in the `serve` directory.\n",
    "\n",
    "**TODO**: Complete the `predict_fn()` method in the `serve/predict.py` file."
   ]
  },
  {
   "cell_type": "markdown",
   "metadata": {},
   "source": [
    "### Deploying the model\n",
    "\n",
    "Now that the custom inference code has been written, we will create and deploy our model. To begin with, we need to construct a new PyTorchModel object which points to the model artifacts created during training and also points to the inference code that we wish to use. Then we can call the deploy method to launch the deployment container.\n",
    "\n",
    "**NOTE**: The default behaviour for a deployed PyTorch model is to assume that any input passed to the predictor is a `numpy` array. In our case we want to send a string so we need to construct a simple wrapper around the `RealTimePredictor` class to accomodate simple strings. In a more complicated situation you may want to provide a serialization object, for example if you wanted to sent image data."
   ]
  },
  {
   "cell_type": "code",
   "execution_count": 152,
   "metadata": {},
   "outputs": [
    {
     "name": "stdout",
     "output_type": "stream",
     "text": [
      "---------------------------------------------------------------------------------------------------------------!"
     ]
    }
   ],
   "source": [
    "from sagemaker.predictor import RealTimePredictor\n",
    "from sagemaker.pytorch import PyTorchModel\n",
    "\n",
    "class StringPredictor(RealTimePredictor):\n",
    "    def __init__(self, endpoint_name, sagemaker_session):\n",
    "        super(StringPredictor, self).__init__(endpoint_name, sagemaker_session, content_type='text/plain')\n",
    "\n",
    "model = PyTorchModel(model_data=estimator.model_data,\n",
    "                     role = role,\n",
    "                     framework_version='0.4.0',\n",
    "                     entry_point='predict.py',\n",
    "                     source_dir='serve',\n",
    "                     predictor_cls=StringPredictor)\n",
    "predictor = model.deploy(initial_instance_count=1, instance_type='ml.m4.xlarge')"
   ]
  },
  {
   "cell_type": "code",
   "execution_count": 157,
   "metadata": {},
   "outputs": [
    {
     "data": {
      "text/plain": [
       "'sagemaker-pytorch-2020-01-03-12-18-59-638'"
      ]
     },
     "execution_count": 157,
     "metadata": {},
     "output_type": "execute_result"
    }
   ],
   "source": [
    "predictor.endpoint"
   ]
  },
  {
   "cell_type": "code",
   "execution_count": 151,
   "metadata": {},
   "outputs": [],
   "source": [
    "# predictor.delete_endpoint()"
   ]
  },
  {
   "cell_type": "markdown",
   "metadata": {},
   "source": [
    "### Testing the model\n",
    "\n",
    "Now that we have deployed our model with the custom inference code, we should test to see if everything is working. Here we test our model by loading the first `250` positive and negative reviews and send them to the endpoint, then collect the results. The reason for only sending some of the data is that the amount of time it takes for our model to process the input and then perform inference is quite long and so testing the entire data set would be prohibitive."
   ]
  },
  {
   "cell_type": "code",
   "execution_count": 153,
   "metadata": {},
   "outputs": [],
   "source": [
    "import glob\n",
    "\n",
    "def test_reviews(data_dir='../data/aclImdb', stop=250):\n",
    "    \n",
    "    results = []\n",
    "    ground = []\n",
    "    \n",
    "    # We make sure to test both positive and negative reviews    \n",
    "    for sentiment in ['pos', 'neg']:\n",
    "        \n",
    "        path = os.path.join(data_dir, 'test', sentiment, '*.txt')\n",
    "        files = glob.glob(path)\n",
    "        \n",
    "        files_read = 0\n",
    "        \n",
    "        print('Starting ', sentiment, ' files')\n",
    "        \n",
    "        # Iterate through the files and send them to the predictor\n",
    "        for f in files:\n",
    "            with open(f) as review:\n",
    "                # First, we store the ground truth (was the review positive or negative)\n",
    "                if sentiment == 'pos':\n",
    "                    ground.append(1)\n",
    "                else:\n",
    "                    ground.append(0)\n",
    "                # Read in the review and convert to 'utf-8' for transmission via HTTP\n",
    "                review_input = review.read().encode('utf-8')\n",
    "                # Send the review to the predictor and store the results\n",
    "                result_s = predictor.predict(review_input).decode('UTF-8')\n",
    "                result_s = int(float(result_s))\n",
    "                # review_input = int.from_bytes(review_input, byteorder='big', signed=True)\n",
    "                # print(result_s)\n",
    "                results.append(result_s)\n",
    "                \n",
    "            # Sending reviews to our endpoint one at a time takes a while so we\n",
    "            # only send a small number of reviews\n",
    "            files_read += 1\n",
    "            if files_read == stop:\n",
    "                break\n",
    "            \n",
    "    return ground, results"
   ]
  },
  {
   "cell_type": "code",
   "execution_count": 154,
   "metadata": {},
   "outputs": [
    {
     "name": "stdout",
     "output_type": "stream",
     "text": [
      "Starting  pos  files\n",
      "Starting  neg  files\n"
     ]
    }
   ],
   "source": [
    "ground, results = test_reviews()"
   ]
  },
  {
   "cell_type": "code",
   "execution_count": 155,
   "metadata": {},
   "outputs": [
    {
     "data": {
      "text/plain": [
       "0.768"
      ]
     },
     "execution_count": 155,
     "metadata": {},
     "output_type": "execute_result"
    }
   ],
   "source": [
    "from sklearn.metrics import accuracy_score\n",
    "accuracy_score(ground, results)"
   ]
  },
  {
   "cell_type": "markdown",
   "metadata": {},
   "source": [
    "As an additional test, we can try sending the `test_review` that we looked at earlier."
   ]
  },
  {
   "cell_type": "code",
   "execution_count": 156,
   "metadata": {},
   "outputs": [
    {
     "data": {
      "text/plain": [
       "'1.0'"
      ]
     },
     "execution_count": 156,
     "metadata": {},
     "output_type": "execute_result"
    }
   ],
   "source": [
    "test_review = 'The simplest pleasures in life are the best, and this film is one of them. Combining a rather basic storyline of love and adventure this movie transcends the usual weekend fair with wit and unmitigated charm.'\n",
    "predictor.predict(test_review).decode('UTF-8')"
   ]
  },
  {
   "cell_type": "markdown",
   "metadata": {},
   "source": [
    "Now that we know our endpoint is working as expected, we can set up the web page that will interact with it. If you don't have time to finish the project now, make sure to skip down to the end of this notebook and shut down your endpoint. You can deploy it again when you come back."
   ]
  },
  {
   "cell_type": "markdown",
   "metadata": {},
   "source": [
    "## Step 7 (again): Use the model for the web app\n",
    "\n",
    "> **TODO:** This entire section and the next contain tasks for you to complete, mostly using the AWS console.\n",
    "\n",
    "So far we have been accessing our model endpoint by constructing a predictor object which uses the endpoint and then just using the predictor object to perform inference. What if we wanted to create a web app which accessed our model? The way things are set up currently makes that not possible since in order to access a SageMaker endpoint the app would first have to authenticate with AWS using an IAM role which included access to SageMaker endpoints. However, there is an easier way! We just need to use some additional AWS services.\n",
    "\n",
    "<img src=\"Web App Diagram.svg\">\n",
    "\n",
    "The diagram above gives an overview of how the various services will work together. On the far right is the model which we trained above and which is deployed using SageMaker. On the far left is our web app that collects a user's movie review, sends it off and expects a positive or negative sentiment in return.\n",
    "\n",
    "In the middle is where some of the magic happens. We will construct a Lambda function, which you can think of as a straightforward Python function that can be executed whenever a specified event occurs. We will give this function permission to send and recieve data from a SageMaker endpoint.\n",
    "\n",
    "Lastly, the method we will use to execute the Lambda function is a new endpoint that we will create using API Gateway. This endpoint will be a url that listens for data to be sent to it. Once it gets some data it will pass that data on to the Lambda function and then return whatever the Lambda function returns. Essentially it will act as an interface that lets our web app communicate with the Lambda function.\n",
    "\n",
    "### Setting up a Lambda function\n",
    "\n",
    "The first thing we are going to do is set up a Lambda function. This Lambda function will be executed whenever our public API has data sent to it. When it is executed it will receive the data, perform any sort of processing that is required, send the data (the review) to the SageMaker endpoint we've created and then return the result.\n",
    "\n",
    "#### Part A: Create an IAM Role for the Lambda function\n",
    "\n",
    "Since we want the Lambda function to call a SageMaker endpoint, we need to make sure that it has permission to do so. To do this, we will construct a role that we can later give the Lambda function.\n",
    "\n",
    "Using the AWS Console, navigate to the **IAM** page and click on **Roles**. Then, click on **Create role**. Make sure that the **AWS service** is the type of trusted entity selected and choose **Lambda** as the service that will use this role, then click **Next: Permissions**.\n",
    "\n",
    "In the search box type `sagemaker` and select the check box next to the **AmazonSageMakerFullAccess** policy. Then, click on **Next: Review**.\n",
    "\n",
    "Lastly, give this role a name. Make sure you use a name that you will remember later on, for example `LambdaSageMakerRole`. Then, click on **Create role**.\n",
    "\n",
    "#### Part B: Create a Lambda function\n",
    "\n",
    "Now it is time to actually create the Lambda function.\n",
    "\n",
    "Using the AWS Console, navigate to the AWS Lambda page and click on **Create a function**. When you get to the next page, make sure that **Author from scratch** is selected. Now, name your Lambda function, using a name that you will remember later on, for example `sentiment_analysis_func`. Make sure that the **Python 3.6** runtime is selected and then choose the role that you created in the previous part. Then, click on **Create Function**.\n",
    "\n",
    "On the next page you will see some information about the Lambda function you've just created. If you scroll down you should see an editor in which you can write the code that will be executed when your Lambda function is triggered. In our example, we will use the code below. \n",
    "\n",
    "```python\n",
    "# We need to use the low-level library to interact with SageMaker since the SageMaker API\n",
    "# is not available natively through Lambda.\n",
    "import boto3\n",
    "\n",
    "def lambda_handler(event, context):\n",
    "\n",
    "    # The SageMaker runtime is what allows us to invoke the endpoint that we've created.\n",
    "    runtime = boto3.Session().client('sagemaker-runtime')\n",
    "\n",
    "    # Now we use the SageMaker runtime to invoke our endpoint, sending the review we were given\n",
    "    response = runtime.invoke_endpoint(EndpointName = '**ENDPOINT NAME HERE**',    # The name of the endpoint we created\n",
    "                                       ContentType = 'text/plain',                 # The data format that is expected\n",
    "                                       Body = event['body'])                       # The actual review\n",
    "\n",
    "    # The response is an HTTP response whose body contains the result of our inference\n",
    "    result = response['Body'].read().decode('utf-8')\n",
    "\n",
    "    return {\n",
    "        'statusCode' : 200,\n",
    "        'headers' : { 'Content-Type' : 'text/plain', 'Access-Control-Allow-Origin' : '*' },\n",
    "        'body' : result\n",
    "    }\n",
    "```\n",
    "\n",
    "Once you have copy and pasted the code above into the Lambda code editor, replace the `**ENDPOINT NAME HERE**` portion with the name of the endpoint that we deployed earlier. You can determine the name of the endpoint using the code cell below."
   ]
  },
  {
   "cell_type": "code",
   "execution_count": 158,
   "metadata": {},
   "outputs": [
    {
     "data": {
      "text/plain": [
       "'sagemaker-pytorch-2020-01-03-12-18-59-638'"
      ]
     },
     "execution_count": 158,
     "metadata": {},
     "output_type": "execute_result"
    }
   ],
   "source": [
    "predictor.endpoint"
   ]
  },
  {
   "cell_type": "markdown",
   "metadata": {},
   "source": [
    "Once you have added the endpoint name to the Lambda function, click on **Save**. Your Lambda function is now up and running. Next we need to create a way for our web app to execute the Lambda function.\n",
    "\n",
    "### Setting up API Gateway\n",
    "\n",
    "Now that our Lambda function is set up, it is time to create a new API using API Gateway that will trigger the Lambda function we have just created.\n",
    "\n",
    "Using AWS Console, navigate to **Amazon API Gateway** and then click on **Get started**.\n",
    "\n",
    "On the next page, make sure that **New API** is selected and give the new api a name, for example, `sentiment_analysis_api`. Then, click on **Create API**.\n",
    "\n",
    "Now we have created an API, however it doesn't currently do anything. What we want it to do is to trigger the Lambda function that we created earlier.\n",
    "\n",
    "Select the **Actions** dropdown menu and click **Create Method**. A new blank method will be created, select its dropdown menu and select **POST**, then click on the check mark beside it.\n",
    "\n",
    "For the integration point, make sure that **Lambda Function** is selected and click on the **Use Lambda Proxy integration**. This option makes sure that the data that is sent to the API is then sent directly to the Lambda function with no processing. It also means that the return value must be a proper response object as it will also not be processed by API Gateway.\n",
    "\n",
    "Type the name of the Lambda function you created earlier into the **Lambda Function** text entry box and then click on **Save**. Click on **OK** in the pop-up box that then appears, giving permission to API Gateway to invoke the Lambda function you created.\n",
    "\n",
    "The last step in creating the API Gateway is to select the **Actions** dropdown and click on **Deploy API**. You will need to create a new Deployment stage and name it anything you like, for example `prod`.\n",
    "\n",
    "You have now successfully set up a public API to access your SageMaker model. Make sure to copy or write down the URL provided to invoke your newly created public API as this will be needed in the next step. This URL can be found at the top of the page, highlighted in blue next to the text **Invoke URL**."
   ]
  },
  {
   "cell_type": "markdown",
   "metadata": {},
   "source": [
    "## Step 4: Deploying our web app\n",
    "\n",
    "Now that we have a publicly available API, we can start using it in a web app. For our purposes, we have provided a simple static html file which can make use of the public api you created earlier.\n",
    "\n",
    "In the `website` folder there should be a file called `index.html`. Download the file to your computer and open that file up in a text editor of your choice. There should be a line which contains **\\*\\*REPLACE WITH PUBLIC API URL\\*\\***. Replace this string with the url that you wrote down in the last step and then save the file.\n",
    "\n",
    "Now, if you open `index.html` on your local computer, your browser will behave as a local web server and you can use the provided site to interact with your SageMaker model.\n",
    "\n",
    "If you'd like to go further, you can host this html file anywhere you'd like, for example using github or hosting a static site on Amazon's S3. Once you have done this you can share the link with anyone you'd like and have them play with it too!\n",
    "\n",
    "> **Important Note** In order for the web app to communicate with the SageMaker endpoint, the endpoint has to actually be deployed and running. This means that you are paying for it. Make sure that the endpoint is running when you want to use the web app but that you shut it down when you don't need it, otherwise you will end up with a surprisingly large AWS bill.\n",
    "\n",
    "**TODO:** Make sure that you include the edited `index.html` file in your project submission."
   ]
  },
  {
   "cell_type": "markdown",
   "metadata": {},
   "source": [
    "Now that your web app is working, trying playing around with it and see how well it works.\n",
    "\n",
    "**Question**: Give an example of a review that you entered into your web app. What was the predicted sentiment of your example review?"
   ]
  },
  {
   "cell_type": "markdown",
   "metadata": {},
   "source": [
    "**Answer:**\n",
    "\n",
    "\n",
    "I took reviews from RottenTomatoes for SW:The Rise of Skylwaker: https://www.rottentomatoes.com/m/star_wars_the_rise_of_skywalker#contentReviews\n",
    "\n",
    "Critic: Best of the Last three with thrills, laughs and melancholy, the acting is very good especially Ridley and Driver. Gave me the nostalgia of the original trilogy which was during my childhood. A fitting way to end the current story!\n",
    "\n",
    "Result: Positive\n",
    "\n",
    "---- \n",
    "\n",
    "Critic: If you disliked \"The Last Jedi\" (like I did), you'll like - but probably not love - \"The Rise of Skywalker.\" If you liked \"The Last Jedi,\" this review might not be for you.\n",
    "\n",
    "Result: Negative \n",
    "\n",
    "---- \n",
    "Critic: Well, that’s over. After Rian Johnson’s Episode VIII: The Riling of the Fanbase, Disney lets J.J. Abrams resume the Star Wars cockpit, and the man who gave new meaning to fan service with The Force Awakens wastes no time before initiating course correction. When we meet up with brash pilot Poe, he’s lightspeed-skipping his way out of trouble, and Abrams is in much the same mode, whisking you from one thing to the next before you have much time to think or feel anything in response. Suffice to say, there’s a terrible new (or old, depending on how you reckon it) threat out there, and very little time to do anything about it, and our heroes need to find a clue that will help them find a tracker that will help them find…you get the idea. Mission, mission, mission, and hope the characters can register along the way. They can’t, not when they’re made to do things that don’t make much sense except in the service of spectacle — viz. just about every Force-fed encounter between conflicted baddie Kylo Ren and even more conflicted goodie Rey. (One of them includes the film’s biggest howler: a version of Obi-Wan’s “What I said was true, from a certain point of view” that serves as a direct rebuke of Johnson’s vision.) It’s a ride, but it’s exhausting, and not just for the audience: by the time Poe is rallying the troops for the big battle, he sounds utterly pooped. It’s a pity; the big battle in the sky is a bust, but the personal drama that goes on down below feels like what Abrams should have been attending to all along. Fans of the series will groove to the old familiar beats and see the old familiar sights. For some, that will be enough — maybe even satisfying. Others may find themselves wondering exactly why they used to love this stuff so much.\n",
    "\n",
    "Result: Positive\n",
    "\n",
    "---- \n",
    "Critic: The film is horrible. I don't recommend to spend a single minute watching this trash.\n",
    "\n",
    "Result: Negative"
   ]
  },
  {
   "cell_type": "markdown",
   "metadata": {},
   "source": [
    "### Delete the endpoint\n",
    "\n",
    "Remember to always shut down your endpoint if you are no longer using it. You are charged for the length of time that the endpoint is running so if you forget and leave it on you could end up with an unexpectedly large bill."
   ]
  },
  {
   "cell_type": "code",
   "execution_count": 160,
   "metadata": {},
   "outputs": [],
   "source": [
    "predictor.delete_endpoint()"
   ]
  },
  {
   "cell_type": "code",
   "execution_count": null,
   "metadata": {},
   "outputs": [],
   "source": []
  }
 ],
 "metadata": {
  "kernelspec": {
   "display_name": "conda_pytorch_p36",
   "language": "python",
   "name": "conda_pytorch_p36"
  },
  "language_info": {
   "codemirror_mode": {
    "name": "ipython",
    "version": 3
   },
   "file_extension": ".py",
   "mimetype": "text/x-python",
   "name": "python",
   "nbconvert_exporter": "python",
   "pygments_lexer": "ipython3",
   "version": "3.6.5"
  }
 },
 "nbformat": 4,
 "nbformat_minor": 4
}
